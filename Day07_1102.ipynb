{
  "nbformat": 4,
  "nbformat_minor": 0,
  "metadata": {
    "colab": {
      "provenance": [],
      "authorship_tag": "ABX9TyPyCWWwc12WW63XJ1CW1+xr",
      "include_colab_link": true
    },
    "kernelspec": {
      "name": "python3",
      "display_name": "Python 3"
    },
    "language_info": {
      "name": "python"
    }
  },
  "cells": [
    {
      "cell_type": "markdown",
      "metadata": {
        "id": "view-in-github",
        "colab_type": "text"
      },
      "source": [
        "<a href=\"https://colab.research.google.com/github/AmitUdugade/PythonBasicsWorkspace/blob/main/Day07_1102.ipynb\" target=\"_parent\"><img src=\"https://colab.research.google.com/assets/colab-badge.svg\" alt=\"Open In Colab\"/></a>"
      ]
    },
    {
      "cell_type": "code",
      "execution_count": null,
      "metadata": {
        "colab": {
          "base_uri": "https://localhost:8080/"
        },
        "id": "hc55Aa5v7st-",
        "outputId": "97b43ed1-6bc2-45d5-99f1-88729ffa0281"
      },
      "outputs": [
        {
          "output_type": "execute_result",
          "data": {
            "text/plain": [
              "['Java', 10, 20, 30, 40, 50]"
            ]
          },
          "metadata": {},
          "execution_count": 2
        }
      ],
      "source": [
        "e1 = [10, 20, 30, 40, 50]\n",
        "\n",
        "e1.insert(0, \"Java\")\n",
        "\n",
        "e1"
      ]
    },
    {
      "cell_type": "code",
      "source": [
        "e1.insert(5, \"Python\")\n",
        "e1"
      ],
      "metadata": {
        "colab": {
          "base_uri": "https://localhost:8080/"
        },
        "id": "N7RB07Zv70C0",
        "outputId": "f8dac7cf-18a6-44bd-8709-2a15f5333c39"
      },
      "execution_count": null,
      "outputs": [
        {
          "output_type": "execute_result",
          "data": {
            "text/plain": [
              "['Python', 'Java', 10, 20, 30, 'Python', 'Python', 40, 'Python', 'Python', 50]"
            ]
          },
          "metadata": {},
          "execution_count": 9
        }
      ]
    },
    {
      "cell_type": "code",
      "source": [
        "e1.append(\"python\")"
      ],
      "metadata": {
        "id": "ZOLV5LKS77vc"
      },
      "execution_count": null,
      "outputs": []
    },
    {
      "cell_type": "code",
      "source": [
        "e1.insert(len(e1)+1, \"pritam\")"
      ],
      "metadata": {
        "id": "0VeiXidK786n"
      },
      "execution_count": null,
      "outputs": []
    },
    {
      "cell_type": "code",
      "source": [
        "e1"
      ],
      "metadata": {
        "colab": {
          "base_uri": "https://localhost:8080/"
        },
        "id": "RMTI2Rd28RoK",
        "outputId": "13753c4e-f050-47ce-c3d3-6ff21d20f708"
      },
      "execution_count": null,
      "outputs": [
        {
          "output_type": "execute_result",
          "data": {
            "text/plain": [
              "['Python',\n",
              " 'Java',\n",
              " 10,\n",
              " 20,\n",
              " 30,\n",
              " 'Python',\n",
              " 'Python',\n",
              " 40,\n",
              " 'Python',\n",
              " 'Python',\n",
              " 50,\n",
              " 'python',\n",
              " 'pritam']"
            ]
          },
          "metadata": {},
          "execution_count": 13
        }
      ]
    },
    {
      "cell_type": "code",
      "source": [
        "a = [\"Amit\", \"Pritam\", \"Dog\"]\n",
        "a.sort()\n",
        "a"
      ],
      "metadata": {
        "colab": {
          "base_uri": "https://localhost:8080/"
        },
        "id": "OXfx0UI08doc",
        "outputId": "6af5b5ac-7034-4949-93f7-e991b7f1f69e"
      },
      "execution_count": null,
      "outputs": [
        {
          "output_type": "execute_result",
          "data": {
            "text/plain": [
              "['Amit', 'Dog', 'Pritam']"
            ]
          },
          "metadata": {},
          "execution_count": 16
        }
      ]
    },
    {
      "cell_type": "code",
      "source": [
        "b = \"Amit\", \"Pritam\", \"Dog\"\n",
        "sorted(b)\n",
        "\n"
      ],
      "metadata": {
        "colab": {
          "base_uri": "https://localhost:8080/"
        },
        "id": "kVFg-HmFA9ka",
        "outputId": "0e18420a-9b21-4806-8593-9123c04085f9"
      },
      "execution_count": null,
      "outputs": [
        {
          "output_type": "execute_result",
          "data": {
            "text/plain": [
              "['Amit', 'Dog', 'Pritam']"
            ]
          },
          "metadata": {},
          "execution_count": 30
        }
      ]
    },
    {
      "cell_type": "code",
      "source": [
        "sorted(b)"
      ],
      "metadata": {
        "colab": {
          "base_uri": "https://localhost:8080/"
        },
        "id": "nbmT-qYxCvfq",
        "outputId": "d725f736-22b8-437b-87e0-5c734d6d80e6"
      },
      "execution_count": null,
      "outputs": [
        {
          "output_type": "execute_result",
          "data": {
            "text/plain": [
              "['Amit', 'Dog', 'Pritam']"
            ]
          },
          "metadata": {},
          "execution_count": 29
        }
      ]
    },
    {
      "cell_type": "code",
      "source": [
        "b = \"my nmame is pritam udugade\""
      ],
      "metadata": {
        "id": "C_z41E8nCMXo"
      },
      "execution_count": null,
      "outputs": []
    },
    {
      "cell_type": "code",
      "source": [
        "sorted(b.split())"
      ],
      "metadata": {
        "colab": {
          "base_uri": "https://localhost:8080/"
        },
        "id": "vxffnY97Cg0t",
        "outputId": "ce278afe-c696-4932-9e38-5902c87650f9"
      },
      "execution_count": null,
      "outputs": [
        {
          "output_type": "execute_result",
          "data": {
            "text/plain": [
              "['is', 'my', 'nmame', 'pritam', 'udugade']"
            ]
          },
          "metadata": {},
          "execution_count": 24
        }
      ]
    },
    {
      "cell_type": "code",
      "source": [
        "name = [\"pritam\", \"kumar\", \"Zara\"]\n",
        "name.sort()      #It takes capital case letter and then take small case letter to sort.\n",
        "name\n"
      ],
      "metadata": {
        "colab": {
          "base_uri": "https://localhost:8080/"
        },
        "id": "UqKUbhd6Ci61",
        "outputId": "e054e0ad-d402-4759-d3f6-d0ca898dc680"
      },
      "execution_count": null,
      "outputs": [
        {
          "output_type": "execute_result",
          "data": {
            "text/plain": [
              "['Zara', 'kumar', 'pritam']"
            ]
          },
          "metadata": {},
          "execution_count": 33
        }
      ]
    },
    {
      "cell_type": "code",
      "source": [
        "name.sort(key=len)     #Sort on basis of length\n",
        "name"
      ],
      "metadata": {
        "colab": {
          "base_uri": "https://localhost:8080/"
        },
        "id": "36aeip_aDvlv",
        "outputId": "352ff7d9-894e-4542-bc98-9d7348a364be"
      },
      "execution_count": null,
      "outputs": [
        {
          "output_type": "execute_result",
          "data": {
            "text/plain": [
              "['Zara', 'kumar', 'pritam']"
            ]
          },
          "metadata": {},
          "execution_count": 35
        }
      ]
    },
    {
      "cell_type": "code",
      "source": [
        "#Dictionary\n",
        "\n",
        "a = {1:100, 2:100, 3:100}\n",
        "a"
      ],
      "metadata": {
        "colab": {
          "base_uri": "https://localhost:8080/"
        },
        "id": "cKgs89JnGBjS",
        "outputId": "de025008-b806-4388-ff2c-df42e362ea49"
      },
      "execution_count": null,
      "outputs": [
        {
          "output_type": "execute_result",
          "data": {
            "text/plain": [
              "{1: 100, 2: 100, 3: 100}"
            ]
          },
          "metadata": {},
          "execution_count": 36
        }
      ]
    },
    {
      "cell_type": "code",
      "source": [
        "a = {1:100, 1:1001, 1:200, 1:500}\n",
        "a"
      ],
      "metadata": {
        "colab": {
          "base_uri": "https://localhost:8080/"
        },
        "id": "CaifePheZx0Y",
        "outputId": "733ddf43-5cb6-40a0-a62e-60c220f3d608"
      },
      "execution_count": null,
      "outputs": [
        {
          "output_type": "execute_result",
          "data": {
            "text/plain": [
              "{1: 500}"
            ]
          },
          "metadata": {},
          "execution_count": 39
        }
      ]
    },
    {
      "cell_type": "code",
      "source": [
        "list(range(1,5))"
      ],
      "metadata": {
        "colab": {
          "base_uri": "https://localhost:8080/"
        },
        "id": "AhkoDhwkZ3qv",
        "outputId": "cef213a2-9855-4b34-fa78-27a4900d295a"
      },
      "execution_count": null,
      "outputs": [
        {
          "output_type": "execute_result",
          "data": {
            "text/plain": [
              "[1, 2, 3, 4]"
            ]
          },
          "metadata": {},
          "execution_count": 40
        }
      ]
    },
    {
      "cell_type": "code",
      "source": [
        "list(range(1,6,2))"
      ],
      "metadata": {
        "colab": {
          "base_uri": "https://localhost:8080/"
        },
        "id": "7S9LLmxiimil",
        "outputId": "d0b97dc2-212e-42bd-eebf-df4efc887cf6"
      },
      "execution_count": null,
      "outputs": [
        {
          "output_type": "execute_result",
          "data": {
            "text/plain": [
              "[1, 3, 5]"
            ]
          },
          "metadata": {},
          "execution_count": 41
        }
      ]
    },
    {
      "cell_type": "code",
      "source": [
        "list(range(1,11,2))\n"
      ],
      "metadata": {
        "colab": {
          "base_uri": "https://localhost:8080/"
        },
        "id": "ZZCfMINgirZU",
        "outputId": "9f54e866-a8ff-4157-89b1-3d110b66d9e5"
      },
      "execution_count": null,
      "outputs": [
        {
          "output_type": "execute_result",
          "data": {
            "text/plain": [
              "[1, 3, 5, 7, 9]"
            ]
          },
          "metadata": {},
          "execution_count": 45
        }
      ]
    },
    {
      "cell_type": "code",
      "source": [
        "list(range(5, 51, 5))"
      ],
      "metadata": {
        "colab": {
          "base_uri": "https://localhost:8080/"
        },
        "id": "gC7ck7TFjXqW",
        "outputId": "ed0d7c24-eee7-423a-bb1b-2feae717ceae"
      },
      "execution_count": null,
      "outputs": [
        {
          "output_type": "execute_result",
          "data": {
            "text/plain": [
              "[5, 10, 15, 20, 25, 30, 35, 40, 45, 50]"
            ]
          },
          "metadata": {},
          "execution_count": 46
        }
      ]
    },
    {
      "cell_type": "code",
      "source": [
        "name = \"Amit Tukaram Udugade\"\n",
        "len(name)"
      ],
      "metadata": {
        "colab": {
          "base_uri": "https://localhost:8080/"
        },
        "id": "AF5k-7WXjrUH",
        "outputId": "a0129b69-b7ba-4103-8e1b-345e1c7f4c9b"
      },
      "execution_count": null,
      "outputs": [
        {
          "output_type": "execute_result",
          "data": {
            "text/plain": [
              "20"
            ]
          },
          "metadata": {},
          "execution_count": 50
        }
      ]
    },
    {
      "cell_type": "code",
      "source": [
        "nm = \"Harry\"\n",
        "nm[-4:-2]"
      ],
      "metadata": {
        "colab": {
          "base_uri": "https://localhost:8080/",
          "height": 36
        },
        "id": "cdMAXJeVrWm6",
        "outputId": "afec9e9d-de66-48ee-c6a5-172c7428cb22"
      },
      "execution_count": null,
      "outputs": [
        {
          "output_type": "execute_result",
          "data": {
            "text/plain": [
              "'ar'"
            ],
            "application/vnd.google.colaboratory.intrinsic+json": {
              "type": "string"
            }
          },
          "metadata": {},
          "execution_count": 53
        }
      ]
    },
    {
      "cell_type": "code",
      "source": [
        "a = \"google.com\"\n",
        "b = {}\n",
        "for i in a:\n",
        "  b[i] = a.count(i)\n",
        "b"
      ],
      "metadata": {
        "colab": {
          "base_uri": "https://localhost:8080/"
        },
        "id": "xt5A6MQZrrMm",
        "outputId": "c87a0019-2f30-4cab-c3e8-887de1baa002"
      },
      "execution_count": null,
      "outputs": [
        {
          "output_type": "execute_result",
          "data": {
            "text/plain": [
              "{'g': 2, 'o': 3, 'l': 1, 'e': 1, '.': 1, 'c': 1, 'm': 1}"
            ]
          },
          "metadata": {},
          "execution_count": 55
        }
      ]
    },
    {
      "cell_type": "code",
      "source": [
        "name1 = \"amitsworld\"\n",
        "\n",
        "name1[0:2] + name1[-2:]"
      ],
      "metadata": {
        "colab": {
          "base_uri": "https://localhost:8080/",
          "height": 36
        },
        "id": "eYNiejsptISo",
        "outputId": "a1c84ba0-39d2-45d5-d6e7-01db644e4a55"
      },
      "execution_count": null,
      "outputs": [
        {
          "output_type": "execute_result",
          "data": {
            "text/plain": [
              "'amld'"
            ],
            "application/vnd.google.colaboratory.intrinsic+json": {
              "type": "string"
            }
          },
          "metadata": {},
          "execution_count": 70
        }
      ]
    },
    {
      "cell_type": "code",
      "source": [
        "nm = \"restart\"\n",
        "\n",
        "for i in nm:\n",
        "  x = i\n",
        "  y = nm.replace(i, \"$\")\n",
        "  break\n",
        "x+y.removeprefix(\"$\")"
      ],
      "metadata": {
        "colab": {
          "base_uri": "https://localhost:8080/",
          "height": 36
        },
        "id": "51m3bmXCtwAy",
        "outputId": "f87848a5-4631-4a43-874b-d3c179b15550"
      },
      "execution_count": 163,
      "outputs": [
        {
          "output_type": "execute_result",
          "data": {
            "text/plain": [
              "'resta$t'"
            ],
            "application/vnd.google.colaboratory.intrinsic+json": {
              "type": "string"
            }
          },
          "metadata": {},
          "execution_count": 163
        }
      ]
    },
    {
      "cell_type": "code",
      "source": [
        "a = \"pritam\"\n",
        "\n",
        "a = a[-1] + a[1:len(a)-1] + a[0]\n",
        "a"
      ],
      "metadata": {
        "id": "cKuDKeXNzU1U",
        "colab": {
          "base_uri": "https://localhost:8080/",
          "height": 36
        },
        "outputId": "8684abf5-c6fc-473d-a208-692a410ad8af"
      },
      "execution_count": 171,
      "outputs": [
        {
          "output_type": "execute_result",
          "data": {
            "text/plain": [
              "'mritap'"
            ],
            "application/vnd.google.colaboratory.intrinsic+json": {
              "type": "string"
            }
          },
          "metadata": {},
          "execution_count": 171
        }
      ]
    },
    {
      "cell_type": "code",
      "source": [
        "# Define a function named change_string that takes one argument, 'str1'.\n",
        "def change_string(str1):\n",
        "\n",
        "    return str1[-1:] + str1[1:-1] + str1[:1]\n",
        "\n",
        "# Call the change_string function with different input strings and print the results.\n",
        "print(change_string('amit'))   # Output: 'dbca'"
      ],
      "metadata": {
        "colab": {
          "base_uri": "https://localhost:8080/"
        },
        "id": "OwKybDvl5SPl",
        "outputId": "aedbffa2-c92f-45a6-d8f7-3c2aa165d55a"
      },
      "execution_count": 181,
      "outputs": [
        {
          "output_type": "stream",
          "name": "stdout",
          "text": [
            "tmia\n"
          ]
        }
      ]
    },
    {
      "cell_type": "code",
      "source": [
        "name = \"pritam\"\n",
        "\n",
        "name[-1:] + name[1:-1] + name[:1]"
      ],
      "metadata": {
        "colab": {
          "base_uri": "https://localhost:8080/",
          "height": 36
        },
        "id": "A4IaresI6mH1",
        "outputId": "a74bff6f-c789-48e2-b7b0-2b169ac3ae4e"
      },
      "execution_count": 186,
      "outputs": [
        {
          "output_type": "execute_result",
          "data": {
            "text/plain": [
              "'mritap'"
            ],
            "application/vnd.google.colaboratory.intrinsic+json": {
              "type": "string"
            }
          },
          "metadata": {},
          "execution_count": 186
        }
      ]
    },
    {
      "cell_type": "code",
      "source": [],
      "metadata": {
        "id": "Z_nV6qZ2sE3O"
      },
      "execution_count": null,
      "outputs": []
    }
  ]
}