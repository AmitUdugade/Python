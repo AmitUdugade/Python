{
  "nbformat": 4,
  "nbformat_minor": 0,
  "metadata": {
    "colab": {
      "provenance": [],
      "authorship_tag": "ABX9TyNghUxbnM3d8BjOlQR3qozy",
      "include_colab_link": true
    },
    "kernelspec": {
      "name": "python3",
      "display_name": "Python 3"
    },
    "language_info": {
      "name": "python"
    }
  },
  "cells": [
    {
      "cell_type": "markdown",
      "metadata": {
        "id": "view-in-github",
        "colab_type": "text"
      },
      "source": [
        "<a href=\"https://colab.research.google.com/github/AmitUdugade/PythonWorkspace/blob/main/Numpy_Part3.ipynb\" target=\"_parent\"><img src=\"https://colab.research.google.com/assets/colab-badge.svg\" alt=\"Open In Colab\"/></a>"
      ]
    },
    {
      "cell_type": "code",
      "execution_count": 4,
      "metadata": {
        "colab": {
          "base_uri": "https://localhost:8080/"
        },
        "id": "kIRDGkr-jSJ8",
        "outputId": "1c7dd393-a7d3-48b2-dbe3-10458736428b"
      },
      "outputs": [
        {
          "output_type": "execute_result",
          "data": {
            "text/plain": [
              "array([[False,  True,  True,  True],\n",
              "       [ True, False,  True,  True],\n",
              "       [ True,  True, False,  True],\n",
              "       [ True,  True,  True, False]])"
            ]
          },
          "metadata": {},
          "execution_count": 4
        }
      ],
      "source": [
        "import numpy as np\n",
        "e = np.ones((4,4), dtype = bool)\n",
        "np.fill_diagonal(e, False)\n",
        "e"
      ]
    },
    {
      "cell_type": "code",
      "source": [
        "~ np.identity(4, dtype = bool)\n",
        "# ~ Tild sign used for bitwise not operation.\n",
        "#   if True then convert it in to False and vice versa."
      ],
      "metadata": {
        "colab": {
          "base_uri": "https://localhost:8080/"
        },
        "id": "WwqvrEzVlPh-",
        "outputId": "411727f1-5920-4faf-b06e-692c3ba18679"
      },
      "execution_count": 7,
      "outputs": [
        {
          "output_type": "execute_result",
          "data": {
            "text/plain": [
              "array([[False,  True,  True,  True],\n",
              "       [ True, False,  True,  True],\n",
              "       [ True,  True, False,  True],\n",
              "       [ True,  True,  True, False]])"
            ]
          },
          "metadata": {},
          "execution_count": 7
        }
      ]
    },
    {
      "cell_type": "code",
      "source": [
        "#Indexing Over Numpy -\n",
        "\n",
        "a = np.arange(1, 25).reshape(6, 4)\n",
        "a"
      ],
      "metadata": {
        "colab": {
          "base_uri": "https://localhost:8080/"
        },
        "id": "j9PaS9WqnCtf",
        "outputId": "5b5793be-7be2-441b-e6fd-60f76eb79e41"
      },
      "execution_count": 10,
      "outputs": [
        {
          "output_type": "execute_result",
          "data": {
            "text/plain": [
              "array([[ 1,  2,  3,  4],\n",
              "       [ 5,  6,  7,  8],\n",
              "       [ 9, 10, 11, 12],\n",
              "       [13, 14, 15, 16],\n",
              "       [17, 18, 19, 20],\n",
              "       [21, 22, 23, 24]])"
            ]
          },
          "metadata": {},
          "execution_count": 10
        }
      ]
    },
    {
      "cell_type": "code",
      "source": [
        "#Indexing on numpy works on a row.\n",
        "a[0]"
      ],
      "metadata": {
        "colab": {
          "base_uri": "https://localhost:8080/"
        },
        "id": "aL6cTfqnonhE",
        "outputId": "bed4724a-42cb-4d37-bbbc-ebe4c03f362b"
      },
      "execution_count": 15,
      "outputs": [
        {
          "output_type": "execute_result",
          "data": {
            "text/plain": [
              "array([1, 2, 3, 4])"
            ]
          },
          "metadata": {},
          "execution_count": 15
        }
      ]
    },
    {
      "cell_type": "code",
      "source": [
        "#Indexing on numpy works on a row.\n",
        "a[4]"
      ],
      "metadata": {
        "colab": {
          "base_uri": "https://localhost:8080/"
        },
        "id": "e8rRP5OAoyJn",
        "outputId": "9ce426ac-0d62-4ebe-d12e-60253fc509a1"
      },
      "execution_count": 14,
      "outputs": [
        {
          "output_type": "execute_result",
          "data": {
            "text/plain": [
              "array([17, 18, 19, 20])"
            ]
          },
          "metadata": {},
          "execution_count": 14
        }
      ]
    },
    {
      "cell_type": "code",
      "source": [
        "#access 11\n",
        "a[2][2]"
      ],
      "metadata": {
        "colab": {
          "base_uri": "https://localhost:8080/"
        },
        "id": "ElJy_C7-o_jz",
        "outputId": "8c956a11-c378-4185-c86f-02192df25ef1"
      },
      "execution_count": 18,
      "outputs": [
        {
          "output_type": "execute_result",
          "data": {
            "text/plain": [
              "11"
            ]
          },
          "metadata": {},
          "execution_count": 18
        }
      ]
    },
    {
      "cell_type": "code",
      "source": [
        "a[2, 2]"
      ],
      "metadata": {
        "colab": {
          "base_uri": "https://localhost:8080/"
        },
        "id": "A8-CrJU3qNJG",
        "outputId": "9a0574a7-7897-4de4-c99e-e6bff87b0fb6"
      },
      "execution_count": 22,
      "outputs": [
        {
          "output_type": "execute_result",
          "data": {
            "text/plain": [
              "11"
            ]
          },
          "metadata": {},
          "execution_count": 22
        }
      ]
    },
    {
      "cell_type": "code",
      "source": [
        "#access 20\n",
        "a[4][3]"
      ],
      "metadata": {
        "colab": {
          "base_uri": "https://localhost:8080/"
        },
        "id": "KkDrVAQ7pZwL",
        "outputId": "189b3770-39c4-4444-bbed-7081904dcd00"
      },
      "execution_count": 20,
      "outputs": [
        {
          "output_type": "execute_result",
          "data": {
            "text/plain": [
              "20"
            ]
          },
          "metadata": {},
          "execution_count": 20
        }
      ]
    },
    {
      "cell_type": "code",
      "source": [
        "#access 6\n",
        "a[1][1]"
      ],
      "metadata": {
        "colab": {
          "base_uri": "https://localhost:8080/"
        },
        "id": "i4mPC2PZpk1Y",
        "outputId": "905a86ad-eaa7-4b7a-89d9-a9afc7706b58"
      },
      "execution_count": 21,
      "outputs": [
        {
          "output_type": "execute_result",
          "data": {
            "text/plain": [
              "6"
            ]
          },
          "metadata": {},
          "execution_count": 21
        }
      ]
    },
    {
      "cell_type": "code",
      "source": [
        "b = a.reshape(3,4,2)\n",
        "b"
      ],
      "metadata": {
        "colab": {
          "base_uri": "https://localhost:8080/"
        },
        "id": "YozEVv6cpuCx",
        "outputId": "4e36ceca-3701-42a7-96eb-239996f70a95"
      },
      "execution_count": 24,
      "outputs": [
        {
          "output_type": "execute_result",
          "data": {
            "text/plain": [
              "array([[[ 1,  2],\n",
              "        [ 3,  4],\n",
              "        [ 5,  6],\n",
              "        [ 7,  8]],\n",
              "\n",
              "       [[ 9, 10],\n",
              "        [11, 12],\n",
              "        [13, 14],\n",
              "        [15, 16]],\n",
              "\n",
              "       [[17, 18],\n",
              "        [19, 20],\n",
              "        [21, 22],\n",
              "        [23, 24]]])"
            ]
          },
          "metadata": {},
          "execution_count": 24
        }
      ]
    },
    {
      "cell_type": "code",
      "source": [
        "#access 6\n",
        "b[0, 2, 1]"
      ],
      "metadata": {
        "colab": {
          "base_uri": "https://localhost:8080/"
        },
        "id": "BphAOppDqmhq",
        "outputId": "156a0c30-d57a-49b5-9c87-501e1a47d3e3"
      },
      "execution_count": 26,
      "outputs": [
        {
          "output_type": "execute_result",
          "data": {
            "text/plain": [
              "6"
            ]
          },
          "metadata": {},
          "execution_count": 26
        }
      ]
    },
    {
      "cell_type": "code",
      "source": [
        "#access 16\n",
        "b[1, 3, 1]"
      ],
      "metadata": {
        "colab": {
          "base_uri": "https://localhost:8080/"
        },
        "id": "75KLvv6kq2YZ",
        "outputId": "94b6fb5e-59e9-4b82-928b-fa81c545d0fb"
      },
      "execution_count": 29,
      "outputs": [
        {
          "output_type": "execute_result",
          "data": {
            "text/plain": [
              "16"
            ]
          },
          "metadata": {},
          "execution_count": 29
        }
      ]
    },
    {
      "cell_type": "code",
      "source": [
        "# Question : is -ve indexing is possible?\n",
        "# Answer - YES.\n",
        "\n",
        "b[-1]       #last block will be display"
      ],
      "metadata": {
        "colab": {
          "base_uri": "https://localhost:8080/"
        },
        "id": "ddDGycx_rEyA",
        "outputId": "5d579c19-13bb-4031-9ca7-d1a5edf42df0"
      },
      "execution_count": 30,
      "outputs": [
        {
          "output_type": "execute_result",
          "data": {
            "text/plain": [
              "array([[17, 18],\n",
              "       [19, 20],\n",
              "       [21, 22],\n",
              "       [23, 24]])"
            ]
          },
          "metadata": {},
          "execution_count": 30
        }
      ]
    },
    {
      "cell_type": "code",
      "source": [
        "#Slicing works on a row first.\n",
        "\n",
        "b[ : ]   # b[start : stop] Row"
      ],
      "metadata": {
        "colab": {
          "base_uri": "https://localhost:8080/"
        },
        "id": "JRCxW1peryhu",
        "outputId": "7db1cd0e-15d6-4033-d159-2a3a01dfde02"
      },
      "execution_count": 31,
      "outputs": [
        {
          "output_type": "execute_result",
          "data": {
            "text/plain": [
              "array([[[ 1,  2],\n",
              "        [ 3,  4],\n",
              "        [ 5,  6],\n",
              "        [ 7,  8]],\n",
              "\n",
              "       [[ 9, 10],\n",
              "        [11, 12],\n",
              "        [13, 14],\n",
              "        [15, 16]],\n",
              "\n",
              "       [[17, 18],\n",
              "        [19, 20],\n",
              "        [21, 22],\n",
              "        [23, 24]]])"
            ]
          },
          "metadata": {},
          "execution_count": 31
        }
      ]
    },
    {
      "cell_type": "code",
      "source": [
        "c = np.arange(1, 25).reshape(6, 4)\n",
        "c"
      ],
      "metadata": {
        "colab": {
          "base_uri": "https://localhost:8080/"
        },
        "id": "0fEjiS2PsLbJ",
        "outputId": "24522002-5210-497e-e3dc-1b1b893401d5"
      },
      "execution_count": 35,
      "outputs": [
        {
          "output_type": "execute_result",
          "data": {
            "text/plain": [
              "array([[ 1,  2,  3,  4],\n",
              "       [ 5,  6,  7,  8],\n",
              "       [ 9, 10, 11, 12],\n",
              "       [13, 14, 15, 16],\n",
              "       [17, 18, 19, 20],\n",
              "       [21, 22, 23, 24]])"
            ]
          },
          "metadata": {},
          "execution_count": 35
        }
      ]
    },
    {
      "cell_type": "code",
      "source": [
        "#last 4 rows\n",
        "c[2:]\n",
        "'''array([[ 1,  2,  3,  4],           ---- 0\n",
        "          [ 5,  6,  7,  8],           ---- 1\n",
        "          [ 9, 10, 11, 12],           ---- 2\n",
        "          [13, 14, 15, 16],           ---- 3\n",
        "          [17, 18, 19, 20],           ---- 4\n",
        "          [21, 22, 23, 24]])          ---- 5\n",
        "'''"
      ],
      "metadata": {
        "colab": {
          "base_uri": "https://localhost:8080/"
        },
        "id": "QIdxYIUksXwp",
        "outputId": "4bdeb686-4c2c-4ec6-e137-58c000473272"
      },
      "execution_count": 36,
      "outputs": [
        {
          "output_type": "execute_result",
          "data": {
            "text/plain": [
              "array([[ 9, 10, 11, 12],\n",
              "       [13, 14, 15, 16],\n",
              "       [17, 18, 19, 20],\n",
              "       [21, 22, 23, 24]])"
            ]
          },
          "metadata": {},
          "execution_count": 36
        }
      ]
    },
    {
      "cell_type": "code",
      "source": [
        "c[1:5]"
      ],
      "metadata": {
        "colab": {
          "base_uri": "https://localhost:8080/"
        },
        "id": "MalvQQSdtA45",
        "outputId": "d7eca1ed-a317-4cdc-fe12-e056f49bf147"
      },
      "execution_count": 38,
      "outputs": [
        {
          "output_type": "execute_result",
          "data": {
            "text/plain": [
              "array([[ 5,  6,  7,  8],\n",
              "       [ 9, 10, 11, 12],\n",
              "       [13, 14, 15, 16],\n",
              "       [17, 18, 19, 20]])"
            ]
          },
          "metadata": {},
          "execution_count": 38
        }
      ]
    },
    {
      "cell_type": "code",
      "source": [
        "#Odd rows\n",
        "c [::2]\n"
      ],
      "metadata": {
        "colab": {
          "base_uri": "https://localhost:8080/"
        },
        "id": "WmVRld_qthw2",
        "outputId": "1f8806ce-b4d9-4321-89a9-e6c3b1aeaac2"
      },
      "execution_count": 42,
      "outputs": [
        {
          "output_type": "execute_result",
          "data": {
            "text/plain": [
              "array([[ 1,  2,  3,  4],\n",
              "       [ 9, 10, 11, 12],\n",
              "       [17, 18, 19, 20]])"
            ]
          },
          "metadata": {},
          "execution_count": 42
        }
      ]
    },
    {
      "cell_type": "code",
      "source": [
        "#access first and last row\n",
        "c [::5]"
      ],
      "metadata": {
        "colab": {
          "base_uri": "https://localhost:8080/"
        },
        "id": "mGrZvN2Yu53j",
        "outputId": "dd5f470a-65b5-4b92-8c4a-d293cad11583"
      },
      "execution_count": 45,
      "outputs": [
        {
          "output_type": "execute_result",
          "data": {
            "text/plain": [
              "array([[ 1,  2,  3,  4],\n",
              "       [21, 22, 23, 24]])"
            ]
          },
          "metadata": {},
          "execution_count": 45
        }
      ]
    },
    {
      "cell_type": "code",
      "source": [
        "c[3::2]"
      ],
      "metadata": {
        "colab": {
          "base_uri": "https://localhost:8080/"
        },
        "id": "oHYNO_K2v3d6",
        "outputId": "325b9310-e732-4167-a394-263a5488a15f"
      },
      "execution_count": 47,
      "outputs": [
        {
          "output_type": "execute_result",
          "data": {
            "text/plain": [
              "array([[13, 14, 15, 16],\n",
              "       [21, 22, 23, 24]])"
            ]
          },
          "metadata": {},
          "execution_count": 47
        }
      ]
    },
    {
      "cell_type": "code",
      "source": [
        "c"
      ],
      "metadata": {
        "colab": {
          "base_uri": "https://localhost:8080/"
        },
        "id": "7gZNSpCNw6nI",
        "outputId": "971a6445-517e-4b49-d87b-f83f3de602c5"
      },
      "execution_count": 48,
      "outputs": [
        {
          "output_type": "execute_result",
          "data": {
            "text/plain": [
              "array([[ 1,  2,  3,  4],\n",
              "       [ 5,  6,  7,  8],\n",
              "       [ 9, 10, 11, 12],\n",
              "       [13, 14, 15, 16],\n",
              "       [17, 18, 19, 20],\n",
              "       [21, 22, 23, 24]])"
            ]
          },
          "metadata": {},
          "execution_count": 48
        }
      ]
    },
    {
      "cell_type": "code",
      "source": [
        "c[-1: :-2]"
      ],
      "metadata": {
        "colab": {
          "base_uri": "https://localhost:8080/"
        },
        "id": "5NjEgCDQxSDD",
        "outputId": "2254a8a8-d844-4b99-f7f2-82e8541d049a"
      },
      "execution_count": 51,
      "outputs": [
        {
          "output_type": "execute_result",
          "data": {
            "text/plain": [
              "array([[21, 22, 23, 24],\n",
              "       [13, 14, 15, 16],\n",
              "       [ 5,  6,  7,  8]])"
            ]
          },
          "metadata": {},
          "execution_count": 51
        }
      ]
    },
    {
      "cell_type": "code",
      "source": [
        "#c[rows , Columns]\n",
        "c[2:4, 1:3]"
      ],
      "metadata": {
        "colab": {
          "base_uri": "https://localhost:8080/"
        },
        "id": "xNmbpRG_xYr-",
        "outputId": "36e8f3f4-b24f-45cb-9e54-e2b156ba339e"
      },
      "execution_count": 52,
      "outputs": [
        {
          "output_type": "execute_result",
          "data": {
            "text/plain": [
              "array([[10, 11],\n",
              "       [14, 15]])"
            ]
          },
          "metadata": {},
          "execution_count": 52
        }
      ]
    },
    {
      "cell_type": "code",
      "source": [
        "'''array([[ 7,  8],\n",
        "       [19, 20]])\n",
        "'''\n",
        "\n",
        "c[1: :3, 2:]"
      ],
      "metadata": {
        "colab": {
          "base_uri": "https://localhost:8080/"
        },
        "id": "Bdbyx7Xbydxo",
        "outputId": "6343f781-e944-43bd-8a38-20ae2c8c8588"
      },
      "execution_count": 56,
      "outputs": [
        {
          "output_type": "execute_result",
          "data": {
            "text/plain": [
              "array([[ 7,  8],\n",
              "       [19, 20]])"
            ]
          },
          "metadata": {},
          "execution_count": 56
        }
      ]
    },
    {
      "cell_type": "code",
      "source": [
        "#Access last column that starting with 4\n",
        "c[: , -1:]"
      ],
      "metadata": {
        "colab": {
          "base_uri": "https://localhost:8080/"
        },
        "id": "dHzNwL6t0mWT",
        "outputId": "aeeeb7c4-6943-43ea-a2cd-e217fde2a35f"
      },
      "execution_count": 60,
      "outputs": [
        {
          "output_type": "execute_result",
          "data": {
            "text/plain": [
              "array([[ 4],\n",
              "       [ 8],\n",
              "       [12],\n",
              "       [16],\n",
              "       [20],\n",
              "       [24]])"
            ]
          },
          "metadata": {},
          "execution_count": 60
        }
      ]
    },
    {
      "cell_type": "code",
      "source": [
        " c[: , 3:]"
      ],
      "metadata": {
        "colab": {
          "base_uri": "https://localhost:8080/"
        },
        "id": "L7dPYCrmzu__",
        "outputId": "e1a5409a-8981-4be3-d810-9cb1a8eaebe1"
      },
      "execution_count": 61,
      "outputs": [
        {
          "output_type": "execute_result",
          "data": {
            "text/plain": [
              "array([[ 4],\n",
              "       [ 8],\n",
              "       [12],\n",
              "       [16],\n",
              "       [20],\n",
              "       [24]])"
            ]
          },
          "metadata": {},
          "execution_count": 61
        }
      ]
    },
    {
      "cell_type": "code",
      "source": [
        "c[:,-1]  #1D"
      ],
      "metadata": {
        "colab": {
          "base_uri": "https://localhost:8080/"
        },
        "id": "UFaksFId11nA",
        "outputId": "b12efe59-7d43-4cef-ea64-ba0904b23488"
      },
      "execution_count": 62,
      "outputs": [
        {
          "output_type": "execute_result",
          "data": {
            "text/plain": [
              "array([ 4,  8, 12, 16, 20, 24])"
            ]
          },
          "metadata": {},
          "execution_count": 62
        }
      ]
    },
    {
      "cell_type": "code",
      "source": [
        "c"
      ],
      "metadata": {
        "colab": {
          "base_uri": "https://localhost:8080/"
        },
        "id": "hzuDaJ9016Fb",
        "outputId": "a96f3bbe-e863-4a32-f014-fed80a3fa218"
      },
      "execution_count": 63,
      "outputs": [
        {
          "output_type": "execute_result",
          "data": {
            "text/plain": [
              "array([[ 1,  2,  3,  4],\n",
              "       [ 5,  6,  7,  8],\n",
              "       [ 9, 10, 11, 12],\n",
              "       [13, 14, 15, 16],\n",
              "       [17, 18, 19, 20],\n",
              "       [21, 22, 23, 24]])"
            ]
          },
          "metadata": {},
          "execution_count": 63
        }
      ]
    },
    {
      "cell_type": "code",
      "source": [
        "c[::5, 0: :3]"
      ],
      "metadata": {
        "colab": {
          "base_uri": "https://localhost:8080/"
        },
        "id": "Y3NlhUUN2DB-",
        "outputId": "8704d39d-85d7-4dbf-e873-ff04afd2ceab"
      },
      "execution_count": 66,
      "outputs": [
        {
          "output_type": "execute_result",
          "data": {
            "text/plain": [
              "array([[ 1,  4],\n",
              "       [21, 24]])"
            ]
          },
          "metadata": {},
          "execution_count": 66
        }
      ]
    },
    {
      "cell_type": "code",
      "source": [
        "c[0:2:2]"
      ],
      "metadata": {
        "colab": {
          "base_uri": "https://localhost:8080/"
        },
        "id": "YV-E45Lc2ODp",
        "outputId": "40191422-4e99-4d7b-9fdb-5696bfaece23"
      },
      "execution_count": 70,
      "outputs": [
        {
          "output_type": "execute_result",
          "data": {
            "text/plain": [
              "array([[1, 2, 3, 4]])"
            ]
          },
          "metadata": {},
          "execution_count": 70
        }
      ]
    },
    {
      "cell_type": "code",
      "source": [],
      "metadata": {
        "id": "wE9i_DLO3AVs"
      },
      "execution_count": null,
      "outputs": []
    }
  ]
}