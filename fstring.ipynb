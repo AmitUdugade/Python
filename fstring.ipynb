{
  "nbformat": 4,
  "nbformat_minor": 0,
  "metadata": {
    "colab": {
      "provenance": [],
      "authorship_tag": "ABX9TyN8j5dzA4EaYpgf01OUlxb1",
      "include_colab_link": true
    },
    "kernelspec": {
      "name": "python3",
      "display_name": "Python 3"
    },
    "language_info": {
      "name": "python"
    }
  },
  "cells": [
    {
      "cell_type": "markdown",
      "metadata": {
        "id": "view-in-github",
        "colab_type": "text"
      },
      "source": [
        "<a href=\"https://colab.research.google.com/github/AmitUdugade/PythonBasicsWorkspace/blob/main/fstring.ipynb\" target=\"_parent\"><img src=\"https://colab.research.google.com/assets/colab-badge.svg\" alt=\"Open In Colab\"/></a>"
      ]
    },
    {
      "cell_type": "code",
      "source": [
        "letter = \"My name is {}. and I am from {}.\"\n",
        "name = \"Amit\"\n",
        "country = \"India\"\n",
        "\n",
        "print(letter.format(name,country))                      #Format\n",
        "print(f\"My name is {name}. and I am from {country}.\")   #f string"
      ],
      "metadata": {
        "colab": {
          "base_uri": "https://localhost:8080/"
        },
        "id": "LyQO_wv_uZBq",
        "outputId": "0a2fdc53-3427-4992-82ea-e6d6fc49808e"
      },
      "execution_count": 2,
      "outputs": [
        {
          "output_type": "stream",
          "name": "stdout",
          "text": [
            "My name is Amit. and I am from India.\n",
            "My name is Amit. and I am from India.\n"
          ]
        }
      ]
    },
    {
      "cell_type": "code",
      "execution_count": 1,
      "metadata": {
        "colab": {
          "base_uri": "https://localhost:8080/"
        },
        "id": "DjV9d5JGuYG9",
        "outputId": "c930ac7f-8642-47c5-cebf-ba15059d4ef1"
      },
      "outputs": [
        {
          "output_type": "stream",
          "name": "stdout",
          "text": [
            "My name is Amit. and I am from India.\n",
            "My name is Pritam. and I am from India.\n",
            "My name is Jacob. and I am from USA.\n",
            "My name is William. and I am from UK.\n"
          ]
        }
      ],
      "source": [
        "#fstring\n",
        "letter = \"My name is {}. and I am from {}.\"\n",
        "\n",
        "name = [\"Amit\", \"Pritam\", \"Jacob\", \"William\"]\n",
        "country = [\"India\", \"India\", \"USA\", \"UK\"]\n",
        "\n",
        "for i in range(0, 4):\n",
        "  print(f\"My name is {name[i]}. and I am from {country[i]}.\")"
      ]
    },
    {
      "cell_type": "code",
      "source": [],
      "metadata": {
        "id": "qmgFwokeudnl"
      },
      "execution_count": null,
      "outputs": []
    }
  ]
}