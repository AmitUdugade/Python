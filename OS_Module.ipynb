{
  "nbformat": 4,
  "nbformat_minor": 0,
  "metadata": {
    "colab": {
      "provenance": [],
      "authorship_tag": "ABX9TyNp2qGtW3h+JjiCDjY7Od2m",
      "include_colab_link": true
    },
    "kernelspec": {
      "name": "python3",
      "display_name": "Python 3"
    },
    "language_info": {
      "name": "python"
    }
  },
  "cells": [
    {
      "cell_type": "markdown",
      "metadata": {
        "id": "view-in-github",
        "colab_type": "text"
      },
      "source": [
        "<a href=\"https://colab.research.google.com/github/AmitUdugade/PythonBasicsWorkspace/blob/main/OS_Module.ipynb\" target=\"_parent\"><img src=\"https://colab.research.google.com/assets/colab-badge.svg\" alt=\"Open In Colab\"/></a>"
      ]
    },
    {
      "cell_type": "code",
      "execution_count": 6,
      "metadata": {
        "id": "WUJFoj5mOVtW"
      },
      "outputs": [],
      "source": [
        "#OS Module - is a built-in ibrabry that provides for interacting with the OS.\n",
        "# allows you to perform a wide variety of tasks such as reading, writing files, interacting with the system files.\n",
        "\n",
        "import os\n",
        "\n",
        "f = os.open(\"/content/new 1.txt\", os.O_RDONLY)      #Read Only Mode.\n",
        "\n",
        "contents = os.read(f, 1024)        #Read the content of the file.\n",
        "\n",
        "os.close(f)          #Close the file."
      ]
    },
    {
      "cell_type": "code",
      "source": [
        "#run following all code snippets in your own IDE.(pycharm, vscode,jupytr,colab etc.)\n",
        "\n",
        "import os\n",
        "\n",
        "if (not os.path.exists(\"data\")):\n",
        "    os.mkdir(\"data\")\n",
        "\n",
        "for i in range(0, 30):\n",
        "    os.mkdir(f\"data/day{i+1}\")      #Give a proper path where you want to create these directories.\n",
        "\n"
      ],
      "metadata": {
        "id": "FegM-ftyPOI1"
      },
      "execution_count": null,
      "outputs": []
    },
    {
      "cell_type": "code",
      "source": [
        "import os\n",
        "#renaming the filenames.\n",
        "for i in range(0, 30):\n",
        "    os.rename(f\"data/day{i+1}\", f\"data/day {i+1}\")"
      ],
      "metadata": {
        "id": "FSi2if4hXXaH"
      },
      "execution_count": null,
      "outputs": []
    },
    {
      "cell_type": "code",
      "source": [
        "#list the directories.\n",
        "\n",
        "import os\n",
        "\n",
        "folders = os.listdir(\"data\")\n",
        "print(folders)\n",
        "\n",
        "for folder in folders:\n",
        "  print(folder)\n",
        "  print(os.listdir(f\"data/{folder}\"))"
      ],
      "metadata": {
        "colab": {
          "base_uri": "https://localhost:8080/",
          "height": 245
        },
        "id": "IpGxdeRXXgpa",
        "outputId": "12bca253-b9d2-4f93-9e36-51d6676facfb"
      },
      "execution_count": 7,
      "outputs": [
        {
          "output_type": "error",
          "ename": "FileNotFoundError",
          "evalue": "[Errno 2] No such file or directory: 'data'",
          "traceback": [
            "\u001b[0;31m---------------------------------------------------------------------------\u001b[0m",
            "\u001b[0;31mFileNotFoundError\u001b[0m                         Traceback (most recent call last)",
            "\u001b[0;32m<ipython-input-7-1134855633de>\u001b[0m in \u001b[0;36m<cell line: 5>\u001b[0;34m()\u001b[0m\n\u001b[1;32m      3\u001b[0m \u001b[0;32mimport\u001b[0m \u001b[0mos\u001b[0m\u001b[0;34m\u001b[0m\u001b[0;34m\u001b[0m\u001b[0m\n\u001b[1;32m      4\u001b[0m \u001b[0;34m\u001b[0m\u001b[0m\n\u001b[0;32m----> 5\u001b[0;31m \u001b[0mfolders\u001b[0m \u001b[0;34m=\u001b[0m \u001b[0mos\u001b[0m\u001b[0;34m.\u001b[0m\u001b[0mlistdir\u001b[0m\u001b[0;34m(\u001b[0m\u001b[0;34m\"data\"\u001b[0m\u001b[0;34m)\u001b[0m\u001b[0;34m\u001b[0m\u001b[0;34m\u001b[0m\u001b[0m\n\u001b[0m\u001b[1;32m      6\u001b[0m \u001b[0mprint\u001b[0m\u001b[0;34m(\u001b[0m\u001b[0mfolders\u001b[0m\u001b[0;34m)\u001b[0m\u001b[0;34m\u001b[0m\u001b[0;34m\u001b[0m\u001b[0m\n\u001b[1;32m      7\u001b[0m \u001b[0;34m\u001b[0m\u001b[0m\n",
            "\u001b[0;31mFileNotFoundError\u001b[0m: [Errno 2] No such file or directory: 'data'"
          ]
        }
      ]
    },
    {
      "cell_type": "code",
      "source": [],
      "metadata": {
        "id": "dfFzH2m0Xzxq"
      },
      "execution_count": null,
      "outputs": []
    }
  ]
}