{
  "nbformat": 4,
  "nbformat_minor": 0,
  "metadata": {
    "colab": {
      "provenance": [],
      "authorship_tag": "ABX9TyN8TDCS2d1CY+mJfWXigoDg",
      "include_colab_link": true
    },
    "kernelspec": {
      "name": "python3",
      "display_name": "Python 3"
    },
    "language_info": {
      "name": "python"
    }
  },
  "cells": [
    {
      "cell_type": "markdown",
      "metadata": {
        "id": "view-in-github",
        "colab_type": "text"
      },
      "source": [
        "<a href=\"https://colab.research.google.com/github/AmitUdugade/PythonBasicsWorkspace/blob/main/Day6_0902_Problem_Solving.ipynb\" target=\"_parent\"><img src=\"https://colab.research.google.com/assets/colab-badge.svg\" alt=\"Open In Colab\"/></a>"
      ]
    },
    {
      "cell_type": "code",
      "execution_count": 7,
      "metadata": {
        "colab": {
          "base_uri": "https://localhost:8080/"
        },
        "id": "P2m0ors1TmBU",
        "outputId": "354079a9-0420-4002-870f-970daa63dec0"
      },
      "outputs": [
        {
          "output_type": "stream",
          "name": "stdout",
          "text": [
            "0\n",
            "1\n",
            "1\n",
            "2\n",
            "3\n",
            "5\n",
            "8\n",
            "13\n",
            "21\n",
            "34\n",
            "55\n"
          ]
        }
      ],
      "source": [
        "#Fiboncci Series\n",
        "a = 0\n",
        "b = 1\n",
        "print(a)\n",
        "print(b)\n",
        "for i in range(2, 11):\n",
        "  c = a+b\n",
        "  a = b\n",
        "  b = c\n",
        "  print(c)"
      ]
    },
    {
      "cell_type": "code",
      "source": [
        "#Fiboncci Series\n",
        "a = 0\n",
        "b = 1\n",
        "n = int(input(\"Enter a number : \"))\n",
        "if n == 1:\n",
        "  print(n)\n",
        "else:\n",
        "  print(a)\n",
        "  print(b)\n",
        "  for i in range(2, n):\n",
        "    c = a+b\n",
        "    a = b\n",
        "    b = c\n",
        "    print(c)"
      ],
      "metadata": {
        "colab": {
          "base_uri": "https://localhost:8080/"
        },
        "id": "5hYPdmcaTvpR",
        "outputId": "b1f283f8-6b82-4d14-da67-4c94b18549a7"
      },
      "execution_count": 10,
      "outputs": [
        {
          "output_type": "stream",
          "name": "stdout",
          "text": [
            "Enter a number : 14\n",
            "0\n",
            "1\n",
            "1\n",
            "2\n",
            "3\n",
            "5\n",
            "8\n",
            "13\n",
            "21\n",
            "34\n",
            "55\n",
            "89\n",
            "144\n",
            "233\n"
          ]
        }
      ]
    },
    {
      "cell_type": "code",
      "source": [
        "#Prime Number\n",
        "\n",
        "num = int(input(\"Enter any number : \"))\n",
        "\n",
        "if num <= 1:\n",
        "  print(\"It is not a prime number.\")\n",
        "else:\n",
        "  for i in range(2, num):\n",
        "    if num % i == 0:\n",
        "      print(\"It is not a prime number.\")\n",
        "      break\n",
        "  else:\n",
        "      print(\"It is a prime number.\")"
      ],
      "metadata": {
        "colab": {
          "base_uri": "https://localhost:8080/"
        },
        "id": "EnV4ppm0Y5SP",
        "outputId": "21d3a7a2-9acd-43e6-f28c-c156cf016dd3"
      },
      "execution_count": 18,
      "outputs": [
        {
          "output_type": "stream",
          "name": "stdout",
          "text": [
            "Enter any number : 11\n",
            "It is a prime number.\n"
          ]
        }
      ]
    },
    {
      "cell_type": "code",
      "source": [
        "#Palindrome Number\n",
        "\n",
        "num = int(input(\"Enter any number : \"))\n",
        "temp = num\n",
        "rev = 0\n",
        "rem = 0\n",
        "\n",
        "while num > 0:\n",
        "  rem = num % 10\n",
        "  rev = rev * 10 + rem\n",
        "  num = num // 10\n",
        "\n",
        "if rev == temp:\n",
        "  print(\"It is a Palindrome Number\")\n",
        "else:\n",
        "  print(\"It is not a Palindrome Number\")"
      ],
      "metadata": {
        "colab": {
          "base_uri": "https://localhost:8080/"
        },
        "id": "e0_xQcBHaYST",
        "outputId": "fe7d71c9-6e47-47cf-9eda-863c1764416e"
      },
      "execution_count": 35,
      "outputs": [
        {
          "output_type": "stream",
          "name": "stdout",
          "text": [
            "Enter any number : 121\n",
            "It is a Palindrome Number\n"
          ]
        }
      ]
    },
    {
      "cell_type": "code",
      "source": [
        "#Palindrome Number\n",
        "\n",
        "num = input(\"Enter any number : \")\n",
        "temp = (num[::-1])\n",
        "\n",
        "if num == temp:\n",
        "  print(\"It is a Palindrome Number\")\n",
        "else:\n",
        "  print(\"It is not a Palindrome Number\")"
      ],
      "metadata": {
        "colab": {
          "base_uri": "https://localhost:8080/"
        },
        "id": "K5pUtg1bfbE9",
        "outputId": "a7814677-0add-4511-966c-4f78948d9c36"
      },
      "execution_count": 28,
      "outputs": [
        {
          "output_type": "stream",
          "name": "stdout",
          "text": [
            "Enter any number : 123321\n",
            "It is a Palindrome Number\n"
          ]
        }
      ]
    },
    {
      "cell_type": "code",
      "source": [
        "#Problem Solving\n",
        "#1. Separate the following string into a comma(,)\n",
        "a = \"OOTD.YOLO.ASAP.BRB.GTG.OTW\"\n",
        "\n",
        "b = a.split(\".\")\n",
        "print(b)\n"
      ],
      "metadata": {
        "colab": {
          "base_uri": "https://localhost:8080/"
        },
        "id": "yh8KeFnkf6GX",
        "outputId": "5398e5d3-6d41-4266-eae5-39e090e36b55"
      },
      "execution_count": 52,
      "outputs": [
        {
          "output_type": "stream",
          "name": "stdout",
          "text": [
            "['OOTD', 'YOLO', 'ASAP', 'BRB', 'GTG', 'OTW']\n"
          ]
        }
      ]
    },
    {
      "cell_type": "code",
      "source": [
        "#Problem Solving\n",
        "#2. Sort string alphabetically.\n",
        "a = \"OOTD.YOLO.ASAP.BRB.GTG.OTW\"\n",
        "\n",
        "b = sorted(a)\n",
        "print(b)"
      ],
      "metadata": {
        "colab": {
          "base_uri": "https://localhost:8080/"
        },
        "id": "KcrbeFAUlZTk",
        "outputId": "f781eafc-6ae9-42fd-87c6-c52099855921"
      },
      "execution_count": 53,
      "outputs": [
        {
          "output_type": "stream",
          "name": "stdout",
          "text": [
            "['.', '.', '.', '.', '.', 'A', 'A', 'B', 'B', 'D', 'G', 'G', 'L', 'O', 'O', 'O', 'O', 'O', 'P', 'R', 'S', 'T', 'T', 'T', 'W', 'Y']\n"
          ]
        }
      ]
    },
    {
      "cell_type": "code",
      "source": [
        "#Problem Solving\n",
        "#3. Remove Given character from string\n",
        "\n",
        "a = \"Hello\"\n",
        "\n",
        "b = a.replace(\"e\", \"\")\n",
        "print(b)"
      ],
      "metadata": {
        "colab": {
          "base_uri": "https://localhost:8080/"
        },
        "id": "7aKmLWX7ng2H",
        "outputId": "942f6def-049b-4d19-c545-9d7616d98eff"
      },
      "execution_count": 54,
      "outputs": [
        {
          "output_type": "stream",
          "name": "stdout",
          "text": [
            "Hllo\n"
          ]
        }
      ]
    },
    {
      "cell_type": "code",
      "source": [
        "#Problem Solving\n",
        "#4. Remove the Dot(.) from the given string.\n",
        "\n",
        "a = \"F.R.I.E.N.D.S\"\n",
        "\n",
        "b = a.replace(\".\", \"\")\n",
        "print(b)"
      ],
      "metadata": {
        "colab": {
          "base_uri": "https://localhost:8080/"
        },
        "id": "srbCZarWoC7y",
        "outputId": "b34487bb-be6f-4b0c-b814-d2b05fb56d5a"
      },
      "execution_count": 56,
      "outputs": [
        {
          "output_type": "stream",
          "name": "stdout",
          "text": [
            "FRIENDS\n"
          ]
        }
      ]
    },
    {
      "cell_type": "code",
      "source": [
        "#5. Number of occurance of a substring in a string.\n",
        "\n",
        "a = \"India, officially the Republic of India (ISO: Bhārat Gaṇarājya), is a country in South Asia. It is the seventh-largest country by area; the most populous country as of June 2023 and from the time of its independence in 1947.\"\n",
        "\n",
        "b = a.count(\"India\")\n",
        "print(\"The Word India occurance \", b)"
      ],
      "metadata": {
        "colab": {
          "base_uri": "https://localhost:8080/"
        },
        "id": "nGxRkcJpoZkS",
        "outputId": "cf89791e-925c-4c95-a1d3-25a392213c66"
      },
      "execution_count": 65,
      "outputs": [
        {
          "output_type": "stream",
          "name": "stdout",
          "text": [
            "The Word India occurance  2\n"
          ]
        }
      ]
    },
    {
      "cell_type": "code",
      "source": [
        "#6. Take a string from user and reverse it.\n",
        "\n",
        "s = input(\"Enter anything : \")\n",
        "\n",
        "print(s[::-1])"
      ],
      "metadata": {
        "colab": {
          "base_uri": "https://localhost:8080/"
        },
        "id": "iixOPkqRo8wc",
        "outputId": "84290ea2-a7aa-4d96-8103-7f7316304d3b"
      },
      "execution_count": 77,
      "outputs": [
        {
          "output_type": "stream",
          "name": "stdout",
          "text": [
            "Enter anything : Hello\n",
            "olleH\n"
          ]
        }
      ]
    },
    {
      "cell_type": "code",
      "source": [
        "#Check if string has only digits\n",
        "\n",
        "b = input(\"Enter any digit : \")\n",
        "\n",
        "b.isdigit()"
      ],
      "metadata": {
        "colab": {
          "base_uri": "https://localhost:8080/"
        },
        "id": "4FVbxXcnrBwp",
        "outputId": "07e6d4c8-205a-4b99-e080-5706d6c512a6"
      },
      "execution_count": 79,
      "outputs": [
        {
          "name": "stdout",
          "output_type": "stream",
          "text": [
            "Enter any digit12354\n"
          ]
        },
        {
          "output_type": "execute_result",
          "data": {
            "text/plain": [
              "True"
            ]
          },
          "metadata": {},
          "execution_count": 79
        }
      ]
    },
    {
      "cell_type": "code",
      "source": [
        "#String is palindrome or not\n",
        "\n",
        "a = input(\"Enter any string : \")\n",
        "rev = (a[::-1])\n",
        "\n",
        "if a == rev:\n",
        "  print(\"The string is palindrome.\")\n",
        "else:\n",
        "  print(\"The string is not palindrome.\")"
      ],
      "metadata": {
        "colab": {
          "base_uri": "https://localhost:8080/"
        },
        "id": "DyWe86EDrdx9",
        "outputId": "be0b458c-2c3f-4554-8772-4a8a9cf8c957"
      },
      "execution_count": 88,
      "outputs": [
        {
          "output_type": "stream",
          "name": "stdout",
          "text": [
            "Enter any string : madam\n",
            "The string is palindrome.\n"
          ]
        }
      ]
    },
    {
      "cell_type": "code",
      "source": [
        "#check vowels in given string\n",
        "\n",
        "a = input(\"Enter any string : \")\n",
        "vowels = 0\n",
        "\n",
        "for i in a:\n",
        "  if i ==\"a\" or i ==\"o\" or i == \"u\" or i ==\"i\" or i == \"u\":\n",
        "    vowels += 1\n",
        "print(\"Total no. of vowels in following string : \", vowels)"
      ],
      "metadata": {
        "colab": {
          "base_uri": "https://localhost:8080/"
        },
        "id": "Rd6CQJ51sUcz",
        "outputId": "ad064bbf-a537-44c5-dc81-ad1a1378d6be"
      },
      "execution_count": 89,
      "outputs": [
        {
          "output_type": "stream",
          "name": "stdout",
          "text": [
            "Enter any string : amit\n",
            "Total no. of vowels in following string :  2\n"
          ]
        }
      ]
    },
    {
      "cell_type": "code",
      "source": [
        "a = \"Harry Potter And The goblet Of Fire\"\n",
        "\n",
        "a.istitle()"
      ],
      "metadata": {
        "colab": {
          "base_uri": "https://localhost:8080/"
        },
        "id": "14WT8A5FRL_X",
        "outputId": "3caa831e-e521-456b-e907-b34ce97850d8"
      },
      "execution_count": 90,
      "outputs": [
        {
          "output_type": "execute_result",
          "data": {
            "text/plain": [
              "False"
            ]
          },
          "metadata": {},
          "execution_count": 90
        }
      ]
    },
    {
      "cell_type": "code",
      "source": [
        "a = [\"Rose\", \"Rachel\", \"Monica\", \"Joe\"]\n",
        "\n",
        "#write a program to delete 3rd position.\n",
        "\n",
        "print(a.pop(3))\n",
        "print(a)\n",
        "\n",
        "#add a new item in 2nd position\n",
        "print(a.insert(2, \"Amit\"))\n",
        "\n",
        "print(a)"
      ],
      "metadata": {
        "colab": {
          "base_uri": "https://localhost:8080/"
        },
        "id": "FKl31ejxRjh3",
        "outputId": "c55c9455-2ee4-47f0-cace-d95deb7f9cf9"
      },
      "execution_count": 95,
      "outputs": [
        {
          "output_type": "stream",
          "name": "stdout",
          "text": [
            "Joe\n",
            "['Rose', 'Rachel', 'Monica']\n",
            "None\n",
            "['Rose', 'Rachel', 'Amit', 'Monica']\n"
          ]
        }
      ]
    },
    {
      "cell_type": "code",
      "source": [
        "a = [\"Rose\", \"Rachel\", \"Monica\", \"Joe\"]\n",
        "\n",
        "#swap 1st and 4th\n",
        "\n",
        "a[0], a[3] = a[3], a[0]\n",
        "print(a)"
      ],
      "metadata": {
        "colab": {
          "base_uri": "https://localhost:8080/"
        },
        "id": "LPDjJ9T9dAgD",
        "outputId": "5ce15d0c-16c4-49a4-cb76-78dc9a0cd9de"
      },
      "execution_count": 96,
      "outputs": [
        {
          "output_type": "stream",
          "name": "stdout",
          "text": [
            "['Joe', 'Rachel', 'Monica', 'Rose']\n"
          ]
        }
      ]
    },
    {
      "cell_type": "code",
      "source": [
        "b = [13, 7, 12, 10]\n",
        "\n",
        "sum = 1\n",
        "for i in b:\n",
        "  sum = sum * i\n",
        "print(sum)"
      ],
      "metadata": {
        "colab": {
          "base_uri": "https://localhost:8080/"
        },
        "id": "52ZiHpqmeNz3",
        "outputId": "59b2e1ff-0c22-4a16-97cf-7a65c9a34a1d"
      },
      "execution_count": 97,
      "outputs": [
        {
          "output_type": "stream",
          "name": "stdout",
          "text": [
            "10920\n"
          ]
        }
      ]
    },
    {
      "cell_type": "code",
      "source": [
        "b = [13, 7, 12, 10]\n",
        "\n",
        "#largest value\n",
        "b.sort()\n",
        "print(b)\n",
        "print(\"Largest value from the list is \", b[-1])\n",
        "print(\"smallest value from the list is \", b[0])"
      ],
      "metadata": {
        "colab": {
          "base_uri": "https://localhost:8080/"
        },
        "id": "bYWFWvsLfA8m",
        "outputId": "fd82bb07-503b-4f23-e6af-34f550c1340c"
      },
      "execution_count": 100,
      "outputs": [
        {
          "output_type": "stream",
          "name": "stdout",
          "text": [
            "[7, 10, 12, 13]\n",
            "Largest value from the list is  13\n",
            "smallest value from the list is  7\n"
          ]
        }
      ]
    },
    {
      "cell_type": "code",
      "source": [],
      "metadata": {
        "id": "_H_OUS9KgT1i"
      },
      "execution_count": null,
      "outputs": []
    }
  ]
}