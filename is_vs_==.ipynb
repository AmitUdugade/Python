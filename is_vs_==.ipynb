{
  "nbformat": 4,
  "nbformat_minor": 0,
  "metadata": {
    "colab": {
      "provenance": [],
      "authorship_tag": "ABX9TyPLZf1KECLDLjtrWCDzR4Vl",
      "include_colab_link": true
    },
    "kernelspec": {
      "name": "python3",
      "display_name": "Python 3"
    },
    "language_info": {
      "name": "python"
    }
  },
  "cells": [
    {
      "cell_type": "markdown",
      "metadata": {
        "id": "view-in-github",
        "colab_type": "text"
      },
      "source": [
        "<a href=\"https://colab.research.google.com/github/AmitUdugade/PythonBasicsWorkspace/blob/main/is_vs_%3D%3D.ipynb\" target=\"_parent\"><img src=\"https://colab.research.google.com/assets/colab-badge.svg\" alt=\"Open In Colab\"/></a>"
      ]
    },
    {
      "cell_type": "code",
      "execution_count": 10,
      "metadata": {
        "colab": {
          "base_uri": "https://localhost:8080/"
        },
        "id": "_CkPNmu43jXU",
        "outputId": "d6af96ac-e165-4b05-a710-d0c3a79d7c4d"
      },
      "outputs": [
        {
          "output_type": "stream",
          "name": "stdout",
          "text": [
            "False\n",
            "False\n",
            "\n",
            "\n",
            "True\n",
            "True\n"
          ]
        }
      ],
      "source": [
        "#is vs ==\n",
        "\n",
        "# is operator compares the identity of the two objects.\n",
        "# == operator compares the values of the two objects.\n",
        "\n",
        "a = 10\n",
        "b = \"10\"\n",
        "c = 10\n",
        "\n",
        "print(a is b)  #exact location of object in the memory.\n",
        "print(a == b)  #value based.\n",
        "print(\"\\n\")\n",
        "print(a is c)\n",
        "print(a == c)"
      ]
    },
    {
      "cell_type": "code",
      "source": [
        "a = [1, 2, 3]\n",
        "b = [1, 2, 3]\n",
        "\n",
        "print(id(a))\n",
        "print(id(b))\n",
        "\n",
        "print(a is b)\n",
        "print(a == b)"
      ],
      "metadata": {
        "colab": {
          "base_uri": "https://localhost:8080/"
        },
        "id": "2n6LplTO3vH0",
        "outputId": "d151ebb5-caaa-4d0e-ecdc-a67915f2662b"
      },
      "execution_count": 14,
      "outputs": [
        {
          "output_type": "stream",
          "name": "stdout",
          "text": [
            "139707897885696\n",
            "139707897882112\n",
            "False\n",
            "True\n"
          ]
        }
      ]
    },
    {
      "cell_type": "code",
      "source": [
        "c = (1, 2)\n",
        "d = (1, 2)\n",
        "\n",
        "print(id(c))\n",
        "print(id(d))\n",
        "\n",
        "print(c is d)\n",
        "print(c == d)"
      ],
      "metadata": {
        "colab": {
          "base_uri": "https://localhost:8080/"
        },
        "id": "l-m-vq__5Rxz",
        "outputId": "44c840f2-758c-4199-9a3a-57cf6dccc97e"
      },
      "execution_count": 18,
      "outputs": [
        {
          "output_type": "stream",
          "name": "stdout",
          "text": [
            "139707897984640\n",
            "139707896783936\n",
            "False\n",
            "True\n"
          ]
        }
      ]
    },
    {
      "cell_type": "code",
      "source": [
        "a = None\n",
        "b = None\n",
        "\n",
        "print(a is b)\n",
        "print(a == b)\n",
        "print(a is None)\n",
        "print(a == None)"
      ],
      "metadata": {
        "colab": {
          "base_uri": "https://localhost:8080/"
        },
        "id": "dyNlutkc9Kme",
        "outputId": "cf47cd8d-5fe5-48d7-d1ca-14ba726fa8a9"
      },
      "execution_count": 23,
      "outputs": [
        {
          "output_type": "stream",
          "name": "stdout",
          "text": [
            "True\n",
            "True\n",
            "True\n",
            "True\n"
          ]
        }
      ]
    },
    {
      "cell_type": "code",
      "source": [],
      "metadata": {
        "id": "HsEz8ns89ujU"
      },
      "execution_count": null,
      "outputs": []
    }
  ]
}