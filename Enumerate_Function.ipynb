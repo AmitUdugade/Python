{
  "nbformat": 4,
  "nbformat_minor": 0,
  "metadata": {
    "colab": {
      "provenance": [],
      "authorship_tag": "ABX9TyP16FBX6VLHkGDP2v3z6CKn",
      "include_colab_link": true
    },
    "kernelspec": {
      "name": "python3",
      "display_name": "Python 3"
    },
    "language_info": {
      "name": "python"
    }
  },
  "cells": [
    {
      "cell_type": "markdown",
      "metadata": {
        "id": "view-in-github",
        "colab_type": "text"
      },
      "source": [
        "<a href=\"https://colab.research.google.com/github/AmitUdugade/PythonBasicsWorkspace/blob/main/Enumerate_Function.ipynb\" target=\"_parent\"><img src=\"https://colab.research.google.com/assets/colab-badge.svg\" alt=\"Open In Colab\"/></a>"
      ]
    },
    {
      "cell_type": "code",
      "execution_count": 1,
      "metadata": {
        "colab": {
          "base_uri": "https://localhost:8080/"
        },
        "id": "dyURJMpzgtmt",
        "outputId": "e0848e21-57f7-4e50-a5c5-22144a6399d6"
      },
      "outputs": [
        {
          "output_type": "stream",
          "name": "stdout",
          "text": [
            "0 A\n",
            "1 m\n",
            "2 i\n",
            "3 t\n",
            "4  \n",
            "5 T\n",
            "6 u\n",
            "7 k\n",
            "8 a\n",
            "9 r\n",
            "10 a\n",
            "11 m\n",
            "12  \n",
            "13 U\n",
            "14 d\n",
            "15 u\n",
            "16 g\n",
            "17 a\n",
            "18 d\n",
            "19 e\n"
          ]
        }
      ],
      "source": [
        "#Enumerate - is a built-in function in pythonthat allows you to loop over a sequence.(eg. list, tuple, strings etc.)\n",
        "#            Get the index number and value of each element in the sequence.\n",
        "\n",
        "name = \"Amit Tukaram Udugade\"\n",
        "\n",
        "for index, name in enumerate(name):\n",
        "  print(index,name)\n"
      ]
    },
    {
      "cell_type": "code",
      "source": [
        "fruits = [\"Apple\", \"Mango\", \"Banana\", \"Grapes\"]\n",
        "for index, fruits in enumerate(fruits, start = 1):\n",
        "  print(fruits, \"at index\", index)"
      ],
      "metadata": {
        "colab": {
          "base_uri": "https://localhost:8080/"
        },
        "id": "bGkTZh1Xg6tG",
        "outputId": "25f0f961-c56a-4f48-d977-2c2b16fe1c96"
      },
      "execution_count": 18,
      "outputs": [
        {
          "output_type": "stream",
          "name": "stdout",
          "text": [
            "Apple at index 1\n",
            "Mango at index 2\n",
            "Banana at index 3\n",
            "Grapes at index 4\n"
          ]
        }
      ]
    },
    {
      "cell_type": "code",
      "source": [
        "#Without enumerate function\n",
        "\n",
        "fruits = ['apple', 'banana', 'orange', 'grape']\n",
        "\n",
        "index = 0\n",
        "for item in fruits:\n",
        "    print(f\"Index {index}: {item}\")\n",
        "    index += 1\n"
      ],
      "metadata": {
        "colab": {
          "base_uri": "https://localhost:8080/"
        },
        "id": "M9XgtjMziedX",
        "outputId": "2dd3c15b-9a7f-4468-dfe6-6f842eef8929"
      },
      "execution_count": 17,
      "outputs": [
        {
          "output_type": "stream",
          "name": "stdout",
          "text": [
            "Index 0: apple\n",
            "Index 1: banana\n",
            "Index 2: orange\n",
            "Index 3: grape\n"
          ]
        }
      ]
    },
    {
      "cell_type": "code",
      "source": [],
      "metadata": {
        "id": "uYrOBcM2i4HG"
      },
      "execution_count": null,
      "outputs": []
    }
  ]
}