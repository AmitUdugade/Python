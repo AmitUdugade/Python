{
  "nbformat": 4,
  "nbformat_minor": 0,
  "metadata": {
    "colab": {
      "provenance": [],
      "authorship_tag": "ABX9TyNA0zPKH2NEUGz4Ry6dgOJD",
      "include_colab_link": true
    },
    "kernelspec": {
      "name": "python3",
      "display_name": "Python 3"
    },
    "language_info": {
      "name": "python"
    }
  },
  "cells": [
    {
      "cell_type": "markdown",
      "metadata": {
        "id": "view-in-github",
        "colab_type": "text"
      },
      "source": [
        "<a href=\"https://colab.research.google.com/github/AmitUdugade/PythonBasicsWorkspace/blob/main/Day6_0902.ipynb\" target=\"_parent\"><img src=\"https://colab.research.google.com/assets/colab-badge.svg\" alt=\"Open In Colab\"/></a>"
      ]
    },
    {
      "cell_type": "code",
      "execution_count": 6,
      "metadata": {
        "colab": {
          "base_uri": "https://localhost:8080/"
        },
        "id": "donQ-5_rjYt1",
        "outputId": "073cf92f-889c-475a-999e-495ab39a81e3"
      },
      "outputs": [
        {
          "output_type": "stream",
          "name": "stdout",
          "text": [
            "('Vivo', 'Samsung')\n",
            "('Vivo', 'Oppo', 'Redmi')\n",
            "('Samsung', 'Oppo', 'Apple', 'Redmi')\n",
            "('Redmi', 'Apple', 'Oppo', 'Samsung', 'Vivo', 'OnePlus')\n"
          ]
        }
      ],
      "source": [
        "a = (\"OnePlus\", \"Vivo\", \"Samsung\", \"Oppo\", \"Apple\", \"Redmi\")\n",
        "\n",
        "print(a[1:3])\n",
        "print(a[1: :2])\n",
        "print(a[2:])\n",
        "print(a[: :-1])"
      ]
    },
    {
      "cell_type": "code",
      "source": [
        "a = (\"OnePlus\", \"Vivo\", \"Samsung\", \"Oppo\", \"Apple\", \"Redmi\")\n",
        "\n",
        "i = 0\n",
        "while i < len(a):\n",
        "  print(a[i])\n",
        "  i += 1"
      ],
      "metadata": {
        "colab": {
          "base_uri": "https://localhost:8080/"
        },
        "id": "7ZfJRrt_jobQ",
        "outputId": "008e5696-21f7-4182-d5e5-e7cfbefc1def"
      },
      "execution_count": 12,
      "outputs": [
        {
          "output_type": "stream",
          "name": "stdout",
          "text": [
            "OnePlus\n",
            "Vivo\n",
            "Samsung\n",
            "Oppo\n",
            "Apple\n",
            "Redmi\n"
          ]
        }
      ]
    },
    {
      "cell_type": "code",
      "source": [
        "d = {\"d\":15, \"a\": 12, \"b\":13, \"c\":14}\n",
        "\n",
        "d = sorted(d.values())  #Sorted by values\n",
        "print(d)"
      ],
      "metadata": {
        "colab": {
          "base_uri": "https://localhost:8080/"
        },
        "id": "Re72X_eSl8TA",
        "outputId": "ee4b4332-6c52-45a0-bc84-f18f14e4a152"
      },
      "execution_count": 22,
      "outputs": [
        {
          "output_type": "stream",
          "name": "stdout",
          "text": [
            "['a', 'b', 'c', 'd']\n"
          ]
        }
      ]
    },
    {
      "cell_type": "code",
      "source": [
        "d = {\"d\":15, \"a\": 12, \"b\":13, \"c\":14}\n",
        "res = 1\n",
        "for i in d:\n",
        "\n",
        "  res = d[i] * res\n",
        "print(res)"
      ],
      "metadata": {
        "colab": {
          "base_uri": "https://localhost:8080/"
        },
        "id": "dAHPttnDs3iN",
        "outputId": "49688756-3053-4a07-f26e-9934ab0b3b5b"
      },
      "execution_count": 25,
      "outputs": [
        {
          "output_type": "stream",
          "name": "stdout",
          "text": [
            "32760\n"
          ]
        }
      ]
    },
    {
      "cell_type": "code",
      "source": [
        "a = {12, 13, 14, 15}\n",
        "\n",
        "print(\"maximum\", max(a))\n",
        "print(\"Minimum\", min(a))"
      ],
      "metadata": {
        "colab": {
          "base_uri": "https://localhost:8080/"
        },
        "id": "NMapcTAVvA5I",
        "outputId": "0b02727c-7f29-45b1-94cb-224e721f363e"
      },
      "execution_count": 29,
      "outputs": [
        {
          "output_type": "stream",
          "name": "stdout",
          "text": [
            "maximum 15\n",
            "Minimum 12\n"
          ]
        }
      ]
    },
    {
      "cell_type": "code",
      "source": [
        "a = {1, 2, 3, 4, 5}\n",
        "b = {4, 5, 6, 7}\n",
        "c = {6, 7, 8, 9}\n",
        "\n",
        "print(set(a) & set(b) & set(c))\n",
        "print(a.difference(b))\n",
        "c.discard(8)    #remove value 8\n",
        "print(c)\n",
        "\n",
        "print(b.issubset(a))"
      ],
      "metadata": {
        "colab": {
          "base_uri": "https://localhost:8080/"
        },
        "id": "9x9SnqsfClnj",
        "outputId": "097eb09a-1e66-4186-bc68-efd84b89fc5a"
      },
      "execution_count": 33,
      "outputs": [
        {
          "output_type": "stream",
          "name": "stdout",
          "text": [
            "set()\n",
            "{1, 2, 3}\n",
            "{9, 6, 7}\n",
            "False\n"
          ]
        }
      ]
    },
    {
      "cell_type": "code",
      "source": [
        "#Nested Dictionaries\n",
        "\n",
        "employees = {1: {\"Name\" : \"Amit\", \"Age\" : 28},\n",
        "            2: {\"name\" : \"Sumit\", \"Age\" : 27}\n",
        "            }\n",
        "\n",
        "print(employees[2][\"Age\"])\n",
        "print(employees)"
      ],
      "metadata": {
        "colab": {
          "base_uri": "https://localhost:8080/"
        },
        "id": "F4jX2CcZDRsM",
        "outputId": "1963b705-c2db-4d6f-9536-dd7616bc9a1b"
      },
      "execution_count": 37,
      "outputs": [
        {
          "output_type": "stream",
          "name": "stdout",
          "text": [
            "27\n",
            "{1: {'Name': 'Amit', 'Age': 28}, 2: {'name': 'Sumit', 'Age': 27}}\n"
          ]
        }
      ]
    },
    {
      "cell_type": "code",
      "source": [
        "students = {'Name': 'Amit', 'Age': 28, 'name': 'Sumit', 'Age': 27}\n",
        "\n",
        "for x in students:\n",
        "  print(x)   #Keys\n",
        "  print(students[x])   #Values\n",
        "\n"
      ],
      "metadata": {
        "colab": {
          "base_uri": "https://localhost:8080/"
        },
        "id": "pD0PFvM8E-S3",
        "outputId": "7e90fc48-deae-4a71-e31a-b4385381d647"
      },
      "execution_count": 44,
      "outputs": [
        {
          "output_type": "stream",
          "name": "stdout",
          "text": [
            "Name\n",
            "Amit\n",
            "Age\n",
            "27\n",
            "name\n",
            "Sumit\n"
          ]
        }
      ]
    },
    {
      "cell_type": "code",
      "source": [
        "students = {'Name': 'Amit', 'Age': 28, 'name': 'Sumit', 'Age': 27}\n",
        "\n",
        "  for x, y in students.items():\n",
        "    print(x, \"-\" , y)"
      ],
      "metadata": {
        "colab": {
          "base_uri": "https://localhost:8080/"
        },
        "id": "HeMSIALJFpcq",
        "outputId": "5f7d9898-0c33-4538-ec54-60f1271f84dd"
      },
      "execution_count": 47,
      "outputs": [
        {
          "output_type": "stream",
          "name": "stdout",
          "text": [
            "Name - Amit\n",
            "Age - 27\n",
            "name - Sumit\n"
          ]
        }
      ]
    },
    {
      "cell_type": "code",
      "source": [
        "students = {'Name': 'Amit', 'Age': 28, 'Name': 'Sumit', 'Age': 27}\n",
        "\n",
        "print(students[\"Name\"])"
      ],
      "metadata": {
        "colab": {
          "base_uri": "https://localhost:8080/"
        },
        "id": "GNi1sF0BGd4l",
        "outputId": "e1fc13a8-cb33-445d-f21e-9675003392dd"
      },
      "execution_count": 50,
      "outputs": [
        {
          "output_type": "stream",
          "name": "stdout",
          "text": [
            "Sumit\n"
          ]
        }
      ]
    },
    {
      "cell_type": "code",
      "source": [
        "student = {'Name': 'Amit', 'Age': 28}\n",
        "\n",
        "x = student.get(\"Age\")\n",
        "print(x)\n",
        "y = student.values()\n",
        "print(y)\n",
        "\n",
        "student_copy = student.copy()\n",
        "print(student_copy)"
      ],
      "metadata": {
        "colab": {
          "base_uri": "https://localhost:8080/"
        },
        "id": "9wwj6_xNID1m",
        "outputId": "8424b6b4-121d-4602-9bc5-77f86d5b582b"
      },
      "execution_count": 59,
      "outputs": [
        {
          "output_type": "stream",
          "name": "stdout",
          "text": [
            "28\n",
            "dict_values(['Amit', 28])\n",
            "{'Name': 'Amit', 'Age': 28}\n"
          ]
        }
      ]
    },
    {
      "cell_type": "code",
      "source": [
        "a = {\"superman\", \"spiderman\", \"hulk\"}\n",
        "\n",
        "a.add(\"thor\")\n",
        "print(a)"
      ],
      "metadata": {
        "colab": {
          "base_uri": "https://localhost:8080/"
        },
        "id": "U8089HnLG0aV",
        "outputId": "7ff144c8-0b76-4f7b-c7f9-85b3b0ab74cd"
      },
      "execution_count": 52,
      "outputs": [
        {
          "output_type": "stream",
          "name": "stdout",
          "text": [
            "{'thor', 'hulk', 'spiderman', 'superman'}\n"
          ]
        }
      ]
    },
    {
      "cell_type": "code",
      "source": [
        "a = {\"superman\", \"spiderman\", \"hulk\"}\n",
        "\n",
        "a.pop()   #Randomly removes\n",
        "print(a)"
      ],
      "metadata": {
        "colab": {
          "base_uri": "https://localhost:8080/"
        },
        "id": "eTI1mMefHOTa",
        "outputId": "cfa87d1d-f8e3-4530-ded0-4ab91a21d142"
      },
      "execution_count": 53,
      "outputs": [
        {
          "output_type": "stream",
          "name": "stdout",
          "text": [
            "{'spiderman', 'superman'}\n"
          ]
        }
      ]
    },
    {
      "cell_type": "code",
      "source": [
        "a = {\"superman\", \"spiderman\", \"hulk\"}\n",
        "\n",
        "a.remove(\"superman\")\n",
        "print(a)"
      ],
      "metadata": {
        "colab": {
          "base_uri": "https://localhost:8080/"
        },
        "id": "UlLPj4L8HcQU",
        "outputId": "857e1389-c195-4f6d-9ecd-b59b092cb278"
      },
      "execution_count": 54,
      "outputs": [
        {
          "output_type": "stream",
          "name": "stdout",
          "text": [
            "{'hulk', 'spiderman'}\n"
          ]
        }
      ]
    },
    {
      "cell_type": "code",
      "source": [
        "a = {\"superman\", \"spiderman\", \"hulk\"}\n",
        "\n",
        "b = a.copy()\n",
        "print(b)"
      ],
      "metadata": {
        "colab": {
          "base_uri": "https://localhost:8080/"
        },
        "id": "odGv-57sHkgQ",
        "outputId": "d2b66d40-4b51-400e-af95-d2cf3b21ec34"
      },
      "execution_count": 55,
      "outputs": [
        {
          "output_type": "stream",
          "name": "stdout",
          "text": [
            "{'hulk', 'spiderman', 'superman'}\n"
          ]
        }
      ]
    },
    {
      "cell_type": "code",
      "source": [
        "def hello():\n",
        "  print(\"Hello World\")\n",
        "\n",
        "hello()"
      ],
      "metadata": {
        "colab": {
          "base_uri": "https://localhost:8080/"
        },
        "id": "DihZ6igqHrLf",
        "outputId": "443116a0-2700-439c-d5c1-289020d800b4"
      },
      "execution_count": 60,
      "outputs": [
        {
          "output_type": "stream",
          "name": "stdout",
          "text": [
            "Hello World\n"
          ]
        }
      ]
    },
    {
      "cell_type": "code",
      "source": [
        "def addition():\n",
        "  a = 10\n",
        "  b = 20\n",
        "  print(a+b)\n",
        "\n",
        "addition()"
      ],
      "metadata": {
        "colab": {
          "base_uri": "https://localhost:8080/"
        },
        "id": "32xzeN41POz-",
        "outputId": "a5579118-ccc6-4309-ac81-76a87f574b91"
      },
      "execution_count": 62,
      "outputs": [
        {
          "output_type": "stream",
          "name": "stdout",
          "text": [
            "30\n"
          ]
        }
      ]
    },
    {
      "cell_type": "code",
      "source": [
        "def add(x,y):\n",
        "  return x + y\n",
        "\n",
        "add(10,30)"
      ],
      "metadata": {
        "colab": {
          "base_uri": "https://localhost:8080/"
        },
        "id": "gPzx22yVPYWG",
        "outputId": "7ca987bc-bd2f-42f8-ec93-d829422bb57e"
      },
      "execution_count": 63,
      "outputs": [
        {
          "output_type": "execute_result",
          "data": {
            "text/plain": [
              "40"
            ]
          },
          "metadata": {},
          "execution_count": 63
        }
      ]
    },
    {
      "cell_type": "code",
      "source": [
        "#recursion\n",
        "# A functiobn can call itself.\n",
        "#Disadvantage -\n",
        "# recursive function take up a lot memory.\n",
        "# sometimes the logic becomes hard to follow.\n",
        "# debugging is difficult.\n",
        "\n",
        "\n",
        "def hello():\n",
        "  print(\"Hello World\")\n",
        "  return hello()     #return keyword is used to exit a function and return the value of the function.\n",
        "\n",
        "print(hello())"
      ],
      "metadata": {
        "id": "iqshs013P8ld"
      },
      "execution_count": null,
      "outputs": []
    },
    {
      "cell_type": "code",
      "source": [
        "def factorial(n):\n",
        "  if n == 1:\n",
        "    return 1\n",
        "  else:\n",
        "    return n * factorial(n-1)\n",
        "\n",
        "factorial(5)\n",
        "\n"
      ],
      "metadata": {
        "colab": {
          "base_uri": "https://localhost:8080/"
        },
        "id": "hONaSjg7QEl4",
        "outputId": "7ae5df1a-950c-4cef-f26b-4c1108d6ce6a"
      },
      "execution_count": 66,
      "outputs": [
        {
          "output_type": "execute_result",
          "data": {
            "text/plain": [
              "120"
            ]
          },
          "metadata": {},
          "execution_count": 66
        }
      ]
    },
    {
      "cell_type": "code",
      "source": [
        "def add(x,y):\n",
        "  print(x+y)\n",
        "\n",
        "add(10,10)"
      ],
      "metadata": {
        "colab": {
          "base_uri": "https://localhost:8080/"
        },
        "id": "nw4FkkSJQOOA",
        "outputId": "b94bc8f7-512f-414c-dd78-1e2b87e9505c"
      },
      "execution_count": 67,
      "outputs": [
        {
          "output_type": "stream",
          "name": "stdout",
          "text": [
            "20\n"
          ]
        }
      ]
    },
    {
      "cell_type": "code",
      "source": [
        "#Arbitary Arguments\n",
        "#can pass multiple arguments\n",
        "\n",
        "def hello (*name):\n",
        "  print(\"Hello, My name is\", name[1])\n",
        "\n",
        "hello(\"Amit\", \"Sumit\")"
      ],
      "metadata": {
        "colab": {
          "base_uri": "https://localhost:8080/"
        },
        "id": "e4L4IR9-QjnF",
        "outputId": "ea0eb54e-c8a8-4185-83f9-bc3886548729"
      },
      "execution_count": 69,
      "outputs": [
        {
          "output_type": "stream",
          "name": "stdout",
          "text": [
            "Hello, My name is Sumit\n"
          ]
        }
      ]
    },
    {
      "cell_type": "code",
      "source": [
        "#lambda function - Temporary function - not stored in a memory.\n",
        "\n",
        "a = lambda b:b*5\n",
        "print(a(4))"
      ],
      "metadata": {
        "colab": {
          "base_uri": "https://localhost:8080/"
        },
        "id": "FESwXKVuQ3vW",
        "outputId": "3692453e-6a72-4097-e3f9-8c8080b471d7"
      },
      "execution_count": 70,
      "outputs": [
        {
          "output_type": "stream",
          "name": "stdout",
          "text": [
            "20\n"
          ]
        }
      ]
    },
    {
      "cell_type": "code",
      "source": [
        "x = lambda a,b,c:(a+b)*c\n",
        "print (x(3, 7, 3))\n"
      ],
      "metadata": {
        "colab": {
          "base_uri": "https://localhost:8080/"
        },
        "id": "sih8KwOIR5Nu",
        "outputId": "7028973a-c310-460c-a8d3-f5f6a825e841"
      },
      "execution_count": 74,
      "outputs": [
        {
          "output_type": "stream",
          "name": "stdout",
          "text": [
            "30\n"
          ]
        }
      ]
    },
    {
      "cell_type": "code",
      "source": [
        "#Local variables restricted to the block of the code. cannot be changed throughout the program.\n",
        "#Global variable - there is no restriction.\n",
        "\n",
        "x = 10\n",
        "print(\"value of x is \", x)\n",
        "\n",
        "def hello():\n",
        "  x = 20\n",
        "  return x\n",
        "\n",
        "print(hello())\n",
        "print(x)"
      ],
      "metadata": {
        "colab": {
          "base_uri": "https://localhost:8080/"
        },
        "id": "0uegDptHSDn9",
        "outputId": "2ece65bc-075d-411f-f887-11b3f30cd4f7"
      },
      "execution_count": 78,
      "outputs": [
        {
          "output_type": "stream",
          "name": "stdout",
          "text": [
            "value of x is  10\n",
            "20\n",
            "20\n"
          ]
        }
      ]
    },
    {
      "cell_type": "code",
      "source": [
        "#Global variable - there is no restriction.\n",
        "\n",
        "x = 10\n",
        "print(\"value of x is \", x)\n",
        "\n",
        "def hello():\n",
        "  global x    #Global variable.\n",
        "  x = 20\n",
        "  return x\n",
        "\n",
        "print(hello())\n",
        "print(x)"
      ],
      "metadata": {
        "colab": {
          "base_uri": "https://localhost:8080/"
        },
        "id": "BLjoYt0IS3N9",
        "outputId": "1a1de498-9e53-4aa2-9efa-65d8d4897f75"
      },
      "execution_count": 79,
      "outputs": [
        {
          "output_type": "stream",
          "name": "stdout",
          "text": [
            "value of x is  10\n",
            "20\n",
            "20\n"
          ]
        }
      ]
    },
    {
      "cell_type": "code",
      "source": [
        "def max_num():\n",
        "  a = [10,20,30,20]\n",
        "  a.sort()\n",
        "  return (a[-1])\n",
        "\n",
        "print(max_num())"
      ],
      "metadata": {
        "colab": {
          "base_uri": "https://localhost:8080/"
        },
        "id": "Jb-VYIkgTQW1",
        "outputId": "1b948987-d007-461c-f1ec-f7b8efb09b1c"
      },
      "execution_count": 86,
      "outputs": [
        {
          "output_type": "stream",
          "name": "stdout",
          "text": [
            "30\n"
          ]
        }
      ]
    },
    {
      "cell_type": "code",
      "source": [
        "def square():\n",
        "  for i in range(1,31):\n",
        "    print (i, i*i)\n",
        "\n",
        "square()"
      ],
      "metadata": {
        "colab": {
          "base_uri": "https://localhost:8080/"
        },
        "id": "d5TvOdKKi7uu",
        "outputId": "485869e1-03f6-4051-c8a6-5a7b4df42a9e"
      },
      "execution_count": 96,
      "outputs": [
        {
          "output_type": "stream",
          "name": "stdout",
          "text": [
            "1 1\n",
            "2 4\n",
            "3 9\n",
            "4 16\n",
            "5 25\n",
            "6 36\n",
            "7 49\n",
            "8 64\n",
            "9 81\n",
            "10 100\n",
            "11 121\n",
            "12 144\n",
            "13 169\n",
            "14 196\n",
            "15 225\n",
            "16 256\n",
            "17 289\n",
            "18 324\n",
            "19 361\n",
            "20 400\n",
            "21 441\n",
            "22 484\n",
            "23 529\n",
            "24 576\n",
            "25 625\n",
            "26 676\n",
            "27 729\n",
            "28 784\n",
            "29 841\n",
            "30 900\n"
          ]
        }
      ]
    },
    {
      "cell_type": "code",
      "source": [
        "def prime_num(num):\n",
        "  if num <= 1:\n",
        "   print(\"It is not a prime number.\")\n",
        "  else:\n",
        "    for i in range(2, num):\n",
        "      if num % i == 0:\n",
        "        print(\"It is not a prime number.\")\n",
        "        break\n",
        "    else:\n",
        "        print(\"It is a prime number.\")\n",
        "\n",
        "prime_num(11)"
      ],
      "metadata": {
        "colab": {
          "base_uri": "https://localhost:8080/"
        },
        "id": "YaYlwsWyjEg5",
        "outputId": "b8540bed-3fbe-424d-8d88-610070e999f2"
      },
      "execution_count": 102,
      "outputs": [
        {
          "output_type": "stream",
          "name": "stdout",
          "text": [
            "It is a prime number.\n"
          ]
        }
      ]
    },
    {
      "cell_type": "code",
      "source": [
        "def summ():\n",
        "  res = 0\n",
        "  a = [1, 2, 3, 4, 5, 6, 7, 8, 9, 10]\n",
        "  for i in a:\n",
        "    res = res + i\n",
        "  return res\n",
        "\n",
        "print(summ())"
      ],
      "metadata": {
        "colab": {
          "base_uri": "https://localhost:8080/"
        },
        "id": "61iPXA42ltum",
        "outputId": "a270fbdb-4b23-47c5-8825-fe45952c6e20"
      },
      "execution_count": 107,
      "outputs": [
        {
          "output_type": "stream",
          "name": "stdout",
          "text": [
            "55\n"
          ]
        }
      ]
    },
    {
      "cell_type": "code",
      "source": [
        "a = 0\n",
        "b = 1\n",
        "print(a, end = \" \")\n",
        "print(b, end = \" \")\n",
        "\n",
        "for i in range(0, 10):\n",
        "  c = a + b\n",
        "  a = b\n",
        "  b = c\n",
        "  print(c, end = \" \")"
      ],
      "metadata": {
        "colab": {
          "base_uri": "https://localhost:8080/"
        },
        "id": "FmtH4ezrmfo3",
        "outputId": "8b31b66c-a53b-4d98-a4ad-75adbc361fbe"
      },
      "execution_count": 117,
      "outputs": [
        {
          "output_type": "stream",
          "name": "stdout",
          "text": [
            "0 1 1 2 3 5 8 13 21 34 55 89 "
          ]
        }
      ]
    },
    {
      "cell_type": "code",
      "source": [
        "import datetime\n",
        "\n",
        "x = datetime.datetime.now()\n",
        "print(x)\n",
        "\n",
        "y = datetime.datetime(1991,9,18)\n",
        "print(y.strftime(\"%A\"))\n"
      ],
      "metadata": {
        "colab": {
          "base_uri": "https://localhost:8080/"
        },
        "id": "MAG5XtUenZH3",
        "outputId": "c9b78637-fdad-4322-8058-d1ab823361b3"
      },
      "execution_count": 123,
      "outputs": [
        {
          "output_type": "stream",
          "name": "stdout",
          "text": [
            "2024-02-09 16:32:42.508558\n",
            "Wednesday\n"
          ]
        }
      ]
    },
    {
      "cell_type": "code",
      "source": [
        "import random    #randomly pick values from given range\n",
        "\n",
        "x = random.randint(1,100)\n",
        "print(x)"
      ],
      "metadata": {
        "colab": {
          "base_uri": "https://localhost:8080/"
        },
        "id": "aijC970KtpxL",
        "outputId": "fe7b4027-7c60-4291-8dcb-c4ed86677904"
      },
      "execution_count": 125,
      "outputs": [
        {
          "output_type": "stream",
          "name": "stdout",
          "text": [
            "98\n"
          ]
        }
      ]
    },
    {
      "cell_type": "code",
      "source": [
        "import random\n",
        "\n",
        "l = [\"Heads\", \"Tails\"]\n",
        "x = random.choice(l)\n",
        "print(x)"
      ],
      "metadata": {
        "colab": {
          "base_uri": "https://localhost:8080/"
        },
        "id": "JGjzgnBtsDYo",
        "outputId": "5e91936d-eefb-411f-ecfb-687a61555ba1"
      },
      "execution_count": 128,
      "outputs": [
        {
          "output_type": "stream",
          "name": "stdout",
          "text": [
            "Heads\n"
          ]
        }
      ]
    },
    {
      "cell_type": "code",
      "source": [],
      "metadata": {
        "id": "9OSlUh1ruQTL"
      },
      "execution_count": null,
      "outputs": []
    }
  ]
}