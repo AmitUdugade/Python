{
  "nbformat": 4,
  "nbformat_minor": 0,
  "metadata": {
    "colab": {
      "provenance": [],
      "authorship_tag": "ABX9TyP1THTRip3LII9BJCKYNwNE",
      "include_colab_link": true
    },
    "kernelspec": {
      "name": "python3",
      "display_name": "Python 3"
    },
    "language_info": {
      "name": "python"
    }
  },
  "cells": [
    {
      "cell_type": "markdown",
      "metadata": {
        "id": "view-in-github",
        "colab_type": "text"
      },
      "source": [
        "<a href=\"https://colab.research.google.com/github/AmitUdugade/PythonBasicsWorkspace/blob/main/Recursion.ipynb\" target=\"_parent\"><img src=\"https://colab.research.google.com/assets/colab-badge.svg\" alt=\"Open In Colab\"/></a>"
      ]
    },
    {
      "cell_type": "code",
      "execution_count": 5,
      "metadata": {
        "colab": {
          "base_uri": "https://localhost:8080/"
        },
        "id": "SvNa1AskB_5J",
        "outputId": "dfb5a455-7581-4395-fbfa-d2f68320e01f"
      },
      "outputs": [
        {
          "output_type": "stream",
          "name": "stdout",
          "text": [
            "120\n"
          ]
        }
      ],
      "source": [
        "#Recursion - is process of defining something in term of itself. function can call other functios. it is posible for function to call itself.\n",
        "#Factorial(5) = 5*4*3*2*1\n",
        "#Factorial(4) = 4*3*2*1\n",
        "#Factorial(3) = 3*2*1\n",
        "#Factorial(0) = 1\n",
        "\n",
        "def factorial(n):\n",
        "  if(n == 0 or n == 1):\n",
        "    return 1\n",
        "  else:\n",
        "    return n * factorial(n-1)    #factorial(n-1) is function running under factorial(n)\n",
        "\n",
        "print(factorial(5))"
      ]
    },
    {
      "cell_type": "code",
      "source": [],
      "metadata": {
        "id": "rnvZUrywC9Iq"
      },
      "execution_count": null,
      "outputs": []
    }
  ]
}