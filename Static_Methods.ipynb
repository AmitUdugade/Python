{
  "nbformat": 4,
  "nbformat_minor": 0,
  "metadata": {
    "colab": {
      "provenance": [],
      "authorship_tag": "ABX9TyMEzEC8GktpIn7xudUrkWwu",
      "include_colab_link": true
    },
    "kernelspec": {
      "name": "python3",
      "display_name": "Python 3"
    },
    "language_info": {
      "name": "python"
    }
  },
  "cells": [
    {
      "cell_type": "markdown",
      "metadata": {
        "id": "view-in-github",
        "colab_type": "text"
      },
      "source": [
        "<a href=\"https://colab.research.google.com/github/AmitUdugade/PythonWorkspace/blob/main/Static_Methods.ipynb\" target=\"_parent\"><img src=\"https://colab.research.google.com/assets/colab-badge.svg\" alt=\"Open In Colab\"/></a>"
      ]
    },
    {
      "cell_type": "code",
      "execution_count": 1,
      "metadata": {
        "colab": {
          "base_uri": "https://localhost:8080/"
        },
        "id": "4z6feSPJJRE6",
        "outputId": "c80a9b5e-9b93-4598-e87e-a62f7fa0eff8"
      },
      "outputs": [
        {
          "output_type": "stream",
          "name": "stdout",
          "text": [
            "3\n"
          ]
        }
      ],
      "source": [
        "#Static methods -\n",
        "''' Static methods in Python are methods that belong to a class rather than an instance of the class.\n",
        "    They are defined using the @staticmethod decorator and do not have access to the instance of the class (i.e. self).\n",
        "    They are called on the class itself, not on an instance of the class.\n",
        "    Static methods are often used to create utility functions that don't need access to instance data.\n",
        "'''\n",
        "\n",
        "class Math:\n",
        "    @staticmethod\n",
        "    def add(a, b):\n",
        "        return a + b\n",
        "\n",
        "result = Math.add(1, 2)\n",
        "print(result) # Output: 3"
      ]
    },
    {
      "cell_type": "code",
      "source": [
        "class Math:\n",
        "  def __init__(self, x):\n",
        "    self.x = x\n",
        "\n",
        "  def selftox(self, num):\n",
        "    self.x = self.x + num\n",
        "\n",
        "  @staticmethod\n",
        "  def add(a, b):\n",
        "    return a + b\n",
        "\n",
        "result = Math.add(5, 2)\n",
        "print(result)\n",
        "\n",
        "a = Math(5)\n",
        "a.selftox(6)\n",
        "print(a.x)\n",
        "\n"
      ],
      "metadata": {
        "colab": {
          "base_uri": "https://localhost:8080/"
        },
        "id": "O5bPcjyWK5p0",
        "outputId": "50a31f8d-6fbd-4d7d-9ffb-393643501e51"
      },
      "execution_count": 24,
      "outputs": [
        {
          "output_type": "stream",
          "name": "stdout",
          "text": [
            "7\n",
            "11\n"
          ]
        }
      ]
    },
    {
      "cell_type": "code",
      "source": [],
      "metadata": {
        "id": "1z7h_MrNLIJ_"
      },
      "execution_count": null,
      "outputs": []
    }
  ]
}