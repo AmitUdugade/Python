{
  "nbformat": 4,
  "nbformat_minor": 0,
  "metadata": {
    "colab": {
      "provenance": [],
      "authorship_tag": "ABX9TyMIi7dn7sGW7cvst72uFoEy",
      "include_colab_link": true
    },
    "kernelspec": {
      "name": "python3",
      "display_name": "Python 3"
    },
    "language_info": {
      "name": "python"
    }
  },
  "cells": [
    {
      "cell_type": "markdown",
      "metadata": {
        "id": "view-in-github",
        "colab_type": "text"
      },
      "source": [
        "<a href=\"https://colab.research.google.com/github/AmitUdugade/PythonWorkspace/blob/main/Walrus_Operator.ipynb\" target=\"_parent\"><img src=\"https://colab.research.google.com/assets/colab-badge.svg\" alt=\"Open In Colab\"/></a>"
      ]
    },
    {
      "cell_type": "code",
      "execution_count": 1,
      "metadata": {
        "colab": {
          "base_uri": "https://localhost:8080/"
        },
        "id": "9BzUILwbXxcb",
        "outputId": "ab29044b-d9f9-4f52-f62c-de5d3b4fd33e"
      },
      "outputs": [
        {
          "output_type": "stream",
          "name": "stdout",
          "text": [
            "5\n",
            "4\n",
            "3\n",
            "2\n",
            "1\n"
          ]
        }
      ],
      "source": [
        "#Walrus Operator -\n",
        "'''\n",
        "  The Walrus Operator is a new addition to Python 3.8 and allows you to assign a value to a variable within an expression.\n",
        "  This can be useful when you need to use a value multiple times in a loop, but don't want to repeat the calculation.\n",
        "  The Walrus Operator is represented by the := syntax and can be used in a variety of contexts including while loops and if statements.\n",
        "'''\n",
        "numbers = [1, 2, 3, 4, 5]\n",
        "\n",
        "while (n := len(numbers)) > 0:\n",
        "    print(numbers.pop())"
      ]
    },
    {
      "cell_type": "code",
      "source": [
        "foods = list()\n",
        "while True:\n",
        "   food = input(\"What food do you like?: \")\n",
        "   if food == \"quit\":\n",
        "       break\n",
        "   foods.append(food)\n"
      ],
      "metadata": {
        "colab": {
          "base_uri": "https://localhost:8080/"
        },
        "id": "leGX1cbFX7Gu",
        "outputId": "2b9e12d7-9ebc-42c1-f54e-1edcd9f03be4"
      },
      "execution_count": 3,
      "outputs": [
        {
          "name": "stdout",
          "output_type": "stream",
          "text": [
            "What food do you like?: Veg Kolhapuri \n",
            "What food do you like?: Butter Tandoor Roti\n",
            "What food do you like?: Dal Khichdi\n",
            "What food do you like?: quit\n"
          ]
        }
      ]
    },
    {
      "cell_type": "code",
      "source": [
        "foods = list()\n",
        "while (food := input(\"What food do you like?: \")) != \"quit\":\n",
        "    foods.append(food)"
      ],
      "metadata": {
        "colab": {
          "base_uri": "https://localhost:8080/"
        },
        "id": "mU6FPP-DYbGN",
        "outputId": "24c3c13d-f96a-4e4c-c2e9-aa417c6059d2"
      },
      "execution_count": 2,
      "outputs": [
        {
          "name": "stdout",
          "output_type": "stream",
          "text": [
            "What food do you like?: Paneer Tikka Masala\n",
            "What food do you like?: Roti\n",
            "What food do you like?: dal Tadka\n",
            "What food do you like?: jeera rice\n",
            "What food do you like?: quit\n"
          ]
        }
      ]
    },
    {
      "cell_type": "code",
      "source": [],
      "metadata": {
        "id": "iuzKzkV6ZK6r"
      },
      "execution_count": null,
      "outputs": []
    },
    {
      "cell_type": "code",
      "source": [],
      "metadata": {
        "id": "hLTYGZXsZMbX"
      },
      "execution_count": null,
      "outputs": []
    }
  ]
}