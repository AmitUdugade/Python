{
  "nbformat": 4,
  "nbformat_minor": 0,
  "metadata": {
    "colab": {
      "provenance": [],
      "authorship_tag": "ABX9TyO6QjdRgtrY/enLHmOT8oVI",
      "include_colab_link": true
    },
    "kernelspec": {
      "name": "python3",
      "display_name": "Python 3"
    },
    "language_info": {
      "name": "python"
    }
  },
  "cells": [
    {
      "cell_type": "markdown",
      "metadata": {
        "id": "view-in-github",
        "colab_type": "text"
      },
      "source": [
        "<a href=\"https://colab.research.google.com/github/AmitUdugade/PythonBasicsWorkspace/blob/main/Exception_Handling.ipynb\" target=\"_parent\"><img src=\"https://colab.research.google.com/assets/colab-badge.svg\" alt=\"Open In Colab\"/></a>"
      ]
    },
    {
      "cell_type": "code",
      "execution_count": 23,
      "metadata": {
        "colab": {
          "base_uri": "https://localhost:8080/"
        },
        "id": "W28vxAPcHfYb",
        "outputId": "b268fec0-7289-4431-b501-d8a3f67ca21e"
      },
      "outputs": [
        {
          "output_type": "stream",
          "name": "stdout",
          "text": [
            "Enter any number : amit\n",
            "Entered number is not a digit.\n"
          ]
        }
      ],
      "source": [
        "#Exception handling - Exception handling is the process of responding  to unwanted or unexpected events when a computer program runs.\n",
        "#To avoid the program or system crashing.\n",
        "\n",
        "num = input(\"Enter any number : \")\n",
        "mul = 0\n",
        "try:\n",
        "  for i in range(1, 11):\n",
        "    mul = int(num) * i\n",
        "    print(num, \"x\", i, \"=\" , mul)\n",
        "except ValueError:\n",
        "  print(\"Entered number is not a digit.\")\n"
      ]
    },
    {
      "cell_type": "code",
      "source": [],
      "metadata": {
        "id": "E4gUM5F4Ider"
      },
      "execution_count": 18,
      "outputs": []
    },
    {
      "cell_type": "code",
      "source": [],
      "metadata": {
        "id": "ES53Qt3sJDn7"
      },
      "execution_count": null,
      "outputs": []
    }
  ]
}