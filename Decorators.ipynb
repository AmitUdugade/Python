{
  "nbformat": 4,
  "nbformat_minor": 0,
  "metadata": {
    "colab": {
      "provenance": [],
      "authorship_tag": "ABX9TyNBdWnqlpG5rcuouX/2yitE",
      "include_colab_link": true
    },
    "kernelspec": {
      "name": "python3",
      "display_name": "Python 3"
    },
    "language_info": {
      "name": "python"
    }
  },
  "cells": [
    {
      "cell_type": "markdown",
      "metadata": {
        "id": "view-in-github",
        "colab_type": "text"
      },
      "source": [
        "<a href=\"https://colab.research.google.com/github/AmitUdugade/PythonWorkspace/blob/main/Decorators.ipynb\" target=\"_parent\"><img src=\"https://colab.research.google.com/assets/colab-badge.svg\" alt=\"Open In Colab\"/></a>"
      ]
    },
    {
      "cell_type": "code",
      "execution_count": 1,
      "metadata": {
        "colab": {
          "base_uri": "https://localhost:8080/"
        },
        "id": "gUomwAVyx_KT",
        "outputId": "b5eddbfe-f7ff-4781-a438-2eaf82370d3b"
      },
      "outputs": [
        {
          "output_type": "stream",
          "name": "stdout",
          "text": [
            "Good Morning\n",
            "Hello World\n",
            "Thank you for using this function\n"
          ]
        }
      ],
      "source": [
        "#Decorators -\n",
        "''' Powerful and versatile tool that allows you to modify the behaviour of functions and methods.\n",
        "    They are a way to extend the functionality of the function or method without modifying it's source code.\n",
        "    '''\n",
        "def greet(fx):\n",
        "  def mfx():\n",
        "    print(\"Good Morning\")\n",
        "    fx()\n",
        "    print(\"Thank you for using this function\")\n",
        "  return mfx\n",
        "\n",
        "@greet\n",
        "def hello():\n",
        "  print(\"Hello World\")\n",
        "\n",
        "\n",
        "hello()"
      ]
    },
    {
      "cell_type": "code",
      "source": [
        "def greet(fx):\n",
        "  def mfx(*args, **kwargs):\n",
        "    print(\"Good Morning\")\n",
        "    fx(*args, **kwargs)\n",
        "    print(\"Thank you for using this function\")\n",
        "  return mfx\n",
        "\n",
        "#Way 1 -\n",
        "@greet\n",
        "def add(a, b):\n",
        "  print(a+b)\n",
        "\n",
        "add(2, 2)\n"
      ],
      "metadata": {
        "colab": {
          "base_uri": "https://localhost:8080/"
        },
        "id": "jlssupJ0y94y",
        "outputId": "3021464d-f7fe-4502-8d8c-2b27d35e22a6"
      },
      "execution_count": 3,
      "outputs": [
        {
          "output_type": "stream",
          "name": "stdout",
          "text": [
            "Good Morning\n",
            "4\n",
            "Thank you for using this function\n"
          ]
        }
      ]
    },
    {
      "cell_type": "code",
      "source": [
        "#Way 2 -\n",
        "def add(a, b):\n",
        "  print(a+b)\n",
        "\n",
        "greet(add)(2, 2)"
      ],
      "metadata": {
        "colab": {
          "base_uri": "https://localhost:8080/"
        },
        "id": "ebsDpGghzaFW",
        "outputId": "a7cb5b0b-70db-41d5-e132-10416383f7ab"
      },
      "execution_count": 4,
      "outputs": [
        {
          "output_type": "stream",
          "name": "stdout",
          "text": [
            "Good Morning\n",
            "4\n",
            "Thank you for using this function\n"
          ]
        }
      ]
    },
    {
      "cell_type": "code",
      "source": [
        "@greet\n",
        "def mul(a, b, c):\n",
        "  print(a * b * c)\n",
        "\n",
        "mul(2, 2, 2)"
      ],
      "metadata": {
        "colab": {
          "base_uri": "https://localhost:8080/"
        },
        "id": "Y2yu9Gwsz26f",
        "outputId": "dca0adfa-b91f-4791-c35d-a336d3ac4ad9"
      },
      "execution_count": 5,
      "outputs": [
        {
          "output_type": "stream",
          "name": "stdout",
          "text": [
            "Good Morning\n",
            "8\n",
            "Thank you for using this function\n"
          ]
        }
      ]
    },
    {
      "cell_type": "code",
      "source": [],
      "metadata": {
        "id": "alEfNMMG0EqF"
      },
      "execution_count": null,
      "outputs": []
    }
  ]
}