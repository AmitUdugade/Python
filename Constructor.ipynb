{
  "nbformat": 4,
  "nbformat_minor": 0,
  "metadata": {
    "colab": {
      "provenance": [],
      "authorship_tag": "ABX9TyPl1zNz5br0C0nSL7vXJWXu",
      "include_colab_link": true
    },
    "kernelspec": {
      "name": "python3",
      "display_name": "Python 3"
    },
    "language_info": {
      "name": "python"
    }
  },
  "cells": [
    {
      "cell_type": "markdown",
      "metadata": {
        "id": "view-in-github",
        "colab_type": "text"
      },
      "source": [
        "<a href=\"https://colab.research.google.com/github/AmitUdugade/PythonBasicsWorkspace/blob/main/Constructor.ipynb\" target=\"_parent\"><img src=\"https://colab.research.google.com/assets/colab-badge.svg\" alt=\"Open In Colab\"/></a>"
      ]
    },
    {
      "cell_type": "code",
      "execution_count": 5,
      "metadata": {
        "colab": {
          "base_uri": "https://localhost:8080/"
        },
        "id": "SvvD0s7iTbDJ",
        "outputId": "4202a3fe-f0b2-4747-8d4e-2c40eac568ca"
      },
      "outputs": [
        {
          "output_type": "stream",
          "name": "stdout",
          "text": [
            "Amit is a Developer.\n"
          ]
        }
      ],
      "source": [
        "#Constructor -\n",
        "''' A constructor is a special method in a class used to create and initialize an object of a class.\n",
        "    There are different types of constructors. Constructor is invoked automatically when an object of a class is created.\n",
        "\n",
        "    A constructor is a unique function that gets called automatically when an object is created of a class.\n",
        "    The main purpose of a constructor is to initialize or assign values to the data members of that class. It cannot return any value other than None.\n",
        "\n",
        "    Types of Constructors in Python\n",
        "    a] Parameterized Constructor\n",
        "    b] Default Constructor\n",
        "'''\n",
        "\n",
        "class Employee:\n",
        "  def __init__(self, name, occupation):     #Parameterized Constructor\n",
        "    self.name = name\n",
        "    self.occupation = occupation\n",
        "\n",
        "  def info(self):\n",
        "    print(f\"{self.name} is a {self.occupation}.\")\n",
        "\n",
        "a = Employee(\"Amit\", \"Developer\")\n",
        "a.info()\n"
      ]
    },
    {
      "cell_type": "code",
      "source": [
        "class Employee:\n",
        "  def __init__(self):           #Default Constructor\n",
        "    print(\"Hey, I am a contructor\")\n",
        "\n",
        "  def info(self):\n",
        "    print(f\"{self.name} is an {self.occupation}.\")\n",
        "\n",
        "a = Employee()\n",
        "a.name = \"Ankita\"\n",
        "a.occupation = \"HR\"\n",
        "\n",
        "a.info()\n"
      ],
      "metadata": {
        "colab": {
          "base_uri": "https://localhost:8080/"
        },
        "id": "fZ7BFDnYUOCU",
        "outputId": "54cba524-1fd8-4f72-d344-faaa9d4bf80a"
      },
      "execution_count": 10,
      "outputs": [
        {
          "output_type": "stream",
          "name": "stdout",
          "text": [
            "Hey, I am a contructor\n",
            "Ankita is an HR.\n"
          ]
        }
      ]
    },
    {
      "cell_type": "code",
      "source": [],
      "metadata": {
        "id": "J4rmMPNPVzrO"
      },
      "execution_count": null,
      "outputs": []
    }
  ]
}