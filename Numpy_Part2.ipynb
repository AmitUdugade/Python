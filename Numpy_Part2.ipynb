{
  "nbformat": 4,
  "nbformat_minor": 0,
  "metadata": {
    "colab": {
      "provenance": [],
      "authorship_tag": "ABX9TyMmgunxIhU1IwnSJ+bD0uEf",
      "include_colab_link": true
    },
    "kernelspec": {
      "name": "python3",
      "display_name": "Python 3"
    },
    "language_info": {
      "name": "python"
    }
  },
  "cells": [
    {
      "cell_type": "markdown",
      "metadata": {
        "id": "view-in-github",
        "colab_type": "text"
      },
      "source": [
        "<a href=\"https://colab.research.google.com/github/AmitUdugade/PythonWorkspace/blob/main/Numpy_Part2.ipynb\" target=\"_parent\"><img src=\"https://colab.research.google.com/assets/colab-badge.svg\" alt=\"Open In Colab\"/></a>"
      ]
    },
    {
      "cell_type": "code",
      "execution_count": 1,
      "metadata": {
        "colab": {
          "base_uri": "https://localhost:8080/"
        },
        "id": "KvfFGqqmBsTv",
        "outputId": "bf6faac2-6eb0-45e5-b169-144a027c2b80"
      },
      "outputs": [
        {
          "output_type": "execute_result",
          "data": {
            "text/plain": [
              "array([[ True,  True,  True,  True],\n",
              "       [ True,  True,  True,  True],\n",
              "       [ True,  True,  True,  True],\n",
              "       [ True,  True,  True,  True]])"
            ]
          },
          "metadata": {},
          "execution_count": 1
        }
      ],
      "source": [
        "#4x4 numpy array whose value set to True\n",
        "\n",
        "import numpy as np\n",
        "\n",
        "np.full((4,4), fill_value = True)"
      ]
    },
    {
      "cell_type": "code",
      "source": [
        "np.ones((4,4), dtype = bool)"
      ],
      "metadata": {
        "colab": {
          "base_uri": "https://localhost:8080/"
        },
        "id": "t_SHtRkyCxgT",
        "outputId": "ebe059fb-c2df-4696-cf6f-1eab0bc84b62"
      },
      "execution_count": 2,
      "outputs": [
        {
          "output_type": "execute_result",
          "data": {
            "text/plain": [
              "array([[ True,  True,  True,  True],\n",
              "       [ True,  True,  True,  True],\n",
              "       [ True,  True,  True,  True],\n",
              "       [ True,  True,  True,  True]])"
            ]
          },
          "metadata": {},
          "execution_count": 2
        }
      ]
    },
    {
      "cell_type": "code",
      "source": [
        "#4x4 numpy array whose diagonal value set to True and rest are false\n",
        "np.identity(4, dtype = bool)"
      ],
      "metadata": {
        "colab": {
          "base_uri": "https://localhost:8080/"
        },
        "id": "EAGPglU3DLGW",
        "outputId": "e7620fcc-49cb-48d0-ea5e-19ffdc6b1436"
      },
      "execution_count": 3,
      "outputs": [
        {
          "output_type": "execute_result",
          "data": {
            "text/plain": [
              "array([[ True, False, False, False],\n",
              "       [False,  True, False, False],\n",
              "       [False, False,  True, False],\n",
              "       [False, False, False,  True]])"
            ]
          },
          "metadata": {},
          "execution_count": 3
        }
      ]
    },
    {
      "cell_type": "code",
      "source": [
        "np.identity(4, dtype=bool)"
      ],
      "metadata": {
        "colab": {
          "base_uri": "https://localhost:8080/"
        },
        "id": "F-VLEdmVDj3a",
        "outputId": "9bd9197b-1621-461b-831b-0272230375e1"
      },
      "execution_count": 8,
      "outputs": [
        {
          "output_type": "execute_result",
          "data": {
            "text/plain": [
              "array([[ True, False, False, False],\n",
              "       [False,  True, False, False],\n",
              "       [False, False,  True, False],\n",
              "       [False, False, False,  True]])"
            ]
          },
          "metadata": {},
          "execution_count": 8
        }
      ]
    },
    {
      "cell_type": "code",
      "source": [
        "#Assignment : 4x4 numpy array whose diagonal value set to False and rest are True\n"
      ],
      "metadata": {
        "id": "yaHRrGJuEGM1"
      },
      "execution_count": null,
      "outputs": []
    },
    {
      "cell_type": "code",
      "source": [
        "a = np.random.random((4,4))\n",
        "a.size"
      ],
      "metadata": {
        "colab": {
          "base_uri": "https://localhost:8080/"
        },
        "id": "XX1JxfYMEZfQ",
        "outputId": "5e4defd1-80e9-42b6-ba8d-66177c312cc2"
      },
      "execution_count": 17,
      "outputs": [
        {
          "output_type": "execute_result",
          "data": {
            "text/plain": [
              "16"
            ]
          },
          "metadata": {},
          "execution_count": 17
        }
      ]
    },
    {
      "cell_type": "code",
      "source": [
        "a.shape\n",
        "print(\"Total no. of Rows \", a.shape[0])\n",
        "print(\"Total no. of Columns \", a.shape[1])"
      ],
      "metadata": {
        "colab": {
          "base_uri": "https://localhost:8080/"
        },
        "id": "9nZPXUpKE8bO",
        "outputId": "a7fcade0-9813-4c29-ac4e-839af0902e3d"
      },
      "execution_count": 20,
      "outputs": [
        {
          "output_type": "stream",
          "name": "stdout",
          "text": [
            "Total no. of Rows  4\n",
            "Total no. of Columns  4\n"
          ]
        }
      ]
    },
    {
      "cell_type": "code",
      "source": [
        "#a memory in bytes to each element.\n",
        "print(a.itemsize)"
      ],
      "metadata": {
        "colab": {
          "base_uri": "https://localhost:8080/"
        },
        "id": "fKyIoosWG8L4",
        "outputId": "2462d014-fa41-4e53-8ee2-2734cc3076a3"
      },
      "execution_count": 21,
      "outputs": [
        {
          "output_type": "stream",
          "name": "stdout",
          "text": [
            "8\n"
          ]
        }
      ]
    },
    {
      "cell_type": "code",
      "source": [
        "#Check datatype\n",
        "print(a.dtype)"
      ],
      "metadata": {
        "colab": {
          "base_uri": "https://localhost:8080/"
        },
        "id": "tkDil9kfHTcS",
        "outputId": "c10c9b6a-c785-4477-d60b-96487b7bd2c0"
      },
      "execution_count": 22,
      "outputs": [
        {
          "output_type": "stream",
          "name": "stdout",
          "text": [
            "float64\n"
          ]
        }
      ]
    },
    {
      "cell_type": "code",
      "source": [
        "#Check memory\n",
        "\n",
        "print(a.data)"
      ],
      "metadata": {
        "colab": {
          "base_uri": "https://localhost:8080/"
        },
        "id": "Yet9Ynj6HZAI",
        "outputId": "72d89aec-1d45-40c9-e976-a25d5283c210"
      },
      "execution_count": 23,
      "outputs": [
        {
          "output_type": "stream",
          "name": "stdout",
          "text": [
            "<memory at 0x7a09b5c92c20>\n"
          ]
        }
      ]
    },
    {
      "cell_type": "code",
      "source": [
        "#check dimensions\n",
        "\n",
        "print(a.ndim)"
      ],
      "metadata": {
        "colab": {
          "base_uri": "https://localhost:8080/"
        },
        "id": "Wv7uTggUHjAm",
        "outputId": "7b071faf-5034-4dba-e013-2c12a3c4bd69"
      },
      "execution_count": 24,
      "outputs": [
        {
          "output_type": "stream",
          "name": "stdout",
          "text": [
            "2\n"
          ]
        }
      ]
    },
    {
      "cell_type": "code",
      "source": [
        "#Shape Manipulation -\n",
        "# reshape - to do changes temporary.\n",
        "\n",
        "a.reshape(8,2)"
      ],
      "metadata": {
        "colab": {
          "base_uri": "https://localhost:8080/"
        },
        "id": "WFay6bhaHrVf",
        "outputId": "11b875bc-cd94-42a2-bb25-b1d61cf37776"
      },
      "execution_count": 25,
      "outputs": [
        {
          "output_type": "execute_result",
          "data": {
            "text/plain": [
              "array([[0.70240422, 0.65642767],\n",
              "       [0.38868487, 0.40613288],\n",
              "       [0.85756771, 0.52449964],\n",
              "       [0.77800792, 0.32890273],\n",
              "       [0.75028909, 0.95656555],\n",
              "       [0.24828801, 0.4873072 ],\n",
              "       [0.13575261, 0.78794215],\n",
              "       [0.03214194, 0.81382809]])"
            ]
          },
          "metadata": {},
          "execution_count": 25
        }
      ]
    },
    {
      "cell_type": "code",
      "source": [
        "a.reshape(16,1)"
      ],
      "metadata": {
        "colab": {
          "base_uri": "https://localhost:8080/"
        },
        "id": "IsFwRL5CK62I",
        "outputId": "de307d99-2516-4d49-df7e-e4133eb2832c"
      },
      "execution_count": 27,
      "outputs": [
        {
          "output_type": "execute_result",
          "data": {
            "text/plain": [
              "array([[0.70240422],\n",
              "       [0.65642767],\n",
              "       [0.38868487],\n",
              "       [0.40613288],\n",
              "       [0.85756771],\n",
              "       [0.52449964],\n",
              "       [0.77800792],\n",
              "       [0.32890273],\n",
              "       [0.75028909],\n",
              "       [0.95656555],\n",
              "       [0.24828801],\n",
              "       [0.4873072 ],\n",
              "       [0.13575261],\n",
              "       [0.78794215],\n",
              "       [0.03214194],\n",
              "       [0.81382809]])"
            ]
          },
          "metadata": {},
          "execution_count": 27
        }
      ]
    },
    {
      "cell_type": "code",
      "source": [
        "a.reshape(4,2,2)"
      ],
      "metadata": {
        "colab": {
          "base_uri": "https://localhost:8080/"
        },
        "id": "OEYYxb0TK-4n",
        "outputId": "7933cd75-12fe-4bbe-827e-9d477f7e799b"
      },
      "execution_count": 28,
      "outputs": [
        {
          "output_type": "execute_result",
          "data": {
            "text/plain": [
              "array([[[0.70240422, 0.65642767],\n",
              "        [0.38868487, 0.40613288]],\n",
              "\n",
              "       [[0.85756771, 0.52449964],\n",
              "        [0.77800792, 0.32890273]],\n",
              "\n",
              "       [[0.75028909, 0.95656555],\n",
              "        [0.24828801, 0.4873072 ]],\n",
              "\n",
              "       [[0.13575261, 0.78794215],\n",
              "        [0.03214194, 0.81382809]]])"
            ]
          },
          "metadata": {},
          "execution_count": 28
        }
      ]
    },
    {
      "cell_type": "code",
      "source": [
        "a.reshape(2,4,2)"
      ],
      "metadata": {
        "colab": {
          "base_uri": "https://localhost:8080/"
        },
        "id": "0bxjmIO-LGcq",
        "outputId": "32852679-cc5d-41ce-b34c-2eacd71b9e9d"
      },
      "execution_count": 29,
      "outputs": [
        {
          "output_type": "execute_result",
          "data": {
            "text/plain": [
              "array([[[0.70240422, 0.65642767],\n",
              "        [0.38868487, 0.40613288],\n",
              "        [0.85756771, 0.52449964],\n",
              "        [0.77800792, 0.32890273]],\n",
              "\n",
              "       [[0.75028909, 0.95656555],\n",
              "        [0.24828801, 0.4873072 ],\n",
              "        [0.13575261, 0.78794215],\n",
              "        [0.03214194, 0.81382809]]])"
            ]
          },
          "metadata": {},
          "execution_count": 29
        }
      ]
    },
    {
      "cell_type": "code",
      "source": [
        "#resize - To do changes permanantly.\n",
        "#do the multiple operations 2D, 3D etc.\n",
        "a.resize(16)\n",
        "a"
      ],
      "metadata": {
        "colab": {
          "base_uri": "https://localhost:8080/"
        },
        "id": "TwlfQvMwLL6T",
        "outputId": "cf4218d5-0f7d-486f-f79e-d7df6afce25b"
      },
      "execution_count": 31,
      "outputs": [
        {
          "output_type": "execute_result",
          "data": {
            "text/plain": [
              "array([0.70240422, 0.65642767, 0.38868487, 0.40613288, 0.85756771,\n",
              "       0.52449964, 0.77800792, 0.32890273, 0.75028909, 0.95656555,\n",
              "       0.24828801, 0.4873072 , 0.13575261, 0.78794215, 0.03214194,\n",
              "       0.81382809])"
            ]
          },
          "metadata": {},
          "execution_count": 31
        }
      ]
    },
    {
      "cell_type": "code",
      "source": [
        "a.ndim  #to check dimensions"
      ],
      "metadata": {
        "colab": {
          "base_uri": "https://localhost:8080/"
        },
        "id": "t3I-_G29LVuG",
        "outputId": "170f9b75-3f0e-4354-f4b3-cbe4f42ba565"
      },
      "execution_count": 32,
      "outputs": [
        {
          "output_type": "execute_result",
          "data": {
            "text/plain": [
              "1"
            ]
          },
          "metadata": {},
          "execution_count": 32
        }
      ]
    },
    {
      "cell_type": "code",
      "source": [
        "a.shape"
      ],
      "metadata": {
        "colab": {
          "base_uri": "https://localhost:8080/"
        },
        "id": "U3Ng5rSOLbpv",
        "outputId": "86727dab-33ea-4068-9efd-e9d7b8f1520c"
      },
      "execution_count": 33,
      "outputs": [
        {
          "output_type": "execute_result",
          "data": {
            "text/plain": [
              "(16,)"
            ]
          },
          "metadata": {},
          "execution_count": 33
        }
      ]
    },
    {
      "cell_type": "code",
      "source": [
        "a.shape = (2,8)\n",
        "display(a)"
      ],
      "metadata": {
        "colab": {
          "base_uri": "https://localhost:8080/",
          "height": 86
        },
        "id": "wawKDnDFLdi8",
        "outputId": "dc6e8b77-9dee-4f78-a866-da3c6319cd5c"
      },
      "execution_count": 37,
      "outputs": [
        {
          "output_type": "display_data",
          "data": {
            "text/plain": [
              "array([[0.70240422, 0.65642767, 0.38868487, 0.40613288, 0.85756771,\n",
              "        0.52449964, 0.77800792, 0.32890273],\n",
              "       [0.75028909, 0.95656555, 0.24828801, 0.4873072 , 0.13575261,\n",
              "        0.78794215, 0.03214194, 0.81382809]])"
            ]
          },
          "metadata": {}
        }
      ]
    },
    {
      "cell_type": "code",
      "source": [
        "#Transpose - Convert columns into rows and vice versa\n",
        "#            changes are temporary.\n",
        "\n",
        "a.transpose()"
      ],
      "metadata": {
        "colab": {
          "base_uri": "https://localhost:8080/"
        },
        "id": "6XsP9tr4MIZ1",
        "outputId": "5dd60de4-c599-4585-822e-8c065f83734d"
      },
      "execution_count": 39,
      "outputs": [
        {
          "output_type": "execute_result",
          "data": {
            "text/plain": [
              "array([[0.70240422, 0.75028909],\n",
              "       [0.65642767, 0.95656555],\n",
              "       [0.38868487, 0.24828801],\n",
              "       [0.40613288, 0.4873072 ],\n",
              "       [0.85756771, 0.13575261],\n",
              "       [0.52449964, 0.78794215],\n",
              "       [0.77800792, 0.03214194],\n",
              "       [0.32890273, 0.81382809]])"
            ]
          },
          "metadata": {},
          "execution_count": 39
        }
      ]
    },
    {
      "cell_type": "code",
      "source": [
        "a.T   #another way. T for transpose"
      ],
      "metadata": {
        "colab": {
          "base_uri": "https://localhost:8080/"
        },
        "id": "7KXTUcdJN60q",
        "outputId": "e290dd73-7b64-4cf7-9483-1e585d25a408"
      },
      "execution_count": 40,
      "outputs": [
        {
          "output_type": "execute_result",
          "data": {
            "text/plain": [
              "array([[0.70240422, 0.75028909],\n",
              "       [0.65642767, 0.95656555],\n",
              "       [0.38868487, 0.24828801],\n",
              "       [0.40613288, 0.4873072 ],\n",
              "       [0.85756771, 0.13575261],\n",
              "       [0.52449964, 0.78794215],\n",
              "       [0.77800792, 0.03214194],\n",
              "       [0.32890273, 0.81382809]])"
            ]
          },
          "metadata": {},
          "execution_count": 40
        }
      ]
    },
    {
      "cell_type": "code",
      "source": [
        "np.transpose(a) #another way"
      ],
      "metadata": {
        "colab": {
          "base_uri": "https://localhost:8080/"
        },
        "id": "0iWpyezBOFnu",
        "outputId": "6ce88ce9-a289-4c63-9880-3856c7126ee2"
      },
      "execution_count": 41,
      "outputs": [
        {
          "output_type": "execute_result",
          "data": {
            "text/plain": [
              "array([[0.70240422, 0.75028909],\n",
              "       [0.65642767, 0.95656555],\n",
              "       [0.38868487, 0.24828801],\n",
              "       [0.40613288, 0.4873072 ],\n",
              "       [0.85756771, 0.13575261],\n",
              "       [0.52449964, 0.78794215],\n",
              "       [0.77800792, 0.03214194],\n",
              "       [0.32890273, 0.81382809]])"
            ]
          },
          "metadata": {},
          "execution_count": 41
        }
      ]
    },
    {
      "cell_type": "code",
      "source": [
        "x = np.array([1,2,3,4,5])\n",
        "x"
      ],
      "metadata": {
        "colab": {
          "base_uri": "https://localhost:8080/"
        },
        "id": "OTclSwdsOKRx",
        "outputId": "68aa14b6-9bef-43a5-b7d4-1c5d2705aedf"
      },
      "execution_count": 42,
      "outputs": [
        {
          "output_type": "execute_result",
          "data": {
            "text/plain": [
              "array([1, 2, 3, 4, 5])"
            ]
          },
          "metadata": {},
          "execution_count": 42
        }
      ]
    },
    {
      "cell_type": "code",
      "source": [
        "x.dtype"
      ],
      "metadata": {
        "colab": {
          "base_uri": "https://localhost:8080/"
        },
        "id": "_rGmh4-TR7Ug",
        "outputId": "612ca2c8-6dc9-4354-c160-fb5ee25113d8"
      },
      "execution_count": 43,
      "outputs": [
        {
          "output_type": "execute_result",
          "data": {
            "text/plain": [
              "dtype('int64')"
            ]
          },
          "metadata": {},
          "execution_count": 43
        }
      ]
    },
    {
      "cell_type": "code",
      "source": [
        "x.__sizeof__()"
      ],
      "metadata": {
        "colab": {
          "base_uri": "https://localhost:8080/"
        },
        "id": "FThfja2aR9u4",
        "outputId": "04f39e6f-d1fc-485f-e49d-a4b7ab32d5c6"
      },
      "execution_count": 44,
      "outputs": [
        {
          "output_type": "execute_result",
          "data": {
            "text/plain": [
              "152"
            ]
          },
          "metadata": {},
          "execution_count": 44
        }
      ]
    },
    {
      "cell_type": "code",
      "source": [
        "y = np.array([1,2,3,4,5], dtype = 'object')\n",
        "y"
      ],
      "metadata": {
        "colab": {
          "base_uri": "https://localhost:8080/"
        },
        "id": "713cLOWcSB7p",
        "outputId": "7ceb6634-2599-4c31-dc03-5aedab15330b"
      },
      "execution_count": 46,
      "outputs": [
        {
          "output_type": "execute_result",
          "data": {
            "text/plain": [
              "array([1, 2, 3, 4, 5], dtype=object)"
            ]
          },
          "metadata": {},
          "execution_count": 46
        }
      ]
    },
    {
      "cell_type": "code",
      "source": [
        "y.dtype"
      ],
      "metadata": {
        "colab": {
          "base_uri": "https://localhost:8080/"
        },
        "id": "AH8gjUZpSG_7",
        "outputId": "61045eca-1ff0-4858-905e-7fea26231e98"
      },
      "execution_count": 48,
      "outputs": [
        {
          "output_type": "execute_result",
          "data": {
            "text/plain": [
              "dtype('O')"
            ]
          },
          "metadata": {},
          "execution_count": 48
        }
      ]
    },
    {
      "cell_type": "code",
      "source": [
        "y.__sizeof__()"
      ],
      "metadata": {
        "colab": {
          "base_uri": "https://localhost:8080/"
        },
        "id": "esoR9GyRSLgI",
        "outputId": "da6c1502-9c7b-44bf-f8e2-7d08ed66766a"
      },
      "execution_count": 49,
      "outputs": [
        {
          "output_type": "execute_result",
          "data": {
            "text/plain": [
              "152"
            ]
          },
          "metadata": {},
          "execution_count": 49
        }
      ]
    },
    {
      "cell_type": "code",
      "source": [
        "import pandas as pd\n",
        "\n",
        "d = pd.read_csv('Weather Data.csv')\n",
        "print(d)\n",
        "print(d.describe())"
      ],
      "metadata": {
        "colab": {
          "base_uri": "https://localhost:8080/"
        },
        "id": "uHlo7gBSSSW3",
        "outputId": "043c6fa9-840b-4ece-ba20-c5c993b9ef72"
      },
      "execution_count": 51,
      "outputs": [
        {
          "output_type": "stream",
          "name": "stdout",
          "text": [
            "             Date/Time  Temp_C  Dew Point Temp_C  Rel Hum_%  Wind Speed_km/h  \\\n",
            "0        1/1/2012 0:00    -1.8              -3.9         86                4   \n",
            "1        1/1/2012 1:00    -1.8              -3.7         87                4   \n",
            "2        1/1/2012 2:00    -1.8              -3.4         89                7   \n",
            "3        1/1/2012 3:00    -1.5              -3.2         88                6   \n",
            "4        1/1/2012 4:00    -1.5              -3.3         88                7   \n",
            "...                ...     ...               ...        ...              ...   \n",
            "8779  12/31/2012 19:00     0.1              -2.7         81               30   \n",
            "8780  12/31/2012 20:00     0.2              -2.4         83               24   \n",
            "8781  12/31/2012 21:00    -0.5              -1.5         93               28   \n",
            "8782  12/31/2012 22:00    -0.2              -1.8         89               28   \n",
            "8783  12/31/2012 23:00     0.0              -2.1         86               30   \n",
            "\n",
            "      Visibility_km  Press_kPa               Weather  \n",
            "0               8.0     101.24                   Fog  \n",
            "1               8.0     101.24                   Fog  \n",
            "2               4.0     101.26  Freezing Drizzle,Fog  \n",
            "3               4.0     101.27  Freezing Drizzle,Fog  \n",
            "4               4.8     101.23                   Fog  \n",
            "...             ...        ...                   ...  \n",
            "8779            9.7     100.13                  Snow  \n",
            "8780            9.7     100.03                  Snow  \n",
            "8781            4.8      99.95                  Snow  \n",
            "8782            9.7      99.91                  Snow  \n",
            "8783           11.3      99.89                  Snow  \n",
            "\n",
            "[8784 rows x 8 columns]\n",
            "            Temp_C  Dew Point Temp_C    Rel Hum_%  Wind Speed_km/h  \\\n",
            "count  8784.000000       8784.000000  8784.000000      8784.000000   \n",
            "mean      8.798144          2.555294    67.431694        14.945469   \n",
            "std      11.687883         10.883072    16.918881         8.688696   \n",
            "min     -23.300000        -28.500000    18.000000         0.000000   \n",
            "25%       0.100000         -5.900000    56.000000         9.000000   \n",
            "50%       9.300000          3.300000    68.000000        13.000000   \n",
            "75%      18.800000         11.800000    81.000000        20.000000   \n",
            "max      33.000000         24.400000   100.000000        83.000000   \n",
            "\n",
            "       Visibility_km    Press_kPa  \n",
            "count    8784.000000  8784.000000  \n",
            "mean       27.664447   101.051623  \n",
            "std        12.622688     0.844005  \n",
            "min         0.200000    97.520000  \n",
            "25%        24.100000   100.560000  \n",
            "50%        25.000000   101.070000  \n",
            "75%        25.000000   101.590000  \n",
            "max        48.300000   103.650000  \n"
          ]
        }
      ]
    },
    {
      "cell_type": "code",
      "source": [
        "print(d.describe())"
      ],
      "metadata": {
        "colab": {
          "base_uri": "https://localhost:8080/"
        },
        "id": "wBseMiCITdCN",
        "outputId": "0305eded-e08d-4b8a-e0d1-ead8f9f3bb10"
      },
      "execution_count": 52,
      "outputs": [
        {
          "output_type": "stream",
          "name": "stdout",
          "text": [
            "            Temp_C  Dew Point Temp_C    Rel Hum_%  Wind Speed_km/h  \\\n",
            "count  8784.000000       8784.000000  8784.000000      8784.000000   \n",
            "mean      8.798144          2.555294    67.431694        14.945469   \n",
            "std      11.687883         10.883072    16.918881         8.688696   \n",
            "min     -23.300000        -28.500000    18.000000         0.000000   \n",
            "25%       0.100000         -5.900000    56.000000         9.000000   \n",
            "50%       9.300000          3.300000    68.000000        13.000000   \n",
            "75%      18.800000         11.800000    81.000000        20.000000   \n",
            "max      33.000000         24.400000   100.000000        83.000000   \n",
            "\n",
            "       Visibility_km    Press_kPa  \n",
            "count    8784.000000  8784.000000  \n",
            "mean       27.664447   101.051623  \n",
            "std        12.622688     0.844005  \n",
            "min         0.200000    97.520000  \n",
            "25%        24.100000   100.560000  \n",
            "50%        25.000000   101.070000  \n",
            "75%        25.000000   101.590000  \n",
            "max        48.300000   103.650000  \n"
          ]
        }
      ]
    },
    {
      "cell_type": "code",
      "source": [
        "print(d.describe().T)"
      ],
      "metadata": {
        "colab": {
          "base_uri": "https://localhost:8080/"
        },
        "id": "uki980KBTmyf",
        "outputId": "64cab4ce-84d3-4a50-d74c-4c36cbd9462c"
      },
      "execution_count": 53,
      "outputs": [
        {
          "output_type": "stream",
          "name": "stdout",
          "text": [
            "                   count        mean        std    min     25%     50%  \\\n",
            "Temp_C            8784.0    8.798144  11.687883 -23.30    0.10    9.30   \n",
            "Dew Point Temp_C  8784.0    2.555294  10.883072 -28.50   -5.90    3.30   \n",
            "Rel Hum_%         8784.0   67.431694  16.918881  18.00   56.00   68.00   \n",
            "Wind Speed_km/h   8784.0   14.945469   8.688696   0.00    9.00   13.00   \n",
            "Visibility_km     8784.0   27.664447  12.622688   0.20   24.10   25.00   \n",
            "Press_kPa         8784.0  101.051623   0.844005  97.52  100.56  101.07   \n",
            "\n",
            "                     75%     max  \n",
            "Temp_C             18.80   33.00  \n",
            "Dew Point Temp_C   11.80   24.40  \n",
            "Rel Hum_%          81.00  100.00  \n",
            "Wind Speed_km/h    20.00   83.00  \n",
            "Visibility_km      25.00   48.30  \n",
            "Press_kPa         101.59  103.65  \n"
          ]
        }
      ]
    }
  ]
}