{
  "nbformat": 4,
  "nbformat_minor": 0,
  "metadata": {
    "colab": {
      "provenance": [],
      "authorship_tag": "ABX9TyPc5fcTCjZ+pcrG/80SP2bu",
      "include_colab_link": true
    },
    "kernelspec": {
      "name": "python3",
      "display_name": "Python 3"
    },
    "language_info": {
      "name": "python"
    }
  },
  "cells": [
    {
      "cell_type": "markdown",
      "metadata": {
        "id": "view-in-github",
        "colab_type": "text"
      },
      "source": [
        "<a href=\"https://colab.research.google.com/github/AmitUdugade/PythonWorkspace/blob/main/Inheritance_P1.ipynb\" target=\"_parent\"><img src=\"https://colab.research.google.com/assets/colab-badge.svg\" alt=\"Open In Colab\"/></a>"
      ]
    },
    {
      "cell_type": "code",
      "execution_count": 7,
      "metadata": {
        "colab": {
          "base_uri": "https://localhost:8080/"
        },
        "id": "RxwYc3ym0nUn",
        "outputId": "e475bc00-ab57-4515-99e5-9074a8176f17"
      },
      "outputs": [
        {
          "output_type": "stream",
          "name": "stdout",
          "text": [
            "The name of employee : 198 is Amit Udugade\n",
            "The name of employee : 200 is Pritam Udugade\n",
            "The default language is python\n"
          ]
        }
      ],
      "source": [
        "#Inheritance -\n",
        "''' When a class derives from another class. The child class will inherit all the public and protected properties and methods from the parent class.\n",
        "    In addition, it can have its own properties and methods,this is called as inheritance.\n",
        "\n",
        "    Syntax -  class BaseClass:\n",
        "                Body of base class\n",
        "              class DerivedClass(BaseClass):\n",
        "                Body of derived class\n",
        "\n",
        "    Types -\n",
        "        1. Single inheritance\n",
        "        2. Multiple inheritance\n",
        "        3. Multilevel inheritance\n",
        "        4. Hierarchical Inheritance\n",
        "        5. Hybrid Inheritance\n",
        "'''\n",
        "\n",
        "class Employee:\n",
        "  def __init__(self, name, id):\n",
        "    self.name = name\n",
        "    self.id = id\n",
        "\n",
        "  def showDetails(self):\n",
        "    print(f\"The name of employee : {self.id} is {self.name}\")\n",
        "\n",
        "class Programmer(Employee):\n",
        "  def showLanguage(self):\n",
        "    print(\"The default language is python\")\n",
        "\n",
        "e1 = Employee(\"Amit Udugade\", 198)\n",
        "e1.showDetails()\n",
        "# e1.showLanguage()   #Will get error 'Employee' object has no attribute 'showLanguage'\n",
        "\n",
        "e2 = Programmer(\"Pritam Udugade\", 200)\n",
        "e2.showDetails()\n",
        "e2.showLanguage()\n"
      ]
    },
    {
      "cell_type": "code",
      "source": [],
      "metadata": {
        "id": "vtjNw-2m8OO7"
      },
      "execution_count": null,
      "outputs": []
    }
  ]
}