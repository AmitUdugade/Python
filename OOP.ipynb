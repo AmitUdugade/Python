{
  "nbformat": 4,
  "nbformat_minor": 0,
  "metadata": {
    "colab": {
      "provenance": [],
      "authorship_tag": "ABX9TyOlNRUvM0W7hguRRm04qJuF",
      "include_colab_link": true
    },
    "kernelspec": {
      "name": "python3",
      "display_name": "Python 3"
    },
    "language_info": {
      "name": "python"
    }
  },
  "cells": [
    {
      "cell_type": "markdown",
      "metadata": {
        "id": "view-in-github",
        "colab_type": "text"
      },
      "source": [
        "<a href=\"https://colab.research.google.com/github/AmitUdugade/PythonBasicsWorkspace/blob/main/OOP.ipynb\" target=\"_parent\"><img src=\"https://colab.research.google.com/assets/colab-badge.svg\" alt=\"Open In Colab\"/></a>"
      ]
    },
    {
      "cell_type": "code",
      "execution_count": 13,
      "metadata": {
        "colab": {
          "base_uri": "https://localhost:8080/"
        },
        "id": "1khtORyfLdPX",
        "outputId": "21f56fe0-e73a-4594-82b9-8e6e0f0b72f2"
      },
      "outputs": [
        {
          "output_type": "stream",
          "name": "stdout",
          "text": [
            "Amit - Software Developer\n",
            "Amit is a Software Developer\n",
            "Abhishek is a DBA\n"
          ]
        }
      ],
      "source": [
        "#OOP -\n",
        "''' The basic idea of object-oriented programming (OOP) in Python is to use classes and objects to represent real-world concepts.\n",
        "\n",
        "A class is a blueprint or template for creating objects. It defines the properties and methods that an object of that class will have.\n",
        "Properties are the data or state of an object, and methods are the actions or behaviors that an object can perform. '''\n",
        "\n",
        "class Person:\n",
        "  name = \"Amit\"\n",
        "  occupation = \"Software Developer\"\n",
        "  Age = 28\n",
        "\n",
        "  def info(self):\n",
        "    print(f\"{self.name} is a {self.occupation}\")\n",
        "\n",
        "''' An object is an instance of a class, and it contains its own data and methods.\n",
        "For example, you could create a class called \"Person\" that has properties such as name and age, and methods such as speak() and walk().\n",
        "Each instance of the Person class would be a unique object with its own name and age, but they would all have the same methods to speak and walk.\n",
        "'''\n",
        "\n",
        "a = Person()\n",
        "print(a.name, \"-\" , a.occupation)\n",
        "\n",
        "b = Person()\n",
        "b.name = \"Abhishek\"\n",
        "b.occupation = \"DBA\"\n",
        "a.info()\n",
        "b.info()"
      ]
    },
    {
      "cell_type": "code",
      "source": [
        "''' Encapsulation, which means that the internal state of an object is hidden and can only be accessed or modified through the object's methods.\n",
        "This helps to protect the object's data and prevent it from being modified in unexpected ways.\n",
        "\n",
        " Inheritance, which allows new classes to be created that inherit the properties and methods of an existing class.\n",
        " This allows for code reuse and makes it easy to create new classes that have similar functionality to existing classes.\n",
        "\n",
        " Polymorphism is also supported in Python, which means that objects of different classes can be treated as if they were objects of a common class.\n",
        " This allows for greater flexibility in code and makes it easier to write code that can work with multiple types of objects.\n",
        "\n",
        " In summary, OOP in Python allows developers to model real-world concepts and entities using classes and objects,\n",
        " encapsulate data, reuse code through inheritance, and write more flexible code through polymorphism.\n",
        " '''"
      ],
      "metadata": {
        "id": "904RL6YOMmZb"
      },
      "execution_count": null,
      "outputs": []
    },
    {
      "cell_type": "code",
      "source": [],
      "metadata": {
        "id": "hzDo_YSaP-fx"
      },
      "execution_count": null,
      "outputs": []
    }
  ]
}