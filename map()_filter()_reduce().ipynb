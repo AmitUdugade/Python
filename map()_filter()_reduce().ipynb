{
  "nbformat": 4,
  "nbformat_minor": 0,
  "metadata": {
    "colab": {
      "provenance": [],
      "authorship_tag": "ABX9TyPVkKZFdCUurVun2VVQWjFA",
      "include_colab_link": true
    },
    "kernelspec": {
      "name": "python3",
      "display_name": "Python 3"
    },
    "language_info": {
      "name": "python"
    }
  },
  "cells": [
    {
      "cell_type": "markdown",
      "metadata": {
        "id": "view-in-github",
        "colab_type": "text"
      },
      "source": [
        "<a href=\"https://colab.research.google.com/github/AmitUdugade/PythonWorkspace/blob/main/map()_filter()_reduce().ipynb\" target=\"_parent\"><img src=\"https://colab.research.google.com/assets/colab-badge.svg\" alt=\"Open In Colab\"/></a>"
      ]
    },
    {
      "cell_type": "code",
      "execution_count": null,
      "metadata": {
        "colab": {
          "base_uri": "https://localhost:8080/"
        },
        "id": "bfBGNyuYuf4Q",
        "outputId": "6d6e53f5-7b15-465b-a479-b79acafb02bd"
      },
      "outputs": [
        {
          "output_type": "stream",
          "name": "stdout",
          "text": [
            "[1, 8, 79507, 91125, 512]\n"
          ]
        }
      ],
      "source": [
        "#Map() Filter() Reduce() -\n",
        "''' In python, map() filter() reduce() are built-in functions that allows you to apply a function to a sequence of element and return a new sequence.\n",
        "    these functions are known as higher-order functions, as they take other functions as a arguments.\n",
        "                                                                                                      '''\n",
        "\n",
        "# map() - map function applies a function to each element in a sequence and return a new sequence containing a transformed element.\n",
        "# syntax -      map(function, iterate)\n",
        "\n",
        "l = [1, 2, 43, 45, 8]\n",
        "\n",
        "new_l = list(map(cube, l))\n",
        "print(new_l)"
      ]
    },
    {
      "cell_type": "code",
      "source": [
        "cube = lambda x : x * x * x\n",
        "\n",
        "print(cube(5))"
      ],
      "metadata": {
        "colab": {
          "base_uri": "https://localhost:8080/"
        },
        "id": "uM3SeY4Fv9aK",
        "outputId": "016757b8-5bbc-43cd-9575-aac1ad349446"
      },
      "execution_count": null,
      "outputs": [
        {
          "output_type": "stream",
          "name": "stdout",
          "text": [
            "125\n"
          ]
        }
      ]
    },
    {
      "cell_type": "code",
      "source": [
        "#Filter() - filters a sequence of elements based on a given predict and return a new sequence containing only the elements that meet the predict.\n",
        "\n",
        "''' syntax -\n",
        "              filter(predict, iterable)\n",
        "                                        '''\n",
        "\n",
        "def filter_function(a):\n",
        "  return a > 2\n",
        "\n",
        "new_l1 = list(filter(filter_function, l))\n",
        "\n",
        "print(new_l1)\n"
      ],
      "metadata": {
        "colab": {
          "base_uri": "https://localhost:8080/"
        },
        "id": "jAJa0PMTwQyq",
        "outputId": "3ad2b753-8980-4800-af6c-0b9fbb75d1fb"
      },
      "execution_count": null,
      "outputs": [
        {
          "output_type": "stream",
          "name": "stdout",
          "text": [
            "[43, 45, 8]\n"
          ]
        }
      ]
    },
    {
      "cell_type": "code",
      "source": [
        "# Reduce() - applies a function to a sequence and return a single value.\n",
        "#          - present in a functools module.\n",
        "\n",
        "from functools import reduce\n",
        "\n",
        "numbers = [1, 2, 3, 4, 5]\n",
        "\n",
        "def mysum(x, y):\n",
        "  return x + y\n",
        "\n",
        "sum = reduce(mysum, numbers)\n",
        "print(sum)"
      ],
      "metadata": {
        "colab": {
          "base_uri": "https://localhost:8080/"
        },
        "id": "nshZ3Dlo1eij",
        "outputId": "4fd3fc06-b839-42df-e219-0d8a8d034680"
      },
      "execution_count": null,
      "outputs": [
        {
          "output_type": "stream",
          "name": "stdout",
          "text": [
            "15\n"
          ]
        }
      ]
    },
    {
      "cell_type": "code",
      "source": [
        "h = [35, 22, 28, 29, 55, 68, 79]\n",
        "\n",
        "print(list(filter(lambda num: num % 2 == 0, h)))"
      ],
      "metadata": {
        "id": "kyC-lPAA2Ebs",
        "outputId": "36918c53-c9d9-4108-c542-0d33af158795",
        "colab": {
          "base_uri": "https://localhost:8080/"
        }
      },
      "execution_count": 3,
      "outputs": [
        {
          "output_type": "stream",
          "name": "stdout",
          "text": [
            "[22, 28, 68]\n"
          ]
        }
      ]
    },
    {
      "cell_type": "code",
      "source": [
        "players = ['virat', 'dhoni', 'sachin', 'dinesh']\n",
        "\n",
        "print(list(filter(lambda name : name.endswith('t'), players)))"
      ],
      "metadata": {
        "id": "c0xYSOcQs8I1",
        "outputId": "28039d3a-8b65-40c5-d3e1-90c04c1dfa35",
        "colab": {
          "base_uri": "https://localhost:8080/"
        }
      },
      "execution_count": 5,
      "outputs": [
        {
          "output_type": "stream",
          "name": "stdout",
          "text": [
            "['virat']\n"
          ]
        }
      ]
    },
    {
      "cell_type": "code",
      "source": [
        "salary = [2000, 5000, 6000, 8000, 2540]\n",
        "\n",
        "print(list(map(lambda amt : amt + amt * 0.1 if amt > 5000 else amt + amt * 0.2, salary )))"
      ],
      "metadata": {
        "id": "j2yOIBAlu_vW",
        "outputId": "90331a92-02f7-41b5-9317-6bd30d293673",
        "colab": {
          "base_uri": "https://localhost:8080/"
        }
      },
      "execution_count": 7,
      "outputs": [
        {
          "output_type": "stream",
          "name": "stdout",
          "text": [
            "[2400.0, 6000.0, 6600.0, 8800.0, 3048.0]\n"
          ]
        }
      ]
    },
    {
      "cell_type": "code",
      "source": [],
      "metadata": {
        "id": "SY5Wkj0rzyUT",
        "outputId": "db22eac3-ab75-4b43-b420-29402a8aea56",
        "colab": {
          "base_uri": "https://localhost:8080/"
        }
      },
      "execution_count": 12,
      "outputs": [
        {
          "output_type": "stream",
          "name": "stdout",
          "text": [
            "[2400.0, 6000.0, 7200.0, 9600.0, 3048.0]\n"
          ]
        }
      ]
    },
    {
      "cell_type": "code",
      "source": [
        "from functools import reduce\n",
        "\n",
        "a = [30, 40, 85, 56, 12, 33, 79]\n",
        "\n",
        "print(\"The maximum number among list is\", reduce(lambda x, y : max(x, y), a))"
      ],
      "metadata": {
        "id": "n32Vf4nLz9TM",
        "outputId": "f5270894-050a-4b8a-b314-e1445e855161",
        "colab": {
          "base_uri": "https://localhost:8080/"
        }
      },
      "execution_count": 16,
      "outputs": [
        {
          "output_type": "stream",
          "name": "stdout",
          "text": [
            "The maximum number among list is 85\n"
          ]
        }
      ]
    },
    {
      "cell_type": "code",
      "source": [],
      "metadata": {
        "id": "0gVm-iMy4Xgw"
      },
      "execution_count": null,
      "outputs": []
    }
  ]
}