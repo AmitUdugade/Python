{
  "nbformat": 4,
  "nbformat_minor": 0,
  "metadata": {
    "colab": {
      "provenance": [],
      "authorship_tag": "ABX9TyMejzs/uqZPPXWB/QU/lUy7",
      "include_colab_link": true
    },
    "kernelspec": {
      "name": "python3",
      "display_name": "Python 3"
    },
    "language_info": {
      "name": "python"
    }
  },
  "cells": [
    {
      "cell_type": "markdown",
      "metadata": {
        "id": "view-in-github",
        "colab_type": "text"
      },
      "source": [
        "<a href=\"https://colab.research.google.com/github/AmitUdugade/PythonWorkspace/blob/main/Numpy_Part4.ipynb\" target=\"_parent\"><img src=\"https://colab.research.google.com/assets/colab-badge.svg\" alt=\"Open In Colab\"/></a>"
      ]
    },
    {
      "cell_type": "code",
      "execution_count": 2,
      "metadata": {
        "colab": {
          "base_uri": "https://localhost:8080/"
        },
        "id": "e4GC5LKv5Am3",
        "outputId": "73e0ae5f-9343-414c-d5b3-6be8b4f57fb5"
      },
      "outputs": [
        {
          "output_type": "execute_result",
          "data": {
            "text/plain": [
              "array([[ 1,  2,  3,  4,  5,  6],\n",
              "       [ 7,  8,  9, 10, 11, 12],\n",
              "       [13, 14, 15, 16, 17, 18],\n",
              "       [19, 20, 21, 22, 23, 24]])"
            ]
          },
          "metadata": {},
          "execution_count": 2
        }
      ],
      "source": [
        "import numpy as np\n",
        "\n",
        "np.arange(1, 25).reshape(4,6)   #Row major"
      ]
    },
    {
      "cell_type": "code",
      "source": [
        "np.arange(1, 25).reshape(4,6, order = 'F')   #Column major"
      ],
      "metadata": {
        "colab": {
          "base_uri": "https://localhost:8080/"
        },
        "id": "8v-vE5Qs5Gyt",
        "outputId": "aed8a35b-b656-4ccf-db43-efab93485527"
      },
      "execution_count": 3,
      "outputs": [
        {
          "output_type": "execute_result",
          "data": {
            "text/plain": [
              "array([[ 1,  5,  9, 13, 17, 21],\n",
              "       [ 2,  6, 10, 14, 18, 22],\n",
              "       [ 3,  7, 11, 15, 19, 23],\n",
              "       [ 4,  8, 12, 16, 20, 24]])"
            ]
          },
          "metadata": {},
          "execution_count": 3
        }
      ]
    },
    {
      "cell_type": "code",
      "source": [
        "#Conditional based Selection -\n",
        "a = np.arange(1, 25).reshape(4,6)\n",
        "\n",
        "#Performs element-wise operation.\n",
        "#it will give you array of an boolean output\n",
        "a>10"
      ],
      "metadata": {
        "colab": {
          "base_uri": "https://localhost:8080/"
        },
        "id": "HD4dbhAM5V8w",
        "outputId": "b8aba967-e5e2-443f-9e81-db13b321ba08"
      },
      "execution_count": 5,
      "outputs": [
        {
          "output_type": "execute_result",
          "data": {
            "text/plain": [
              "array([[False, False, False, False, False, False],\n",
              "       [False, False, False, False,  True,  True],\n",
              "       [ True,  True,  True,  True,  True,  True],\n",
              "       [ True,  True,  True,  True,  True,  True]])"
            ]
          },
          "metadata": {},
          "execution_count": 5
        }
      ]
    },
    {
      "cell_type": "code",
      "source": [
        "a[a>10]  #boolean indexing is supported"
      ],
      "metadata": {
        "colab": {
          "base_uri": "https://localhost:8080/"
        },
        "id": "v5p6RW4O8iRn",
        "outputId": "f4585a27-6e9e-477d-bf03-733eaff3ebd0"
      },
      "execution_count": 6,
      "outputs": [
        {
          "output_type": "execute_result",
          "data": {
            "text/plain": [
              "array([11, 12, 13, 14, 15, 16, 17, 18, 19, 20, 21, 22, 23, 24])"
            ]
          },
          "metadata": {},
          "execution_count": 6
        }
      ]
    },
    {
      "cell_type": "code",
      "source": [
        "a[ [True, False, True, False] ]   #fetch odd rows"
      ],
      "metadata": {
        "colab": {
          "base_uri": "https://localhost:8080/"
        },
        "id": "GwsGyO0y9JD-",
        "outputId": "dd4dbd99-75bf-472c-c584-8f527e9bb6ad"
      },
      "execution_count": 10,
      "outputs": [
        {
          "output_type": "execute_result",
          "data": {
            "text/plain": [
              "array([[ 1,  2,  3,  4,  5,  6],\n",
              "       [13, 14, 15, 16, 17, 18]])"
            ]
          },
          "metadata": {},
          "execution_count": 10
        }
      ]
    },
    {
      "cell_type": "code",
      "source": [
        "a"
      ],
      "metadata": {
        "colab": {
          "base_uri": "https://localhost:8080/"
        },
        "id": "OyLvHgkU99Wv",
        "outputId": "4b43bbce-37d4-4aca-9dcf-a50078b2cbe3"
      },
      "execution_count": 11,
      "outputs": [
        {
          "output_type": "execute_result",
          "data": {
            "text/plain": [
              "array([[ 1,  2,  3,  4,  5,  6],\n",
              "       [ 7,  8,  9, 10, 11, 12],\n",
              "       [13, 14, 15, 16, 17, 18],\n",
              "       [19, 20, 21, 22, 23, 24]])"
            ]
          },
          "metadata": {},
          "execution_count": 11
        }
      ]
    },
    {
      "cell_type": "code",
      "source": [
        "#divisible by 5 and 7\n",
        "\n",
        "a[ (a%5==0) | (a%7==0) ]"
      ],
      "metadata": {
        "colab": {
          "base_uri": "https://localhost:8080/"
        },
        "id": "M9hguSdE-U-D",
        "outputId": "5d7de11f-68da-4db0-d4b9-f7a1b3e8ab1f"
      },
      "execution_count": 13,
      "outputs": [
        {
          "output_type": "execute_result",
          "data": {
            "text/plain": [
              "array([ 5,  7, 10, 14, 15, 20, 21])"
            ]
          },
          "metadata": {},
          "execution_count": 13
        }
      ]
    },
    {
      "cell_type": "code",
      "source": [
        "a[ (a%5==0) & (a%10==0)]"
      ],
      "metadata": {
        "colab": {
          "base_uri": "https://localhost:8080/"
        },
        "id": "X66RVIqx-MWS",
        "outputId": "4257e091-ccb1-466f-cf77-7a000fe4b70b"
      },
      "execution_count": 14,
      "outputs": [
        {
          "output_type": "execute_result",
          "data": {
            "text/plain": [
              "array([10, 20])"
            ]
          },
          "metadata": {},
          "execution_count": 14
        }
      ]
    },
    {
      "cell_type": "code",
      "source": [
        "#Logical Operator - and , or\n",
        "#bitwise Operator - &(and), |(or), ~(not), ^(XOR)\n",
        "'''\n",
        "XOR\n",
        "00 0\n",
        "01 1\n",
        "10 1\n",
        "11 0\n",
        "'''"
      ],
      "metadata": {
        "id": "puFBzy0X_ha4"
      },
      "execution_count": null,
      "outputs": []
    },
    {
      "cell_type": "code",
      "source": [
        "x = np.array([[2,3], [4,5]])\n",
        "y = np.array([[10,20], [6,7]])\n",
        "\n",
        "x>y"
      ],
      "metadata": {
        "colab": {
          "base_uri": "https://localhost:8080/"
        },
        "id": "LWRlgrwUq1De",
        "outputId": "0ee7c04c-5418-468a-fb12-2f57e7fbae9b"
      },
      "execution_count": 16,
      "outputs": [
        {
          "output_type": "execute_result",
          "data": {
            "text/plain": [
              "array([[False, False],\n",
              "       [False, False]])"
            ]
          },
          "metadata": {},
          "execution_count": 16
        }
      ]
    },
    {
      "cell_type": "code",
      "source": [
        "x[x<y]"
      ],
      "metadata": {
        "colab": {
          "base_uri": "https://localhost:8080/"
        },
        "id": "C6agysczrESU",
        "outputId": "ed2dbc07-913e-42de-b757-a0ae68315585"
      },
      "execution_count": 18,
      "outputs": [
        {
          "output_type": "execute_result",
          "data": {
            "text/plain": [
              "array([2, 3, 4, 5])"
            ]
          },
          "metadata": {},
          "execution_count": 18
        }
      ]
    },
    {
      "cell_type": "code",
      "source": [
        "y[x<y]"
      ],
      "metadata": {
        "colab": {
          "base_uri": "https://localhost:8080/"
        },
        "id": "CLZiOP2Wr3Jq",
        "outputId": "2039ff1d-c18f-473c-e006-6dc7575d0e19"
      },
      "execution_count": 19,
      "outputs": [
        {
          "output_type": "execute_result",
          "data": {
            "text/plain": [
              "array([10, 20,  6,  7])"
            ]
          },
          "metadata": {},
          "execution_count": 19
        }
      ]
    },
    {
      "cell_type": "code",
      "source": [
        "#Scalar Mathematics Over Numpy array :\n",
        "\n",
        "#add 10 in each element -\n",
        "\n",
        "x + 10\n",
        "#Results are temporary as it is arithmatic operator."
      ],
      "metadata": {
        "colab": {
          "base_uri": "https://localhost:8080/"
        },
        "id": "GU_7nkuyr-5i",
        "outputId": "f4138326-d001-493e-d660-99de218e2047"
      },
      "execution_count": 20,
      "outputs": [
        {
          "output_type": "execute_result",
          "data": {
            "text/plain": [
              "array([[12, 13],\n",
              "       [14, 15]])"
            ]
          },
          "metadata": {},
          "execution_count": 20
        }
      ]
    },
    {
      "cell_type": "code",
      "source": [
        "#add 10 in each element -\n",
        "\n",
        "x += 10\n",
        "#Results are permanent as it is assignment operator."
      ],
      "metadata": {
        "id": "Yom26T4-s6TO"
      },
      "execution_count": 21,
      "outputs": []
    },
    {
      "cell_type": "code",
      "source": [
        "x"
      ],
      "metadata": {
        "colab": {
          "base_uri": "https://localhost:8080/"
        },
        "id": "32ay0rxztPv1",
        "outputId": "4cbf9830-4071-4a45-b4e3-b2898c14a98d"
      },
      "execution_count": 22,
      "outputs": [
        {
          "output_type": "execute_result",
          "data": {
            "text/plain": [
              "array([[12, 13],\n",
              "       [14, 15]])"
            ]
          },
          "metadata": {},
          "execution_count": 22
        }
      ]
    },
    {
      "cell_type": "code",
      "source": [
        "#using np add 100 in each element.\n",
        "\n",
        "np.add(x, 100)  #Results are temporary."
      ],
      "metadata": {
        "colab": {
          "base_uri": "https://localhost:8080/"
        },
        "id": "jEizZ_4utQ67",
        "outputId": "2dc85ba9-c452-41b6-c38e-8c06ffa43726"
      },
      "execution_count": 23,
      "outputs": [
        {
          "output_type": "execute_result",
          "data": {
            "text/plain": [
              "array([[112, 113],\n",
              "       [114, 115]])"
            ]
          },
          "metadata": {},
          "execution_count": 23
        }
      ]
    },
    {
      "cell_type": "code",
      "source": [
        "#addition of x, y [vector addition] -\n",
        "\n",
        "x + y   #Results are temporary."
      ],
      "metadata": {
        "colab": {
          "base_uri": "https://localhost:8080/"
        },
        "id": "z618kgDxtm1D",
        "outputId": "d52b21bb-bedf-488f-9794-89c2552647e2"
      },
      "execution_count": 24,
      "outputs": [
        {
          "output_type": "execute_result",
          "data": {
            "text/plain": [
              "array([[22, 33],\n",
              "       [20, 22]])"
            ]
          },
          "metadata": {},
          "execution_count": 24
        }
      ]
    },
    {
      "cell_type": "code",
      "source": [
        "np.add(x, y)     #Results are temporary."
      ],
      "metadata": {
        "colab": {
          "base_uri": "https://localhost:8080/"
        },
        "id": "QaBBnK19uZAw",
        "outputId": "71a27d3c-2c46-4e35-915f-a1fcf4947b80"
      },
      "execution_count": 25,
      "outputs": [
        {
          "output_type": "execute_result",
          "data": {
            "text/plain": [
              "array([[22, 33],\n",
              "       [20, 22]])"
            ]
          },
          "metadata": {},
          "execution_count": 25
        }
      ]
    },
    {
      "cell_type": "code",
      "source": [],
      "metadata": {
        "id": "2Ue5aFoYufrf"
      },
      "execution_count": null,
      "outputs": []
    }
  ]
}