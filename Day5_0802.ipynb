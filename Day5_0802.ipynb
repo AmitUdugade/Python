{
  "nbformat": 4,
  "nbformat_minor": 0,
  "metadata": {
    "colab": {
      "provenance": [],
      "authorship_tag": "ABX9TyPZm6fms0xEeW62Z9dMIbxJ",
      "include_colab_link": true
    },
    "kernelspec": {
      "name": "python3",
      "display_name": "Python 3"
    },
    "language_info": {
      "name": "python"
    }
  },
  "cells": [
    {
      "cell_type": "markdown",
      "metadata": {
        "id": "view-in-github",
        "colab_type": "text"
      },
      "source": [
        "<a href=\"https://colab.research.google.com/github/AmitUdugade/PythonBasicsWorkspace/blob/main/Day5_0802.ipynb\" target=\"_parent\"><img src=\"https://colab.research.google.com/assets/colab-badge.svg\" alt=\"Open In Colab\"/></a>"
      ]
    },
    {
      "cell_type": "code",
      "execution_count": 1,
      "metadata": {
        "colab": {
          "base_uri": "https://localhost:8080/"
        },
        "id": "sP97vH87Y9oS",
        "outputId": "81675eb3-99c6-4da2-b977-a4237d0bb5e6"
      },
      "outputs": [
        {
          "output_type": "stream",
          "name": "stdout",
          "text": [
            "Hello world\n",
            "This is my first python program\n",
            "hope you all like it\n"
          ]
        }
      ],
      "source": [
        "#Multiline statements in print()\n",
        "#Method 1\n",
        "print(\"\"\"Hello world\n",
        "This is my first python program\n",
        "hope you all like it\"\"\")"
      ]
    },
    {
      "cell_type": "code",
      "source": [
        "#Multiline statements in print()\n",
        "#Method 2\n",
        "print(\"Hello world \\nThis is my first python program \\nhope you all like it\")"
      ],
      "metadata": {
        "colab": {
          "base_uri": "https://localhost:8080/"
        },
        "id": "tCSYVHzSZHji",
        "outputId": "f429363c-ecd3-41b1-bf43-b5f89ec94434"
      },
      "execution_count": 5,
      "outputs": [
        {
          "output_type": "stream",
          "name": "stdout",
          "text": [
            "Hello world \n",
            "This is my first python program \n",
            "hope you all like it\n"
          ]
        }
      ]
    },
    {
      "cell_type": "code",
      "source": [
        "exp1 = eval(input(\"Enter your evaluation here : \"))\n",
        "print(exp1)"
      ],
      "metadata": {
        "colab": {
          "base_uri": "https://localhost:8080/"
        },
        "id": "d9k_XZOqe8NP",
        "outputId": "cd264152-0170-42a9-f70c-fbb5ea8e9199"
      },
      "execution_count": 7,
      "outputs": [
        {
          "output_type": "stream",
          "name": "stdout",
          "text": [
            "Enter your evaluation here : 10%3\n",
            "1\n"
          ]
        }
      ]
    },
    {
      "cell_type": "code",
      "source": [
        "name = input(\"Enter your name : \")\n",
        "age = int(input(\"Enter your age : \"))\n",
        "address = input(\"Enter your address : \")\n",
        "print(\"\\n\")\n",
        "print(\"Name is \" + name)\n",
        "print(\"Age is \" + str(age))\n",
        "print(\"Address is \" + address)"
      ],
      "metadata": {
        "colab": {
          "base_uri": "https://localhost:8080/"
        },
        "id": "jAYpMKvJfM7W",
        "outputId": "dbb94cdf-3490-4132-a0c0-03be091bc222"
      },
      "execution_count": 16,
      "outputs": [
        {
          "output_type": "stream",
          "name": "stdout",
          "text": [
            "Enter your name : Amit\n",
            "Enter your age : 31\n",
            "Enter your address : Mumbai\n",
            "\n",
            "\n",
            "Name is Amit\n",
            "Age is 31\n",
            "Address is Mumbai\n"
          ]
        }
      ]
    },
    {
      "cell_type": "code",
      "source": [
        "#Swap two variables\n",
        "a = 10\n",
        "b = 20\n",
        "\n",
        "c = a\n",
        "a = b\n",
        "b = c\n",
        "\n",
        "print(\"a = \" +str(a))\n",
        "print(\"b = \" +str(b))"
      ],
      "metadata": {
        "colab": {
          "base_uri": "https://localhost:8080/"
        },
        "id": "4D4WOuUphkjy",
        "outputId": "5c7e8cbd-d1a1-4a46-9ef9-bdbfb29e506e"
      },
      "execution_count": 19,
      "outputs": [
        {
          "output_type": "stream",
          "name": "stdout",
          "text": [
            "a = 20\n",
            "b = 10\n"
          ]
        }
      ]
    },
    {
      "cell_type": "code",
      "source": [
        "#Swap two variables\n",
        "#method 2\n",
        "a = 10\n",
        "b = 20\n",
        "\n",
        "#left, right = right, left\n",
        "a,b = b,a\n",
        "\n",
        "print(a)\n",
        "print(b)"
      ],
      "metadata": {
        "colab": {
          "base_uri": "https://localhost:8080/"
        },
        "id": "tv16kDgaj24g",
        "outputId": "8894f318-177e-4c20-9f89-f9bb5f5a43e0"
      },
      "execution_count": 24,
      "outputs": [
        {
          "output_type": "stream",
          "name": "stdout",
          "text": [
            "20\n",
            "10\n"
          ]
        }
      ]
    },
    {
      "cell_type": "code",
      "source": [
        "#Convert Float into int\n",
        "a = 10.1\n",
        "\n",
        "a = int(a)\n",
        "print(a)\n",
        "type(a)\n"
      ],
      "metadata": {
        "colab": {
          "base_uri": "https://localhost:8080/"
        },
        "id": "19bmpVh8iKB_",
        "outputId": "006dbf55-c211-4f63-db7b-a7e7c9aea88d"
      },
      "execution_count": 22,
      "outputs": [
        {
          "output_type": "stream",
          "name": "stdout",
          "text": [
            "10\n"
          ]
        },
        {
          "output_type": "execute_result",
          "data": {
            "text/plain": [
              "int"
            ]
          },
          "metadata": {},
          "execution_count": 22
        }
      ]
    },
    {
      "cell_type": "code",
      "source": [
        "a = 10\n",
        "\n",
        "a = float(a)\n",
        "print(a)\n",
        "type(a)"
      ],
      "metadata": {
        "colab": {
          "base_uri": "https://localhost:8080/"
        },
        "id": "LpNriIsuic_4",
        "outputId": "13429eda-0bf9-4cac-d094-e3c6562e6449"
      },
      "execution_count": 23,
      "outputs": [
        {
          "output_type": "stream",
          "name": "stdout",
          "text": [
            "10.0\n"
          ]
        },
        {
          "output_type": "execute_result",
          "data": {
            "text/plain": [
              "float"
            ]
          },
          "metadata": {},
          "execution_count": 23
        }
      ]
    },
    {
      "cell_type": "code",
      "source": [
        "#Identity Operator - used to compare the items to see if they are present in given memory address\n",
        "a = 1234\n",
        "b = \"1234\"\n",
        "\n",
        "print(a is b)"
      ],
      "metadata": {
        "colab": {
          "base_uri": "https://localhost:8080/"
        },
        "id": "9YChXYBbsWA4",
        "outputId": "1db0d45f-eb3e-4a80-894d-d6df6c3ca667"
      },
      "execution_count": 25,
      "outputs": [
        {
          "output_type": "stream",
          "name": "stdout",
          "text": [
            "False\n"
          ]
        }
      ]
    },
    {
      "cell_type": "code",
      "source": [
        "#Identity Operator\n",
        "a = 1234\n",
        "b = \"1234\"\n",
        "\n",
        "print(a is not b)"
      ],
      "metadata": {
        "colab": {
          "base_uri": "https://localhost:8080/"
        },
        "id": "8VLKjQiEsaBJ",
        "outputId": "b5e5f017-cafe-4812-9474-76e7e62ec752"
      },
      "execution_count": 26,
      "outputs": [
        {
          "output_type": "stream",
          "name": "stdout",
          "text": [
            "True\n"
          ]
        }
      ]
    },
    {
      "cell_type": "code",
      "source": [
        "#memership operator - used to check presense of the word in given string\n",
        "\n",
        "a = \"Hello World\"\n",
        "\n",
        "print(\"Hello\" in a)"
      ],
      "metadata": {
        "colab": {
          "base_uri": "https://localhost:8080/"
        },
        "id": "AQBweIBEsjuH",
        "outputId": "284696da-6567-4240-9c6e-ccdd1f16c398"
      },
      "execution_count": 27,
      "outputs": [
        {
          "output_type": "stream",
          "name": "stdout",
          "text": [
            "True\n"
          ]
        }
      ]
    },
    {
      "cell_type": "code",
      "source": [
        "#Short hand if statement\n",
        "\n",
        "marks = 90\n",
        "\n",
        "if marks >= 90: print(\"You will get a new phone\")"
      ],
      "metadata": {
        "colab": {
          "base_uri": "https://localhost:8080/"
        },
        "id": "darAmhrLzmxi",
        "outputId": "63eacb5f-2470-4b5b-963f-62902d55a5e4"
      },
      "execution_count": 29,
      "outputs": [
        {
          "output_type": "stream",
          "name": "stdout",
          "text": [
            "You will get a new phone\n"
          ]
        }
      ]
    },
    {
      "cell_type": "code",
      "source": [
        "#Short hand if-else statement\n",
        "\n",
        "marks = 87\n",
        "\n",
        "print(\"You will get a new phone\") if marks >= 90 else print(\"No phone\")"
      ],
      "metadata": {
        "colab": {
          "base_uri": "https://localhost:8080/"
        },
        "id": "hyqsIVybz1s0",
        "outputId": "17864024-93e7-4f0c-bf2e-f903f1fa302d"
      },
      "execution_count": 31,
      "outputs": [
        {
          "output_type": "stream",
          "name": "stdout",
          "text": [
            "No phone\n"
          ]
        }
      ]
    },
    {
      "cell_type": "code",
      "source": [
        "#Check if number is positive or negative\n",
        "\n",
        "num = 0\n",
        "\n",
        "if num >= 0:\n",
        "  print(\"It's a positive number\")\n",
        "else:\n",
        "  print(\"It's  a negative number\")"
      ],
      "metadata": {
        "colab": {
          "base_uri": "https://localhost:8080/"
        },
        "id": "0gGU3ZTa0E1l",
        "outputId": "e09053ef-147e-4932-c40d-c380d571aaa9"
      },
      "execution_count": 35,
      "outputs": [
        {
          "output_type": "stream",
          "name": "stdout",
          "text": [
            "It's a positive number\n"
          ]
        }
      ]
    },
    {
      "cell_type": "code",
      "source": [
        "#number is even or odd\n",
        "\n",
        "num = 1\n",
        "\n",
        "if num % 2 == 0:\n",
        "  print(\"The number is Even\")\n",
        "else:\n",
        "  print(\"The number is Odd\")"
      ],
      "metadata": {
        "colab": {
          "base_uri": "https://localhost:8080/"
        },
        "id": "cHu6-znf0fOI",
        "outputId": "22c996ab-412d-4951-9feb-82625c8e999d"
      },
      "execution_count": 39,
      "outputs": [
        {
          "output_type": "stream",
          "name": "stdout",
          "text": [
            "The number is Odd\n"
          ]
        }
      ]
    },
    {
      "cell_type": "code",
      "source": [
        "#check the given character is vowel or not\n",
        "\n",
        "ch = 'x'\n",
        "\n",
        "if ch == 'a' or ch == 'e' or ch == 'i' or ch == 'o' or ch == 'u':\n",
        "  print(\"The given character is a vowel\")\n",
        "else:\n",
        "  print(\"Not a vowel\")"
      ],
      "metadata": {
        "colab": {
          "base_uri": "https://localhost:8080/"
        },
        "id": "WHxjyS4v04_q",
        "outputId": "7eea3258-34ab-46ea-ca4a-e6dcc0712392"
      },
      "execution_count": 41,
      "outputs": [
        {
          "output_type": "stream",
          "name": "stdout",
          "text": [
            "Not a vowel\n"
          ]
        }
      ]
    },
    {
      "cell_type": "code",
      "source": [
        "#check the given character is vowel or not\n",
        "\n",
        "letter = input(\"Enter a letter : \")\n",
        "\n",
        "if (letter in \"aeiou\") or (letter in \"AEIOU\"):\n",
        "  print(\"It is a vowel.\")\n",
        "else:\n",
        "  print(\"Not a vowel.\")"
      ],
      "metadata": {
        "colab": {
          "base_uri": "https://localhost:8080/"
        },
        "id": "FHZ9RWDx4sEL",
        "outputId": "7228bd54-e8e0-4761-ff40-cf00d1b40bba"
      },
      "execution_count": 50,
      "outputs": [
        {
          "output_type": "stream",
          "name": "stdout",
          "text": [
            "Enter a letter : A\n",
            "It is a vowel.\n"
          ]
        }
      ]
    },
    {
      "cell_type": "code",
      "source": [
        "#check if given number is 1 digit, 2 digit upto 5 digit\n",
        "\n",
        "num = input(\"Enter any number having digit upto 5 only : \")\n",
        "\n",
        "if len(num) == 5:\n",
        "  print(\"Five Digit\")\n",
        "elif len(num) == 4:\n",
        "  print(\"Four Digit\")\n",
        "elif len(num) == 3:\n",
        "  print(\"Three Digit\")\n",
        "elif len(num) == 2:\n",
        "  print(\"Two Digit\")\n",
        "elif len(num) == 1:\n",
        "  print(\"One Digit\")\n",
        "else:\n",
        "  print(\"Enter the number upto 5 digits only\")"
      ],
      "metadata": {
        "colab": {
          "base_uri": "https://localhost:8080/"
        },
        "id": "6fL--NGL1gvQ",
        "outputId": "784d5fdd-619b-426a-95fd-e520f4d10a11"
      },
      "execution_count": 47,
      "outputs": [
        {
          "output_type": "stream",
          "name": "stdout",
          "text": [
            "Enter any number having digit upto 5 only : 123456\n",
            "Enter the number upto 5 digits only\n"
          ]
        }
      ]
    },
    {
      "cell_type": "code",
      "source": [
        "#while true\n",
        "\n",
        "n = 1\n",
        "while True:\n",
        "  print(\"Hello world\", n)\n",
        "  n += 1\n",
        "  if n >= 10:\n",
        "    break;"
      ],
      "metadata": {
        "colab": {
          "base_uri": "https://localhost:8080/"
        },
        "id": "KHy7KBC4-EFF",
        "outputId": "43469779-5d65-485e-c620-7b5bb72c5b2f"
      },
      "execution_count": 53,
      "outputs": [
        {
          "output_type": "stream",
          "name": "stdout",
          "text": [
            "Hello world 1\n",
            "Hello world 2\n",
            "Hello world 3\n",
            "Hello world 4\n",
            "Hello world 5\n",
            "Hello world 6\n",
            "Hello world 7\n",
            "Hello world 8\n",
            "Hello world 9\n"
          ]
        }
      ]
    },
    {
      "cell_type": "code",
      "source": [
        "#while true\n",
        "\n",
        "while True:\n",
        "  num1 = int(input(\"Enter value of num1 : \"))\n",
        "  num2 = int(input(\"Enter value of num2 : \"))\n",
        "\n",
        "  print(num1 + num2)\n",
        "  repeat = input(\"Do you want to stop the program (yes/no) : \")\n",
        "  if repeat == \"yes\":\n",
        "    break"
      ],
      "metadata": {
        "colab": {
          "base_uri": "https://localhost:8080/"
        },
        "id": "WLEbDH5t_VhC",
        "outputId": "9fc98e3d-088e-4313-8669-fccd194eaab2"
      },
      "execution_count": 54,
      "outputs": [
        {
          "name": "stdout",
          "output_type": "stream",
          "text": [
            "Enter value of num1 : 12\n",
            "Enter value of num2 : 12\n",
            "24\n",
            "Do you want to stop the program (yes/no) : no\n",
            "Enter value of num1 : 24\n",
            "Enter value of num2 : 24\n",
            "48\n",
            "Do you want to stop the program (yes/no) : yes\n"
          ]
        }
      ]
    },
    {
      "cell_type": "code",
      "source": [
        "#For Loop with Condition\n",
        "\n",
        "for i in range(1, 101):\n",
        "  if i % 8 == 0 and i % 12 == 0:\n",
        "    print(i)"
      ],
      "metadata": {
        "colab": {
          "base_uri": "https://localhost:8080/"
        },
        "id": "gDhBqEuIC1OM",
        "outputId": "d05488dd-5919-463c-c204-99448da34464"
      },
      "execution_count": 55,
      "outputs": [
        {
          "output_type": "stream",
          "name": "stdout",
          "text": [
            "24\n",
            "48\n",
            "72\n",
            "96\n"
          ]
        }
      ]
    },
    {
      "cell_type": "code",
      "source": [
        "#Sum of even number up to 50\n",
        "\n",
        "sum = 0\n",
        "for i in range(1, 51):\n",
        "  if i % 2 == 0:\n",
        "    sum = sum + i\n",
        "print(\"Sum of even numbers up to 50 is\", sum)"
      ],
      "metadata": {
        "colab": {
          "base_uri": "https://localhost:8080/"
        },
        "id": "zXCjUmPVGSo7",
        "outputId": "1b8a65d9-a25c-4931-fef6-3751a16bd9a7"
      },
      "execution_count": 58,
      "outputs": [
        {
          "output_type": "stream",
          "name": "stdout",
          "text": [
            "Sum of even numbers up to 50 is 650\n"
          ]
        }
      ]
    },
    {
      "cell_type": "code",
      "source": [
        "#first 20 numbers along with thier squared numbers\n",
        "\n",
        "for i in range(1, 21):\n",
        "  print(i, i**2)"
      ],
      "metadata": {
        "colab": {
          "base_uri": "https://localhost:8080/"
        },
        "id": "iMOQkujVHLhh",
        "outputId": "265106b8-6c00-4873-9a33-cd9076659e61"
      },
      "execution_count": 59,
      "outputs": [
        {
          "output_type": "stream",
          "name": "stdout",
          "text": [
            "1 1\n",
            "2 4\n",
            "3 9\n",
            "4 16\n",
            "5 25\n",
            "6 36\n",
            "7 49\n",
            "8 64\n",
            "9 81\n",
            "10 100\n",
            "11 121\n",
            "12 144\n",
            "13 169\n",
            "14 196\n",
            "15 225\n",
            "16 256\n",
            "17 289\n",
            "18 324\n",
            "19 361\n",
            "20 400\n"
          ]
        }
      ]
    },
    {
      "cell_type": "code",
      "source": [
        "#sum of first 10 odds numbers using while loop\n",
        "\n",
        "sum = 0\n",
        "n = 0\n",
        "while n <= 20:\n",
        "  if n%2 == 1:\n",
        "    sum = sum + n\n",
        "  n = n + 1\n",
        "print(\"sum of first 10 odds numbers is \", sum)"
      ],
      "metadata": {
        "colab": {
          "base_uri": "https://localhost:8080/"
        },
        "id": "DFY264lXHcbN",
        "outputId": "7066a9a6-e103-43c0-f60d-abda97f046ab"
      },
      "execution_count": 63,
      "outputs": [
        {
          "output_type": "stream",
          "name": "stdout",
          "text": [
            "sum of first 10 odds numbers is  100\n"
          ]
        }
      ]
    },
    {
      "cell_type": "code",
      "source": [
        "a = \"Why fit in, When you are born to stand out!\"\n",
        "\n",
        "print(len(a))   #Length of the above string.\n",
        "\n",
        "#program to upper or lower a string\n",
        "\n",
        "upper = a.upper()\n",
        "lower = a.lower()\n",
        "\n",
        "print(upper)\n",
        "print(lower)\n",
        "\n",
        "#find the index of 'fit in'\n",
        "a.find(\"fit in\")\n",
        "\n",
        "p = a.count(\"o\")\n",
        "p"
      ],
      "metadata": {
        "colab": {
          "base_uri": "https://localhost:8080/"
        },
        "id": "GIK6UQiWH9Fq",
        "outputId": "359791e3-ddd0-4002-a9fa-8bb2245fac7c"
      },
      "execution_count": 74,
      "outputs": [
        {
          "output_type": "stream",
          "name": "stdout",
          "text": [
            "43\n",
            "WHY FIT IN, WHEN YOU ARE BORN TO STAND OUT!\n",
            "why fit in, when you are born to stand out!\n"
          ]
        },
        {
          "output_type": "execute_result",
          "data": {
            "text/plain": [
              "4"
            ]
          },
          "metadata": {},
          "execution_count": 74
        }
      ]
    },
    {
      "cell_type": "code",
      "source": [
        "a = \"Why fit in, When you are born to stand out!\"\n",
        "p = a.count(\"o\")\n",
        "p"
      ],
      "metadata": {
        "colab": {
          "base_uri": "https://localhost:8080/"
        },
        "id": "lTTwhUrTLU6S",
        "outputId": "62e05ef4-184a-4103-e588-ab631b1de212"
      },
      "execution_count": 75,
      "outputs": [
        {
          "output_type": "execute_result",
          "data": {
            "text/plain": [
              "4"
            ]
          },
          "metadata": {},
          "execution_count": 75
        }
      ]
    },
    {
      "cell_type": "code",
      "source": [
        "a = \"Harry Potter and the Goblet of fire\"\n",
        "\n",
        "#Find Length\n",
        "print(len(a))  #including spaces.\n",
        "\n",
        "#Make capitalize first word of given string\n",
        "print(a.capitalize())\n",
        "\n",
        "print(a.upper())  #upper case\n",
        "print(a.lower())  #lower case\n",
        "\n",
        "print(a.casefold())  #first character of every word will be in lower case\n",
        "print(a.index(\"o\"))  #Get index no. of given character.\n",
        "print(a.index(\"o\", 10, 35))   #Get the index no. of given character in given range.\n",
        "print(a.find(\"o\", 10, 35))    #exactly same as index function."
      ],
      "metadata": {
        "colab": {
          "base_uri": "https://localhost:8080/"
        },
        "id": "tICRjfjXJcvH",
        "outputId": "e97d108a-822a-4724-b7e7-3b8042b6fbfd"
      },
      "execution_count": 16,
      "outputs": [
        {
          "output_type": "stream",
          "name": "stdout",
          "text": [
            "35\n",
            "Harry potter and the goblet of fire\n",
            "HARRY POTTER AND THE GOBLET OF FIRE\n",
            "harry potter and the goblet of fire\n",
            "harry potter and the goblet of fire\n",
            "7\n",
            "22\n",
            "22\n"
          ]
        }
      ]
    },
    {
      "cell_type": "code",
      "source": [
        "name = \"Amit\"\n",
        "age = 28\n",
        "b = \"My name is {}. and my age is {}.\"\n",
        "print(b.format(name, age))"
      ],
      "metadata": {
        "colab": {
          "base_uri": "https://localhost:8080/"
        },
        "id": "ic3waHEuM4KH",
        "outputId": "5317e9f7-2f52-4d86-e366-58c597613b82"
      },
      "execution_count": 19,
      "outputs": [
        {
          "output_type": "stream",
          "name": "stdout",
          "text": [
            "My name is Amit. and my age is 28.\n"
          ]
        }
      ]
    },
    {
      "cell_type": "code",
      "source": [
        "#Slicing in String\n",
        "\n",
        "a = \"harry potter and prisoner of azkaban\"\n",
        "print(a[0:5])\n",
        "print(a[:5])\n",
        "print(a[-7:])\n",
        "print(a[:-7])\n",
        "print(a[6:12])\n",
        "print(a[: : -1])"
      ],
      "metadata": {
        "colab": {
          "base_uri": "https://localhost:8080/"
        },
        "id": "q-0iUj_IJl8g",
        "outputId": "a53eac56-11c1-4b23-9550-d712c109a3a8"
      },
      "execution_count": 42,
      "outputs": [
        {
          "output_type": "stream",
          "name": "stdout",
          "text": [
            "harry\n",
            "harry\n",
            "azkaban\n",
            "harry potter and prisoner of \n",
            "potter\n",
            "nabakza fo renosirp dna rettop yrrah\n"
          ]
        }
      ]
    },
    {
      "cell_type": "code",
      "source": [
        "#Slicing in String\n",
        "\n",
        "b = \"123456789\"\n",
        "print(b[ : :2])\n",
        "print(b[ : : ])\n",
        "print(b[0:8:2])\n",
        "print(b[: :-1])"
      ],
      "metadata": {
        "colab": {
          "base_uri": "https://localhost:8080/"
        },
        "id": "vsqCvkYqjgFP",
        "outputId": "0c607a72-153f-4dc7-ba9d-61f6d0ded6b2"
      },
      "execution_count": 41,
      "outputs": [
        {
          "output_type": "stream",
          "name": "stdout",
          "text": [
            "13579\n",
            "123456789\n",
            "1357\n",
            "987654321\n"
          ]
        }
      ]
    },
    {
      "cell_type": "code",
      "source": [
        "a = \"Amit Udugade\"\n",
        "\n",
        "print(a.startswith(\"A\"))    #True\n",
        "print(a.startswith(\"a\"))    #False - Case Sensitive\n",
        "print(a.startswith(\"U\", 5, 12))\n",
        "\n",
        "print(a.endswith(\"e\"))\n",
        "\n",
        "print(a.swapcase())    #aMIT uDUGADE\n"
      ],
      "metadata": {
        "colab": {
          "base_uri": "https://localhost:8080/"
        },
        "id": "MwvElAKxkby5",
        "outputId": "79635f96-72fe-4de6-b2d3-f123cf633c2c"
      },
      "execution_count": 54,
      "outputs": [
        {
          "output_type": "stream",
          "name": "stdout",
          "text": [
            "True\n",
            "False\n",
            "True\n",
            "True\n",
            "aMIT uDUGADE\n"
          ]
        }
      ]
    },
    {
      "cell_type": "code",
      "source": [
        "c = \"        Harry Potter                      \"\n",
        "\n",
        "print(c)\n",
        "print(c.strip())   #Trim the spaces from both the sides.\n",
        "\n",
        "d = \"     @@  Amit udugade *********    \"\n",
        "print(d)\n",
        "print(d.strip(\"*, , @\"))\n",
        "\n"
      ],
      "metadata": {
        "colab": {
          "base_uri": "https://localhost:8080/"
        },
        "id": "gZigkXpmllo2",
        "outputId": "b202ec17-843f-4829-add3-06c7b8ff2c73"
      },
      "execution_count": 62,
      "outputs": [
        {
          "output_type": "stream",
          "name": "stdout",
          "text": [
            "        Harry Potter                      \n",
            "Harry Potter\n",
            "     @@  Amit udugade *********    \n",
            "Amit udugade\n"
          ]
        }
      ]
    },
    {
      "cell_type": "code",
      "source": [
        "a = \"Amit Java\"\n",
        "\n",
        "print(a.replace(\"Java\", \"Python\"))"
      ],
      "metadata": {
        "colab": {
          "base_uri": "https://localhost:8080/"
        },
        "id": "NUH9Zwk6msZ5",
        "outputId": "fa7eaa9b-39ed-4170-ba2c-5d1568750ca7"
      },
      "execution_count": 63,
      "outputs": [
        {
          "output_type": "stream",
          "name": "stdout",
          "text": [
            "Amit Python\n"
          ]
        }
      ]
    },
    {
      "cell_type": "code",
      "source": [
        "#ljust   - adds spaces to the left of the word including that word. the vice a versa rjust.\n",
        "\n",
        "a = \"Amit udugade\"\n",
        "\n",
        "print(a.ljust(20))"
      ],
      "metadata": {
        "colab": {
          "base_uri": "https://localhost:8080/"
        },
        "id": "-2_yK2-_nk5M",
        "outputId": "94291af7-21e3-4a82-9a73-9a8d780e05cb"
      },
      "execution_count": 65,
      "outputs": [
        {
          "output_type": "stream",
          "name": "stdout",
          "text": [
            "Amit udugade        \n"
          ]
        }
      ]
    },
    {
      "cell_type": "code",
      "source": [
        "email = \"amit.udugade@outlook.com\"\n",
        "\n",
        "print(email.split(\"@\"))\n",
        "print(email.split(\".\"))"
      ],
      "metadata": {
        "colab": {
          "base_uri": "https://localhost:8080/"
        },
        "id": "bWcQbIAwn5fF",
        "outputId": "c2e41940-9805-47f1-ba2e-ac9eddaa0b04"
      },
      "execution_count": 71,
      "outputs": [
        {
          "output_type": "stream",
          "name": "stdout",
          "text": [
            "['amit.udugade', 'outlook.com']\n",
            "['amit', 'udugade@outlook', 'com']\n"
          ]
        }
      ]
    },
    {
      "cell_type": "code",
      "source": [
        "a = \"JayShreeRam#Ayodhya#Bharat#Blessed\"\n",
        "\n",
        "print(a.split(\"#\"))"
      ],
      "metadata": {
        "colab": {
          "base_uri": "https://localhost:8080/"
        },
        "id": "eG5Mg62ooaG5",
        "outputId": "2dac2f1d-a6b5-4d60-8ae5-35d0cd30bc0e"
      },
      "execution_count": 73,
      "outputs": [
        {
          "output_type": "stream",
          "name": "stdout",
          "text": [
            "['JayShreeRam', 'Ayodhya', 'Bharat', 'Blessed']\n"
          ]
        }
      ]
    },
    {
      "cell_type": "code",
      "source": [
        "a = \"1234.1\"\n",
        "b = \"1234\"\n",
        "c = \"Amit18\"\n",
        "d = \" \"\n",
        "\n",
        "print(b.isalpha())\n",
        "print(b.isdigit())\n",
        "print(c.isalnum())\n",
        "print(b.isalnum())\n",
        "print(b.isdecimal())\n",
        "print(a.isdecimal())\n",
        "print(d.isspace())"
      ],
      "metadata": {
        "colab": {
          "base_uri": "https://localhost:8080/"
        },
        "id": "AqS_5VeUon5L",
        "outputId": "53ce5017-9c5b-47e4-bf19-1ccd046069d9"
      },
      "execution_count": 84,
      "outputs": [
        {
          "output_type": "stream",
          "name": "stdout",
          "text": [
            "False\n",
            "True\n",
            "True\n",
            "True\n",
            "True\n",
            "False\n",
            "True\n"
          ]
        }
      ]
    },
    {
      "cell_type": "code",
      "source": [
        "a = \"AMIT\"\n",
        "b = \"Amit\"\n",
        "c = \"amit\"\n",
        "d = \"amit18.u\"\n",
        "\n",
        "print(a.isupper())\n",
        "print(b.isupper())\n",
        "print(b.islower())\n",
        "print(c.islower())\n",
        "print(d.islower())\n",
        "print(b.isalpha())\n",
        "print(b.isnumeric())"
      ],
      "metadata": {
        "colab": {
          "base_uri": "https://localhost:8080/"
        },
        "id": "WNPOZxhlpjO8",
        "outputId": "96568557-b805-42d6-e54b-dedde786d85b"
      },
      "execution_count": 92,
      "outputs": [
        {
          "output_type": "stream",
          "name": "stdout",
          "text": [
            "True\n",
            "False\n",
            "False\n",
            "True\n",
            "True\n",
            "True\n",
            "False\n"
          ]
        }
      ]
    },
    {
      "cell_type": "code",
      "source": [],
      "metadata": {
        "id": "9NjShPiiqiXE"
      },
      "execution_count": null,
      "outputs": []
    }
  ]
}