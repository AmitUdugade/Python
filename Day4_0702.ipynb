{
  "nbformat": 4,
  "nbformat_minor": 0,
  "metadata": {
    "colab": {
      "provenance": [],
      "authorship_tag": "ABX9TyN1Dj1A4jYxDCN/AZpKvKWd",
      "include_colab_link": true
    },
    "kernelspec": {
      "name": "python3",
      "display_name": "Python 3"
    },
    "language_info": {
      "name": "python"
    }
  },
  "cells": [
    {
      "cell_type": "markdown",
      "metadata": {
        "id": "view-in-github",
        "colab_type": "text"
      },
      "source": [
        "<a href=\"https://colab.research.google.com/github/AmitUdugade/PythonBasicsWorkspace/blob/main/Day4_0702.ipynb\" target=\"_parent\"><img src=\"https://colab.research.google.com/assets/colab-badge.svg\" alt=\"Open In Colab\"/></a>"
      ]
    },
    {
      "cell_type": "code",
      "execution_count": 3,
      "metadata": {
        "colab": {
          "base_uri": "https://localhost:8080/"
        },
        "id": "iPsR1br9XuoD",
        "outputId": "61e189d4-d02f-4c8a-f5f3-1c5ba2955960"
      },
      "outputs": [
        {
          "output_type": "stream",
          "name": "stdout",
          "text": [
            "Enter First Number : 10\n",
            "Enter operator(+,-,*,/,%) : ^\n",
            "Enter Second Number : 20\n",
            "Invalid Operation!\n"
          ]
        }
      ],
      "source": [
        "#Simple Calculator\n",
        "\n",
        "first = input(\"Enter First Number : \")\n",
        "operator = input(\"Enter operator(+,-,*,/,%) : \")\n",
        "second = input(\"Enter Second Number : \")\n",
        "\n",
        "first = int(first)\n",
        "second = int(second)\n",
        "\n",
        "if operator == \"+\":\n",
        "  print(first + second)\n",
        "elif operator == \"-\":\n",
        "  print(first - second)\n",
        "elif operator == \"*\":\n",
        "  print(first * second)\n",
        "elif operator == \"/\":\n",
        "  print(first / second)\n",
        "elif operator == \"%\":\n",
        "  print(first % second)\n",
        "else:\n",
        "  print(\"Invalid Operation!\")"
      ]
    },
    {
      "cell_type": "code",
      "source": [
        "name = \"Tony Stark\"\n",
        "\n",
        "name.find(('S'))"
      ],
      "metadata": {
        "colab": {
          "base_uri": "https://localhost:8080/"
        },
        "id": "he_eNOVVZlKw",
        "outputId": "2da01871-a8ed-4cd3-e942-d7404d61fb84"
      },
      "execution_count": 4,
      "outputs": [
        {
          "output_type": "execute_result",
          "data": {
            "text/plain": [
              "5"
            ]
          },
          "metadata": {},
          "execution_count": 4
        }
      ]
    },
    {
      "cell_type": "code",
      "source": [
        "name = \"Tony Stark\"\n",
        "\n",
        "name.find(('n'))"
      ],
      "metadata": {
        "colab": {
          "base_uri": "https://localhost:8080/"
        },
        "id": "gyYBNfndZ0xW",
        "outputId": "b41f9356-7b30-4db3-c3d9-5949a1a5c449"
      },
      "execution_count": 5,
      "outputs": [
        {
          "output_type": "execute_result",
          "data": {
            "text/plain": [
              "2"
            ]
          },
          "metadata": {},
          "execution_count": 5
        }
      ]
    },
    {
      "cell_type": "code",
      "source": [
        "name = \"Tony Stark\"\n",
        "\n",
        "name.find(('Stark'))"
      ],
      "metadata": {
        "colab": {
          "base_uri": "https://localhost:8080/"
        },
        "id": "ZGxPtb2FZ5u1",
        "outputId": "1e8548f3-4c6c-4b11-a58b-b06f0ecd7d85"
      },
      "execution_count": 6,
      "outputs": [
        {
          "output_type": "execute_result",
          "data": {
            "text/plain": [
              "5"
            ]
          },
          "metadata": {},
          "execution_count": 6
        }
      ]
    },
    {
      "cell_type": "code",
      "source": [
        "name = \"Tony Stark\"\n",
        "\n",
        "print(\"T\" in name)  #Gives output in boolean format. and it is case sensitive"
      ],
      "metadata": {
        "colab": {
          "base_uri": "https://localhost:8080/"
        },
        "id": "oY_QEfCEZ7i8",
        "outputId": "e5e2821c-c85e-457a-a1f5-e377174d06db"
      },
      "execution_count": 9,
      "outputs": [
        {
          "output_type": "stream",
          "name": "stdout",
          "text": [
            "False\n"
          ]
        }
      ]
    },
    {
      "cell_type": "code",
      "source": [
        "name = \"Tony Stark\"\n",
        "\n",
        "print(\"TONY\" in name)  #Gives output in boolean format. and it is case sensitive"
      ],
      "metadata": {
        "colab": {
          "base_uri": "https://localhost:8080/"
        },
        "id": "9TwEJ1_TaHwv",
        "outputId": "be81eb68-fca1-4fdc-a4c0-d36a43385f4c"
      },
      "execution_count": 11,
      "outputs": [
        {
          "output_type": "stream",
          "name": "stdout",
          "text": [
            "False\n"
          ]
        }
      ]
    },
    {
      "cell_type": "code",
      "source": [
        "#Operator Precedence - BODMAS\n",
        "\n",
        "result = 2 + 3 * 5\n",
        "result\n"
      ],
      "metadata": {
        "colab": {
          "base_uri": "https://localhost:8080/"
        },
        "id": "WD_n_qEVaeWD",
        "outputId": "20fe8856-ceff-4c38-a8e7-86401878ebe2"
      },
      "execution_count": 13,
      "outputs": [
        {
          "output_type": "execute_result",
          "data": {
            "text/plain": [
              "17"
            ]
          },
          "metadata": {},
          "execution_count": 13
        }
      ]
    },
    {
      "cell_type": "code",
      "source": [
        "#Operator Precedence\n",
        "\n",
        "result = (2 + 3) * 5\n",
        "result"
      ],
      "metadata": {
        "colab": {
          "base_uri": "https://localhost:8080/"
        },
        "id": "ktmQA4hmauO_",
        "outputId": "290d08af-9a6f-4920-e3aa-0c0379d34aaa"
      },
      "execution_count": 14,
      "outputs": [
        {
          "output_type": "execute_result",
          "data": {
            "text/plain": [
              "25"
            ]
          },
          "metadata": {},
          "execution_count": 14
        }
      ]
    },
    {
      "cell_type": "code",
      "source": [
        "#Operator Precedence\n",
        "\n",
        "result = 2 + 3 / 5\n",
        "result"
      ],
      "metadata": {
        "colab": {
          "base_uri": "https://localhost:8080/"
        },
        "id": "SDx7PaVVa2rp",
        "outputId": "ede0f192-7c60-4342-e27f-c03626ec5af1"
      },
      "execution_count": 15,
      "outputs": [
        {
          "output_type": "execute_result",
          "data": {
            "text/plain": [
              "2.6"
            ]
          },
          "metadata": {},
          "execution_count": 15
        }
      ]
    },
    {
      "cell_type": "code",
      "source": [
        "#Comparison Operator\n",
        "\n",
        "print(3 > 2)"
      ],
      "metadata": {
        "colab": {
          "base_uri": "https://localhost:8080/"
        },
        "id": "_db2GltCa5lw",
        "outputId": "5f5c674f-7455-4293-88da-7910ff4ec0e6"
      },
      "execution_count": 16,
      "outputs": [
        {
          "output_type": "stream",
          "name": "stdout",
          "text": [
            "True\n"
          ]
        }
      ]
    },
    {
      "cell_type": "code",
      "source": [
        "#Comparison Operator\n",
        "\n",
        "print(3 != 2)"
      ],
      "metadata": {
        "colab": {
          "base_uri": "https://localhost:8080/"
        },
        "id": "Tt6F7MOQbNOp",
        "outputId": "7cc124dd-fba8-4caa-ae20-dd3f6d14d89e"
      },
      "execution_count": 17,
      "outputs": [
        {
          "output_type": "stream",
          "name": "stdout",
          "text": [
            "True\n"
          ]
        }
      ]
    },
    {
      "cell_type": "code",
      "source": [
        "#Logical Operator - or\n",
        "\n",
        "print(2 > 3 or 2 < 3) #one of the condition must be true"
      ],
      "metadata": {
        "colab": {
          "base_uri": "https://localhost:8080/"
        },
        "id": "GVHL3imDbS33",
        "outputId": "041d8852-a8d8-4815-8320-ae3defe852eb"
      },
      "execution_count": 18,
      "outputs": [
        {
          "output_type": "stream",
          "name": "stdout",
          "text": [
            "True\n"
          ]
        }
      ]
    },
    {
      "cell_type": "code",
      "source": [
        "#Logical Operator - and\n",
        "\n",
        "print(2 > 3 and 2 < 3) #both conditions must be true"
      ],
      "metadata": {
        "colab": {
          "base_uri": "https://localhost:8080/"
        },
        "id": "ZyFVGDGwbfW4",
        "outputId": "cc99c1d2-3823-49d4-be83-a5e3710823ee"
      },
      "execution_count": 20,
      "outputs": [
        {
          "output_type": "stream",
          "name": "stdout",
          "text": [
            "False\n"
          ]
        }
      ]
    },
    {
      "cell_type": "code",
      "source": [
        "#Logical Operator - not\n",
        "\n",
        "print(not 2 > 3)"
      ],
      "metadata": {
        "colab": {
          "base_uri": "https://localhost:8080/"
        },
        "id": "w4KMbpf-bp_Y",
        "outputId": "5ea2edd3-97cc-4dca-9746-3f843fd5d8e0"
      },
      "execution_count": 22,
      "outputs": [
        {
          "output_type": "stream",
          "name": "stdout",
          "text": [
            "True\n"
          ]
        }
      ]
    },
    {
      "cell_type": "code",
      "source": [
        "#range and for loop\n",
        "#range(5)  0, 1, 2, 3, 4\n",
        "\n",
        "for item in range(5):\n",
        "  print (item + 1)"
      ],
      "metadata": {
        "colab": {
          "base_uri": "https://localhost:8080/"
        },
        "id": "gB_M0EO2bzXi",
        "outputId": "4332b0a3-25db-4c63-e08d-7092f1865ffe"
      },
      "execution_count": 27,
      "outputs": [
        {
          "output_type": "stream",
          "name": "stdout",
          "text": [
            "1\n",
            "2\n",
            "3\n",
            "4\n",
            "5\n"
          ]
        }
      ]
    },
    {
      "cell_type": "code",
      "source": [
        "#while loop\n",
        "\n",
        "i = 1\n",
        "while i <= 5:\n",
        "  print(i)\n",
        "  i += 1"
      ],
      "metadata": {
        "colab": {
          "base_uri": "https://localhost:8080/"
        },
        "id": "8FkEzuPRc3QG",
        "outputId": "90df25b0-42b7-48c2-fd97-fda6c95e0356"
      },
      "execution_count": 29,
      "outputs": [
        {
          "output_type": "stream",
          "name": "stdout",
          "text": [
            "1\n",
            "2\n",
            "3\n",
            "4\n",
            "5\n"
          ]
        }
      ]
    },
    {
      "cell_type": "code",
      "source": [
        "#pattern Programming\n",
        "\n",
        "i = 1\n",
        "while i <= 5:\n",
        "  print(i * \"*\")\n",
        "  i += 1"
      ],
      "metadata": {
        "colab": {
          "base_uri": "https://localhost:8080/"
        },
        "id": "IwVIHs0Pdhfy",
        "outputId": "14fe251f-f3de-421e-b0a5-68e14ba0f8ff"
      },
      "execution_count": 30,
      "outputs": [
        {
          "output_type": "stream",
          "name": "stdout",
          "text": [
            "*\n",
            "**\n",
            "***\n",
            "****\n",
            "*****\n"
          ]
        }
      ]
    },
    {
      "cell_type": "code",
      "source": [
        "#LIST [] - List is denoted by []\n",
        "\n",
        "marks = [95, 96, 98, 97]\n",
        "marks"
      ],
      "metadata": {
        "colab": {
          "base_uri": "https://localhost:8080/"
        },
        "id": "cn-VPviHdvtd",
        "outputId": "502c7a86-c993-475a-c815-3cbc32bab70d"
      },
      "execution_count": 31,
      "outputs": [
        {
          "output_type": "execute_result",
          "data": {
            "text/plain": [
              "[95, 96, 98, 97]"
            ]
          },
          "metadata": {},
          "execution_count": 31
        }
      ]
    },
    {
      "cell_type": "code",
      "source": [
        "#LIST [] - List is denoted by []\n",
        "\n",
        "marks = [95, 96, 98, 97]\n",
        "marks[1] #value at given index."
      ],
      "metadata": {
        "colab": {
          "base_uri": "https://localhost:8080/"
        },
        "id": "QALl_RiLeeVF",
        "outputId": "d021bdb6-7c56-4157-99a1-e01b10e7d975"
      },
      "execution_count": 32,
      "outputs": [
        {
          "output_type": "execute_result",
          "data": {
            "text/plain": [
              "96"
            ]
          },
          "metadata": {},
          "execution_count": 32
        }
      ]
    },
    {
      "cell_type": "code",
      "source": [
        "#LIST [] - List is denoted by []\n",
        "\n",
        "marks = [95, 96, 98, 97]\n",
        "marks[-2] #value at given index but it will start from end part of the list as it has '-' sign."
      ],
      "metadata": {
        "colab": {
          "base_uri": "https://localhost:8080/"
        },
        "id": "2cimi2U_ejRT",
        "outputId": "8cd73e84-6a5b-468f-d28b-e04795e82458"
      },
      "execution_count": 36,
      "outputs": [
        {
          "output_type": "execute_result",
          "data": {
            "text/plain": [
              "98"
            ]
          },
          "metadata": {},
          "execution_count": 36
        }
      ]
    },
    {
      "cell_type": "code",
      "source": [
        "#LIST [] - List is denoted by []\n",
        "\n",
        "marks = [95, 96, 98, 97]\n",
        "marks[0:2]  #values at given index range"
      ],
      "metadata": {
        "colab": {
          "base_uri": "https://localhost:8080/"
        },
        "id": "o2LOygVyet4x",
        "outputId": "a6bea5c5-2b85-4612-97b4-e0719dde3b2d"
      },
      "execution_count": 37,
      "outputs": [
        {
          "output_type": "execute_result",
          "data": {
            "text/plain": [
              "[95, 96]"
            ]
          },
          "metadata": {},
          "execution_count": 37
        }
      ]
    },
    {
      "cell_type": "code",
      "source": [
        "#LIST [] - List is denoted by []\n",
        "\n",
        "marks = [95, 96, 98, 97]\n",
        "marks[1:2]  #values at given index range"
      ],
      "metadata": {
        "colab": {
          "base_uri": "https://localhost:8080/"
        },
        "id": "nesQk3opfBFi",
        "outputId": "e23b5d69-841d-47ce-a4e2-a06e099e138e"
      },
      "execution_count": 38,
      "outputs": [
        {
          "output_type": "execute_result",
          "data": {
            "text/plain": [
              "[96]"
            ]
          },
          "metadata": {},
          "execution_count": 38
        }
      ]
    },
    {
      "cell_type": "code",
      "source": [
        "#LIST [] - List is denoted by []\n",
        "\n",
        "marks = [95, 96, 98, 97]\n",
        "marks[1:3]  #values at given index range"
      ],
      "metadata": {
        "colab": {
          "base_uri": "https://localhost:8080/"
        },
        "id": "7_iBPAvTfLSG",
        "outputId": "3b63dba7-4e4d-464c-dafe-690c313aa494"
      },
      "execution_count": 39,
      "outputs": [
        {
          "output_type": "execute_result",
          "data": {
            "text/plain": [
              "[96, 98]"
            ]
          },
          "metadata": {},
          "execution_count": 39
        }
      ]
    },
    {
      "cell_type": "code",
      "source": [
        "#LIST [] - List is denoted by []\n",
        "\n",
        "marks = [95, 96, 98, 97]\n",
        "#by using for loop'\n",
        "\n",
        "for mark in marks:\n",
        "  print(mark)"
      ],
      "metadata": {
        "colab": {
          "base_uri": "https://localhost:8080/"
        },
        "id": "x0xNSRnWfPpA",
        "outputId": "5bdab8d4-aca4-4271-83e1-96f0cd5af736"
      },
      "execution_count": 40,
      "outputs": [
        {
          "output_type": "stream",
          "name": "stdout",
          "text": [
            "95\n",
            "96\n",
            "98\n",
            "97\n"
          ]
        }
      ]
    },
    {
      "cell_type": "code",
      "source": [
        "#LIST [] - List is denoted by []\n",
        "\n",
        "marks = [95, 96, 98, 97]\n",
        "#Append Operation\n",
        "\n",
        "marks.append(100)\n",
        "marks"
      ],
      "metadata": {
        "colab": {
          "base_uri": "https://localhost:8080/"
        },
        "id": "jUYBp-bTfbV_",
        "outputId": "ed21fcdb-8daf-48db-b0b1-da3074929d4c"
      },
      "execution_count": 42,
      "outputs": [
        {
          "output_type": "execute_result",
          "data": {
            "text/plain": [
              "[95, 96, 98, 97, 100]"
            ]
          },
          "metadata": {},
          "execution_count": 42
        }
      ]
    },
    {
      "cell_type": "code",
      "source": [
        "#LIST [] - List is denoted by []\n",
        "\n",
        "marks = [95, 96, 98, 97]\n",
        "#Insert Operation in given index\n",
        "\n",
        "marks.insert(1,101) #at index 1 it will add 101 value.\n",
        "marks"
      ],
      "metadata": {
        "colab": {
          "base_uri": "https://localhost:8080/"
        },
        "id": "gpp7nPVzfwYh",
        "outputId": "76086ca4-61d0-4848-850d-48e62bde2ec6"
      },
      "execution_count": 45,
      "outputs": [
        {
          "output_type": "execute_result",
          "data": {
            "text/plain": [
              "[95, 101, 96, 98, 97]"
            ]
          },
          "metadata": {},
          "execution_count": 45
        }
      ]
    },
    {
      "cell_type": "code",
      "source": [
        "print(len(marks)) #finds length of the list."
      ],
      "metadata": {
        "colab": {
          "base_uri": "https://localhost:8080/"
        },
        "id": "Kab5EZVZgLBr",
        "outputId": "3e444080-690a-4ca0-cec0-44a75ec9a063"
      },
      "execution_count": 47,
      "outputs": [
        {
          "output_type": "stream",
          "name": "stdout",
          "text": [
            "5\n"
          ]
        }
      ]
    },
    {
      "cell_type": "code",
      "source": [
        "i = 0\n",
        "while i < len(marks):\n",
        "  print(marks[i])\n",
        "  i = i + 1"
      ],
      "metadata": {
        "colab": {
          "base_uri": "https://localhost:8080/"
        },
        "id": "O-X51SdogPX5",
        "outputId": "f7c86054-abb2-4a34-d204-734388f36693"
      },
      "execution_count": 52,
      "outputs": [
        {
          "output_type": "stream",
          "name": "stdout",
          "text": [
            "95\n",
            "101\n",
            "96\n",
            "98\n",
            "97\n",
            "10\n"
          ]
        }
      ]
    },
    {
      "cell_type": "code",
      "source": [
        "marks.clear() #to clear the list. it will make list empty."
      ],
      "metadata": {
        "id": "Ac2bgg-3g02g"
      },
      "execution_count": 50,
      "outputs": []
    },
    {
      "cell_type": "code",
      "source": [
        "students = [\"Amit\", \"Sumit\", \"Ram\", \"Shyam\", \"Kishan\"]\n",
        "\n",
        "for student in students:\n",
        "  if student == \"Sumit\":\n",
        "    break;   #it will break the loop from given entry/name and will print the rest.\n",
        "  print(student)"
      ],
      "metadata": {
        "colab": {
          "base_uri": "https://localhost:8080/"
        },
        "id": "AiwTV-rwg95T",
        "outputId": "d52850ee-8d96-433c-8b06-b8f0cbc502c4"
      },
      "execution_count": 57,
      "outputs": [
        {
          "output_type": "stream",
          "name": "stdout",
          "text": [
            "Amit\n"
          ]
        }
      ]
    },
    {
      "cell_type": "code",
      "source": [
        "students = [\"Amit\", \"Sumit\", \"Ram\", \"Shyam\", \"Kishan\"]\n",
        "\n",
        "for student in students:\n",
        "  if student == \"Sumit\":\n",
        "    continue;   #it will skip the given entry/name and will print the rest.\n",
        "  print(student)"
      ],
      "metadata": {
        "colab": {
          "base_uri": "https://localhost:8080/"
        },
        "id": "U6YHKDHmg_lb",
        "outputId": "43e7b205-70ba-49d3-85ac-c77038a08934"
      },
      "execution_count": 58,
      "outputs": [
        {
          "output_type": "stream",
          "name": "stdout",
          "text": [
            "Amit\n",
            "Ram\n",
            "Shyam\n",
            "Kishan\n"
          ]
        }
      ]
    },
    {
      "cell_type": "code",
      "source": [
        "students = [\"Amit\", \"Sumit\", \"Ram\", \"Shyam\", \"Kishan\"]\n",
        "\n",
        "for student in students:\n",
        "  if student == \"Sumit\" or student == \"Amit\":\n",
        "    continue;   #it will skip the given entry/name and will print the rest.\n",
        "  print(student)"
      ],
      "metadata": {
        "colab": {
          "base_uri": "https://localhost:8080/"
        },
        "id": "2S_Q4Q0xiE6A",
        "outputId": "15aa8824-be35-43ae-b1d5-743f10222ab8"
      },
      "execution_count": 60,
      "outputs": [
        {
          "output_type": "stream",
          "name": "stdout",
          "text": [
            "Ram\n",
            "Shyam\n",
            "Kishan\n"
          ]
        }
      ]
    },
    {
      "cell_type": "code",
      "source": [
        "#Tuple - Denoted by ()\n",
        "#Immutable - can't be modify.\n",
        "\n",
        "marks = (95, 96, 98, 97, 97)\n",
        "marks.count(97)   #basically it will count how many times the given value is present in a tuple."
      ],
      "metadata": {
        "colab": {
          "base_uri": "https://localhost:8080/"
        },
        "id": "u4tFHAmwiXBd",
        "outputId": "960c588c-7a22-4157-c9e1-99f58273da40"
      },
      "execution_count": 63,
      "outputs": [
        {
          "output_type": "execute_result",
          "data": {
            "text/plain": [
              "2"
            ]
          },
          "metadata": {},
          "execution_count": 63
        }
      ]
    },
    {
      "cell_type": "code",
      "source": [
        "#Tuple - Denoted by ()\n",
        "#Immutable - can't be modify.\n",
        "\n",
        "marks = (95, 96, 98, 97, 97)\n",
        "marks.index(97)   #basically it will return the index of given value which is present in a tuple."
      ],
      "metadata": {
        "colab": {
          "base_uri": "https://localhost:8080/"
        },
        "id": "KrUqiKbUiuV5",
        "outputId": "fa5905a7-979b-475f-b0e7-9e2ed298ef2f"
      },
      "execution_count": 66,
      "outputs": [
        {
          "output_type": "execute_result",
          "data": {
            "text/plain": [
              "3"
            ]
          },
          "metadata": {},
          "execution_count": 66
        }
      ]
    },
    {
      "cell_type": "code",
      "source": [
        "#Set - Denoted by {}\n",
        "#Duplicates not allowed. and keep it in sorted format.\n",
        "\n",
        "marks = {95, 96, 98, 97, 97} #no duplicates + sorted format.\n",
        "marks"
      ],
      "metadata": {
        "colab": {
          "base_uri": "https://localhost:8080/"
        },
        "id": "QZaiKXYLjJV1",
        "outputId": "380de414-ae9d-4d16-b827-552748e5d7e3"
      },
      "execution_count": 69,
      "outputs": [
        {
          "output_type": "execute_result",
          "data": {
            "text/plain": [
              "{95, 96, 97, 98}"
            ]
          },
          "metadata": {},
          "execution_count": 69
        }
      ]
    },
    {
      "cell_type": "code",
      "source": [
        "#Set - Denoted by {}\n",
        "#Duplicates not allowed. and keep it in sorted format.\n",
        "\n",
        "marks = {95, 96, 98, 97, 97} #no duplicates + sorted format.\n",
        "\n",
        "marks.add(100)\n",
        "marks"
      ],
      "metadata": {
        "colab": {
          "base_uri": "https://localhost:8080/"
        },
        "id": "Za-wVGXIjnB6",
        "outputId": "f3d70d6f-6b27-4592-d06c-befc02513fcb"
      },
      "execution_count": 76,
      "outputs": [
        {
          "output_type": "execute_result",
          "data": {
            "text/plain": [
              "{95, 96, 97, 98, 100}"
            ]
          },
          "metadata": {},
          "execution_count": 76
        }
      ]
    },
    {
      "cell_type": "code",
      "source": [
        "#Set - Denoted by {}\n",
        "#Duplicates not allowed. and keep it in sorted format.\n",
        "\n",
        "marks1 = {95, 96, 98, 97, 97}\n",
        "marks2 = {95, 10, 20, 30, 98}\n",
        "marks1.difference(marks2) #will give the difference or uncommon values.\n"
      ],
      "metadata": {
        "colab": {
          "base_uri": "https://localhost:8080/"
        },
        "id": "CGc8lOw4kIg4",
        "outputId": "901832eb-8479-45b5-c610-c2707734308f"
      },
      "execution_count": 78,
      "outputs": [
        {
          "output_type": "execute_result",
          "data": {
            "text/plain": [
              "{96, 97}"
            ]
          },
          "metadata": {},
          "execution_count": 78
        }
      ]
    },
    {
      "cell_type": "code",
      "source": [
        "#Set - Denoted by {}\n",
        "#Duplicates not allowed. and keep it in sorted format.\n",
        "\n",
        "marks1 = {95, 96, 98, 97, 97}\n",
        "marks2 = {95, 10, 20, 30, 98}\n",
        "marks1.difference_update(marks2) #will give the difference or uncommon values. and update the marks1 set permanent.\n"
      ],
      "metadata": {
        "id": "a-qq2TTnk_Rq"
      },
      "execution_count": 85,
      "outputs": []
    },
    {
      "cell_type": "code",
      "source": [
        "marks1"
      ],
      "metadata": {
        "colab": {
          "base_uri": "https://localhost:8080/"
        },
        "id": "EIcq-I0YlhW0",
        "outputId": "06f1fce0-de90-4ed1-df11-1df4193d0f2a"
      },
      "execution_count": 86,
      "outputs": [
        {
          "output_type": "execute_result",
          "data": {
            "text/plain": [
              "{96, 97}"
            ]
          },
          "metadata": {},
          "execution_count": 86
        }
      ]
    },
    {
      "cell_type": "code",
      "source": [
        "#Dictionary Denoted by {}\n",
        "#pair with the value\n",
        "\n",
        "marks = {\"English\" : 95, \"Chemistry\" : 96, \"Maths\" : 100}\n",
        "marks"
      ],
      "metadata": {
        "colab": {
          "base_uri": "https://localhost:8080/"
        },
        "id": "eeSitbfrlk17",
        "outputId": "f8b86132-e0aa-42c9-bb57-6f48c842e69d"
      },
      "execution_count": 87,
      "outputs": [
        {
          "output_type": "execute_result",
          "data": {
            "text/plain": [
              "{'English': 95, 'Chemistry': 96, 'Maths': 100}"
            ]
          },
          "metadata": {},
          "execution_count": 87
        }
      ]
    },
    {
      "cell_type": "code",
      "source": [
        "#Dictionary Denoted by {}\n",
        "#pair with the value\n",
        "\n",
        "marks = {\"English\" : 95, \"Chemistry\" : 96, \"Maths\" : 100}\n",
        "marks['English']"
      ],
      "metadata": {
        "colab": {
          "base_uri": "https://localhost:8080/"
        },
        "id": "CMWpRKWEm7aI",
        "outputId": "62d94247-6f7a-46e3-a819-40bfd4963e20"
      },
      "execution_count": 88,
      "outputs": [
        {
          "output_type": "execute_result",
          "data": {
            "text/plain": [
              "95"
            ]
          },
          "metadata": {},
          "execution_count": 88
        }
      ]
    },
    {
      "cell_type": "code",
      "source": [
        "#Dictionary Denoted by {}\n",
        "#pair with the value\n",
        "\n",
        "marks = {\"English\" : 95, \"Chemistry\" : 96, \"Maths\" : 100}\n",
        "marks[\"English\"] = 97   #update theb particular subject's mark.\n",
        "marks"
      ],
      "metadata": {
        "colab": {
          "base_uri": "https://localhost:8080/"
        },
        "id": "NoQrFEZ_nGR5",
        "outputId": "27a3cb2f-190c-4061-e07a-0f61deb55c91"
      },
      "execution_count": 89,
      "outputs": [
        {
          "output_type": "execute_result",
          "data": {
            "text/plain": [
              "{'English': 97, 'Chemistry': 96, 'Maths': 100}"
            ]
          },
          "metadata": {},
          "execution_count": 89
        }
      ]
    },
    {
      "cell_type": "code",
      "source": [
        "#Dictionary Denoted by {}\n",
        "#pair with the value\n",
        "\n",
        "marks = {\"English\" : 95, \"Chemistry\" : 96, \"Maths\" : 100}\n",
        "marks[\"Physics\"] = 95   #Append Operation.\n",
        "marks"
      ],
      "metadata": {
        "colab": {
          "base_uri": "https://localhost:8080/"
        },
        "id": "fh7tXeQOnRoM",
        "outputId": "8fb53d7f-337c-43ae-f058-1e50ad9d7bf0"
      },
      "execution_count": 98,
      "outputs": [
        {
          "output_type": "execute_result",
          "data": {
            "text/plain": [
              "{'English': 95, 'Chemistry': 96, 'Maths': 100, 'Physics': 95}"
            ]
          },
          "metadata": {},
          "execution_count": 98
        }
      ]
    },
    {
      "cell_type": "code",
      "source": [
        "#Functions\n",
        "# 1) In-Built Functions.   eg. print()\n",
        "# 2) Module Functions.  eg.\n",
        "import math\n",
        "print(dir(math))"
      ],
      "metadata": {
        "colab": {
          "base_uri": "https://localhost:8080/"
        },
        "id": "nRo1_rtenvQO",
        "outputId": "355345ca-916a-4d8c-9084-6825b61ee336"
      },
      "execution_count": 99,
      "outputs": [
        {
          "output_type": "stream",
          "name": "stdout",
          "text": [
            "['__doc__', '__loader__', '__name__', '__package__', '__spec__', 'acos', 'acosh', 'asin', 'asinh', 'atan', 'atan2', 'atanh', 'ceil', 'comb', 'copysign', 'cos', 'cosh', 'degrees', 'dist', 'e', 'erf', 'erfc', 'exp', 'expm1', 'fabs', 'factorial', 'floor', 'fmod', 'frexp', 'fsum', 'gamma', 'gcd', 'hypot', 'inf', 'isclose', 'isfinite', 'isinf', 'isnan', 'isqrt', 'lcm', 'ldexp', 'lgamma', 'log', 'log10', 'log1p', 'log2', 'modf', 'nan', 'nextafter', 'perm', 'pi', 'pow', 'prod', 'radians', 'remainder', 'sin', 'sinh', 'sqrt', 'tan', 'tanh', 'tau', 'trunc', 'ulp']\n"
          ]
        }
      ]
    },
    {
      "cell_type": "code",
      "source": [
        "#Functions\n",
        "# 1) In-Built Functions.   eg. print()\n",
        "# 2) Module Functions.  eg.\n",
        "from math import sqrt  #import a specific function from math module.\n",
        "\n",
        "from math import * #Import all functions from math module.\n"
      ],
      "metadata": {
        "id": "KE0axEDlo4q_"
      },
      "execution_count": null,
      "outputs": []
    },
    {
      "cell_type": "code",
      "source": [
        "#Functions\n",
        "# 1) In-Built Functions.   eg. print()\n",
        "# 2) Module Functions.\n",
        "# 3) User Defined Functions.\n",
        "\n",
        "#def function_name(parameter):\n",
        "#def means defination\n",
        "#eg.\n",
        "\n",
        "def print_sum(first, second):\n",
        "  print(first + second)\n",
        "\n",
        "print_sum(20, 20)"
      ],
      "metadata": {
        "colab": {
          "base_uri": "https://localhost:8080/"
        },
        "id": "bqPzmLPdpXwF",
        "outputId": "bf08d827-6bad-49f5-c437-ad01d6ea0166"
      },
      "execution_count": 102,
      "outputs": [
        {
          "output_type": "stream",
          "name": "stdout",
          "text": [
            "40\n"
          ]
        }
      ]
    },
    {
      "cell_type": "code",
      "source": [
        "#Functions\n",
        "# 1) In-Built Functions.   eg. print()\n",
        "# 2) Module Functions.\n",
        "# 3) User Defined Functions.\n",
        "\n",
        "def print_sum(first, second = 4):    #adding by default value if not given.\n",
        "  print(first + second)\n",
        "\n",
        "print_sum(20)"
      ],
      "metadata": {
        "colab": {
          "base_uri": "https://localhost:8080/"
        },
        "id": "PPPQLerKpu6k",
        "outputId": "dc04d427-52be-4974-cdbe-883549b721bc"
      },
      "execution_count": 103,
      "outputs": [
        {
          "output_type": "stream",
          "name": "stdout",
          "text": [
            "24\n"
          ]
        }
      ]
    },
    {
      "cell_type": "code",
      "source": [],
      "metadata": {
        "id": "OBn4BzgSqGLi"
      },
      "execution_count": null,
      "outputs": []
    }
  ]
}