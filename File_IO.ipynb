{
  "nbformat": 4,
  "nbformat_minor": 0,
  "metadata": {
    "colab": {
      "provenance": [],
      "authorship_tag": "ABX9TyPb9dHFgHRSYGG0QldDtNoR",
      "include_colab_link": true
    },
    "kernelspec": {
      "name": "python3",
      "display_name": "Python 3"
    },
    "language_info": {
      "name": "python"
    }
  },
  "cells": [
    {
      "cell_type": "markdown",
      "metadata": {
        "id": "view-in-github",
        "colab_type": "text"
      },
      "source": [
        "<a href=\"https://colab.research.google.com/github/AmitUdugade/PythonBasicsWorkspace/blob/main/File_IO.ipynb\" target=\"_parent\"><img src=\"https://colab.research.google.com/assets/colab-badge.svg\" alt=\"Open In Colab\"/></a>"
      ]
    },
    {
      "cell_type": "code",
      "execution_count": 3,
      "metadata": {
        "colab": {
          "base_uri": "https://localhost:8080/"
        },
        "id": "rGyU3OblVE-r",
        "outputId": "00bd803a-4816-481f-8e84-8c5489042df7"
      },
      "outputs": [
        {
          "output_type": "stream",
          "name": "stdout",
          "text": [
            "Hello World,\n",
            "This is text file.\n"
          ]
        }
      ],
      "source": [
        "#Opening a file.\n",
        "\n",
        "f = open(\"myfile.txt\", \"r\")   # r-read, w-write, a-append, x-create, b-binary files(images, pdf etc.)\n",
        "\n",
        "text = f.read()   #to read the file.\n",
        "print(text)\n",
        "f.close()"
      ]
    },
    {
      "cell_type": "code",
      "source": [
        "file = open(\"myfile.txt\", \"w\")\n",
        "\n",
        "addtext = file.write(\"Hello World written in write mode. \\n\")    #write operation\n",
        "file.close()       #it is important to close the file after you are done with it.\n",
        "\n",
        "file = open(\"myfile.txt\", \"r\")\n",
        "text = file.read()\n",
        "print(text)\n",
        "file.close()"
      ],
      "metadata": {
        "colab": {
          "base_uri": "https://localhost:8080/"
        },
        "id": "b9df3dwGVkh0",
        "outputId": "df42a0eb-3c5c-44d2-d98e-e0507ee93579"
      },
      "execution_count": 10,
      "outputs": [
        {
          "output_type": "stream",
          "name": "stdout",
          "text": [
            "Hello World written in write mode. \n",
            "\n"
          ]
        }
      ]
    },
    {
      "cell_type": "code",
      "source": [
        "file = open(\"myfile.txt\", \"a\")\n",
        "\n",
        "addtxt = file.write(\"This is second line added by using append mode.\")    #append operation\n",
        "file.close()\n",
        "\n",
        "file = open(\"myfile.txt\", \"r\")\n",
        "text = file.read()\n",
        "print(text)\n",
        "file.close()"
      ],
      "metadata": {
        "colab": {
          "base_uri": "https://localhost:8080/"
        },
        "id": "6klUOINCWIcC",
        "outputId": "e4a47d29-2a04-4ab3-a147-fc19ddd2ac5f"
      },
      "execution_count": 11,
      "outputs": [
        {
          "output_type": "stream",
          "name": "stdout",
          "text": [
            "Hello World written in write mode. \n",
            "This is second line added by using append mode.\n"
          ]
        }
      ]
    },
    {
      "cell_type": "code",
      "source": [],
      "metadata": {
        "id": "YcUKVZCAXXOr"
      },
      "execution_count": null,
      "outputs": []
    }
  ]
}