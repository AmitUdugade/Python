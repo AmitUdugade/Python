{
  "nbformat": 4,
  "nbformat_minor": 0,
  "metadata": {
    "colab": {
      "provenance": [],
      "authorship_tag": "ABX9TyPMIO7iZAoLA3DpcOisxHTb",
      "include_colab_link": true
    },
    "kernelspec": {
      "name": "python3",
      "display_name": "Python 3"
    },
    "language_info": {
      "name": "python"
    }
  },
  "cells": [
    {
      "cell_type": "markdown",
      "metadata": {
        "id": "view-in-github",
        "colab_type": "text"
      },
      "source": [
        "<a href=\"https://colab.research.google.com/github/AmitUdugade/PythonBasicsWorkspace/blob/main/File_IO.ipynb\" target=\"_parent\"><img src=\"https://colab.research.google.com/assets/colab-badge.svg\" alt=\"Open In Colab\"/></a>"
      ]
    },
    {
      "cell_type": "code",
      "execution_count": 3,
      "metadata": {
        "colab": {
          "base_uri": "https://localhost:8080/"
        },
        "id": "rGyU3OblVE-r",
        "outputId": "00bd803a-4816-481f-8e84-8c5489042df7"
      },
      "outputs": [
        {
          "output_type": "stream",
          "name": "stdout",
          "text": [
            "Hello World,\n",
            "This is text file.\n"
          ]
        }
      ],
      "source": [
        "#Opening a file.\n",
        "\n",
        "f = open(\"myfile.txt\", \"r\")   # r-read, w-write, a-append, x-create, b-binary files(images, pdf etc.)\n",
        "\n",
        "text = f.read()   #to read the file.\n",
        "print(text)\n",
        "f.close()"
      ]
    },
    {
      "cell_type": "code",
      "source": [
        "file = open(\"myfile.txt\", \"w\")\n",
        "\n",
        "addtext = file.write(\"Hello World written in write mode. \\n\")    #write operation\n",
        "file.close()       #it is important to close the file after you are done with it.\n",
        "\n",
        "file = open(\"myfile.txt\", \"r\")\n",
        "text = file.read()\n",
        "print(text)\n",
        "file.close()"
      ],
      "metadata": {
        "colab": {
          "base_uri": "https://localhost:8080/"
        },
        "id": "b9df3dwGVkh0",
        "outputId": "df42a0eb-3c5c-44d2-d98e-e0507ee93579"
      },
      "execution_count": 10,
      "outputs": [
        {
          "output_type": "stream",
          "name": "stdout",
          "text": [
            "Hello World written in write mode. \n",
            "\n"
          ]
        }
      ]
    },
    {
      "cell_type": "code",
      "source": [
        "file = open(\"myfile.txt\", \"a\")\n",
        "\n",
        "addtxt = file.write(\"This is second line added by using append mode.\")    #append operation\n",
        "file.close()\n",
        "\n",
        "file = open(\"myfile.txt\", \"r\")\n",
        "text = file.read()\n",
        "print(text)\n",
        "file.close()"
      ],
      "metadata": {
        "colab": {
          "base_uri": "https://localhost:8080/"
        },
        "id": "6klUOINCWIcC",
        "outputId": "e4a47d29-2a04-4ab3-a147-fc19ddd2ac5f"
      },
      "execution_count": 11,
      "outputs": [
        {
          "output_type": "stream",
          "name": "stdout",
          "text": [
            "Hello World written in write mode. \n",
            "This is second line added by using append mode.\n"
          ]
        }
      ]
    },
    {
      "cell_type": "code",
      "source": [
        "#Readline() - read the file line by line.\n",
        "\n",
        "file = open(\"newfile.txt\", 'r')\n",
        "i = 0\n",
        "while True:\n",
        "  i = i + 1\n",
        "  line = file.readline()\n",
        "  if not line:\n",
        "    break\n",
        "  m1 = line.split(\",\")[0]\n",
        "  m2 = line.split(\",\")[1]\n",
        "  m3 = line.split(\",\")[2]\n",
        "\n",
        "  print(f\"Marks of student{i} in maths is {m1}\")\n",
        "  print(f\"Marks of student{i} in English is {m2}\")\n",
        "  print(f\"Marks of student{i} in Hindi is {m3}\")\n",
        "\n",
        "  print(line)\n"
      ],
      "metadata": {
        "colab": {
          "base_uri": "https://localhost:8080/"
        },
        "id": "YcUKVZCAXXOr",
        "outputId": "883aef47-d275-4b23-cd11-2e7be6e78bef"
      },
      "execution_count": 19,
      "outputs": [
        {
          "output_type": "stream",
          "name": "stdout",
          "text": [
            "Marks of student1 in maths is 55\n",
            "Marks of student1 in English is  56\n",
            "Marks of student1 in Hindi is  57\n",
            "\n",
            "55, 56, 57\n",
            "\n",
            "Marks of student2 in maths is 65\n",
            "Marks of student2 in English is  66\n",
            "Marks of student2 in Hindi is  67\n",
            "\n",
            "65, 66, 67\n",
            "\n",
            "Marks of student3 in maths is 77\n",
            "Marks of student3 in English is  78\n",
            "Marks of student3 in Hindi is  79\n",
            "77, 78, 79\n"
          ]
        }
      ]
    },
    {
      "cell_type": "code",
      "source": [
        "#Write a file.\n",
        "\n",
        "f = open(\"myfile1.txt\", 'w')\n",
        "lines = ['line1 \\n', 'line2 \\n', 'line3 \\n']\n",
        "f.writelines(lines)\n",
        "f.close()"
      ],
      "metadata": {
        "id": "zyFqe54vdcP2"
      },
      "execution_count": 20,
      "outputs": []
    },
    {
      "cell_type": "code",
      "source": [],
      "metadata": {
        "id": "pk-aJmbdgr9-"
      },
      "execution_count": null,
      "outputs": []
    }
  ]
}