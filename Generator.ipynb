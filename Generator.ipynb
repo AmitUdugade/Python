{
  "nbformat": 4,
  "nbformat_minor": 0,
  "metadata": {
    "colab": {
      "provenance": [],
      "authorship_tag": "ABX9TyOPOBZoCtc0tSGOzsMk3GWN",
      "include_colab_link": true
    },
    "kernelspec": {
      "name": "python3",
      "display_name": "Python 3"
    },
    "language_info": {
      "name": "python"
    }
  },
  "cells": [
    {
      "cell_type": "markdown",
      "metadata": {
        "id": "view-in-github",
        "colab_type": "text"
      },
      "source": [
        "<a href=\"https://colab.research.google.com/github/AmitUdugade/PythonWorkspace/blob/main/Generator.ipynb\" target=\"_parent\"><img src=\"https://colab.research.google.com/assets/colab-badge.svg\" alt=\"Open In Colab\"/></a>"
      ]
    },
    {
      "cell_type": "code",
      "execution_count": 1,
      "metadata": {
        "colab": {
          "base_uri": "https://localhost:8080/"
        },
        "id": "CfX7MiDvvg7V",
        "outputId": "e8dfd799-036b-42ec-ad7f-10a8fbe954a1"
      },
      "outputs": [
        {
          "output_type": "stream",
          "name": "stdout",
          "text": [
            "0\n",
            "1\n",
            "2\n",
            "3\n",
            "4\n"
          ]
        }
      ],
      "source": [
        "#Generator -\n",
        "''' Generators in Python are special type of functions that allow you to create an iterable sequence of values.\n",
        "    A generator function returns a generator object, which can be used to generate the values one-by-one as you iterate over it.\n",
        "\n",
        "    In Python, you can create a generator by using the yield statement in a function.\n",
        "    The yield statement returns a value from the generator and suspends the execution of the function until the next value is requested.\n",
        "'''\n",
        "\n",
        "def my_generator():\n",
        "    for i in range(5):\n",
        "        yield i\n",
        "\n",
        "gen = my_generator()\n",
        "print(next(gen))\n",
        "print(next(gen))\n",
        "print(next(gen))\n",
        "print(next(gen))\n",
        "print(next(gen))"
      ]
    },
    {
      "cell_type": "code",
      "source": [
        "def my_generator():\n",
        "    for i in range(5):\n",
        "        yield i\n",
        "\n",
        "gen = my_generator()\n",
        "\n",
        "for j in gen:\n",
        "  print(j)"
      ],
      "metadata": {
        "colab": {
          "base_uri": "https://localhost:8080/"
        },
        "id": "Xq-lGvLExWth",
        "outputId": "fc2d43e9-96d8-4e86-be6f-5c904adfd1ef"
      },
      "execution_count": 3,
      "outputs": [
        {
          "output_type": "stream",
          "name": "stdout",
          "text": [
            "0\n",
            "1\n",
            "2\n",
            "3\n",
            "4\n"
          ]
        }
      ]
    },
    {
      "cell_type": "code",
      "source": [],
      "metadata": {
        "id": "OIMahNh3xZ4I"
      },
      "execution_count": null,
      "outputs": []
    }
  ]
}