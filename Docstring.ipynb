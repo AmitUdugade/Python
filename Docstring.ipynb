{
  "nbformat": 4,
  "nbformat_minor": 0,
  "metadata": {
    "colab": {
      "provenance": [],
      "authorship_tag": "ABX9TyNzB7JDA8em2nxqcVE3gv7+",
      "include_colab_link": true
    },
    "kernelspec": {
      "name": "python3",
      "display_name": "Python 3"
    },
    "language_info": {
      "name": "python"
    }
  },
  "cells": [
    {
      "cell_type": "markdown",
      "metadata": {
        "id": "view-in-github",
        "colab_type": "text"
      },
      "source": [
        "<a href=\"https://colab.research.google.com/github/AmitUdugade/PythonBasicsWorkspace/blob/main/Docstring.ipynb\" target=\"_parent\"><img src=\"https://colab.research.google.com/assets/colab-badge.svg\" alt=\"Open In Colab\"/></a>"
      ]
    },
    {
      "cell_type": "code",
      "execution_count": 2,
      "metadata": {
        "colab": {
          "base_uri": "https://localhost:8080/"
        },
        "id": "haZJRVMpu1QB",
        "outputId": "c6b17d0f-722c-42e6-b958-661a83d39a49"
      },
      "outputs": [
        {
          "output_type": "stream",
          "name": "stdout",
          "text": [
            "25\n",
            "Take a number n and\n",
            "      returns the square of n \n"
          ]
        }
      ],
      "source": [
        "#Docstrings are the strings used right after the defination of the dunction and method, class, module.  They are used to document our code.\n",
        "#PEP 8 is a document that provices guidlines and best practises on how to write python code.\n",
        "def square(n):\n",
        "  '''Take a number n and\n",
        "      returns the square of n '''\n",
        "  print(n**2)\n",
        "\n",
        "square(5)\n",
        "print(square.__doc__)"
      ]
    },
    {
      "cell_type": "code",
      "source": [],
      "metadata": {
        "id": "nDEln206-2kp"
      },
      "execution_count": null,
      "outputs": []
    }
  ]
}