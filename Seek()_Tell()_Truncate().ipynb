{
  "nbformat": 4,
  "nbformat_minor": 0,
  "metadata": {
    "colab": {
      "provenance": [],
      "authorship_tag": "ABX9TyMATJkqHrEBiAtqqr516oAU",
      "include_colab_link": true
    },
    "kernelspec": {
      "name": "python3",
      "display_name": "Python 3"
    },
    "language_info": {
      "name": "python"
    }
  },
  "cells": [
    {
      "cell_type": "markdown",
      "metadata": {
        "id": "view-in-github",
        "colab_type": "text"
      },
      "source": [
        "<a href=\"https://colab.research.google.com/github/AmitUdugade/PythonBasicsWorkspace/blob/main/Seek()_Tell()_Truncate().ipynb\" target=\"_parent\"><img src=\"https://colab.research.google.com/assets/colab-badge.svg\" alt=\"Open In Colab\"/></a>"
      ]
    },
    {
      "cell_type": "code",
      "execution_count": 11,
      "metadata": {
        "colab": {
          "base_uri": "https://localhost:8080/"
        },
        "id": "9iYITrN07kxX",
        "outputId": "cb7bfa1d-7c3f-4b91-b5a1-3175ee950346"
      },
      "outputs": [
        {
          "output_type": "stream",
          "name": "stdout",
          "text": [
            "et\n"
          ]
        }
      ],
      "source": [
        "#Seek() and tell() Functions -\n",
        "#Seek() - allows you to move the current position within the file to a specific point.\n",
        "#         you can move either forward or backward from the current position.\n",
        "#         position is specified in byte.\n",
        "\n",
        "file = open(\"myfile.txt\" , 'r')\n",
        "\n",
        "tx = file.seek(10)    # it will jump directly to 10th position. and from there it will print the rest of the file content.\n",
        "text = file.read(2)   # from seek() position, print the content till 2nd position.\n",
        "\n",
        "print(text)\n",
        "\n",
        "file.close()"
      ]
    },
    {
      "cell_type": "code",
      "source": [
        "#tell() - returns the current position within the file, in bytes.\n",
        "#         This can be useful for keeping track of your location within the file.\n",
        "\n",
        "file = open(\"myfile.txt\", 'r')\n",
        "\n",
        "file.seek(10)\n",
        "print(file.tell())    #returns the current position within the file.\n",
        "\n",
        "text = file.read(2)\n",
        "print(text)\n",
        "\n",
        "file.close()"
      ],
      "metadata": {
        "colab": {
          "base_uri": "https://localhost:8080/"
        },
        "id": "qPBaPh3d8jnT",
        "outputId": "32c26205-5b6a-45c2-c9b5-bc2a2d2884df"
      },
      "execution_count": 13,
      "outputs": [
        {
          "output_type": "stream",
          "name": "stdout",
          "text": [
            "10\n",
            "et\n"
          ]
        }
      ]
    },
    {
      "cell_type": "code",
      "source": [
        "#truncate() - If you want to truncate the file to a specific size.\n",
        "\n",
        "file = open(\"newfile.txt\", 'w')\n",
        "file.write(\"Hello World\")\n",
        "file.truncate(5)\n",
        "file.close()\n",
        "\n",
        "file = open(\"newfile.txt\", 'r')\n",
        "txt = file.read()\n",
        "print(txt)\n",
        "file.close()"
      ],
      "metadata": {
        "colab": {
          "base_uri": "https://localhost:8080/"
        },
        "id": "OJqCWd9GAl25",
        "outputId": "7ce5dc31-0970-4405-81c9-71fb841f7733"
      },
      "execution_count": 22,
      "outputs": [
        {
          "output_type": "stream",
          "name": "stdout",
          "text": [
            "Hello\n"
          ]
        }
      ]
    },
    {
      "cell_type": "code",
      "source": [],
      "metadata": {
        "id": "lD7J9xgsBexj"
      },
      "execution_count": null,
      "outputs": []
    }
  ]
}