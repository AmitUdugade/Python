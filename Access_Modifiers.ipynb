{
  "nbformat": 4,
  "nbformat_minor": 0,
  "metadata": {
    "colab": {
      "provenance": [],
      "authorship_tag": "ABX9TyNkiTqbZ3QUeSpIDZnakf1g",
      "include_colab_link": true
    },
    "kernelspec": {
      "name": "python3",
      "display_name": "Python 3"
    },
    "language_info": {
      "name": "python"
    }
  },
  "cells": [
    {
      "cell_type": "markdown",
      "metadata": {
        "id": "view-in-github",
        "colab_type": "text"
      },
      "source": [
        "<a href=\"https://colab.research.google.com/github/AmitUdugade/PythonWorkspace/blob/main/Access_Modifiers.ipynb\" target=\"_parent\"><img src=\"https://colab.research.google.com/assets/colab-badge.svg\" alt=\"Open In Colab\"/></a>"
      ]
    },
    {
      "cell_type": "code",
      "source": [
        "#Access Modifiers =\n",
        "'''Access specifiers or access modifiers in python programming are used to limit the access of class variables and\n",
        "   class methods outside of class while implementing the concepts of inheritance.\n",
        "\n",
        "   Types of access specifiers -\n",
        "    1. Public access modifier\n",
        "    2. Private access modifier\n",
        "    3. Protected access modifier\n",
        "'''\n"
      ],
      "metadata": {
        "id": "8hAytX68FOCL"
      },
      "execution_count": null,
      "outputs": []
    },
    {
      "cell_type": "code",
      "execution_count": 4,
      "metadata": {
        "colab": {
          "base_uri": "https://localhost:8080/"
        },
        "id": "AXfnMWDUDA-a",
        "outputId": "46cdc141-42b8-47ce-add9-efe5fa6da57d"
      },
      "outputs": [
        {
          "output_type": "stream",
          "name": "stdout",
          "text": [
            "amit\n"
          ]
        }
      ],
      "source": [
        "class Employee:\n",
        "  def __init__(self):\n",
        "    self.__name = \"amit\"\n",
        "\n",
        "print(a._Employee__name)"
      ]
    },
    {
      "cell_type": "code",
      "source": [
        "#Private Access Modifier -\n",
        "\n",
        "class Student:\n",
        "    def __init__(self, age, name):\n",
        "        self.__age = age      # An indication of private variable\n",
        "\n",
        "        def __funName(self):  # An indication of private function\n",
        "            self.y = 34\n",
        "            print(self.y)\n",
        "\n",
        "class Subject(Student):\n",
        "    pass\n",
        "\n",
        "obj = Student(21,\"Harry\")\n",
        "obj1 = Subject\n",
        "\n",
        "# calling by object of class Student\n",
        "print(obj.__age)\n",
        "print(obj.__funName())\n",
        "\n",
        "# calling by object  of class Subject\n",
        "print(obj1.__age)\n",
        "print(obj1.__funName())"
      ],
      "metadata": {
        "id": "xp1jUpTGDOZs"
      },
      "execution_count": null,
      "outputs": []
    },
    {
      "cell_type": "code",
      "source": [
        "#Name mangling in Python is a technique used to protect class-private and superclass-private attributes from being accidentally overwritten by subclasses.\n",
        "\n",
        "class MyClass:\n",
        "    def __init__(self):\n",
        "        self._nonmangled_attribute = \"I am a nonmangled attribute\"\n",
        "        self.__mangled_attribute = \"I am a mangled attribute\"\n",
        "\n",
        "my_object = MyClass()\n",
        "\n",
        "print(my_object._nonmangled_attribute) # Output: I am a nonmangled attribute\n",
        "print(my_object.__mangled_attribute) # Throws an AttributeError\n",
        "print(my_object._MyClass__mangled_attribute) # Output: I am a mangled attribute"
      ],
      "metadata": {
        "colab": {
          "base_uri": "https://localhost:8080/",
          "height": 211
        },
        "id": "T401apnDGgs-",
        "outputId": "183ac362-0e6a-4a22-8388-485ebc40d128"
      },
      "execution_count": 6,
      "outputs": [
        {
          "output_type": "stream",
          "name": "stdout",
          "text": [
            "I am a nonmangled attribute\n"
          ]
        },
        {
          "output_type": "error",
          "ename": "AttributeError",
          "evalue": "'MyClass' object has no attribute '__mangled_attribute'",
          "traceback": [
            "\u001b[0;31m---------------------------------------------------------------------------\u001b[0m",
            "\u001b[0;31mAttributeError\u001b[0m                            Traceback (most recent call last)",
            "\u001b[0;32m<ipython-input-6-3419eda2472a>\u001b[0m in \u001b[0;36m<cell line: 9>\u001b[0;34m()\u001b[0m\n\u001b[1;32m      7\u001b[0m \u001b[0;34m\u001b[0m\u001b[0m\n\u001b[1;32m      8\u001b[0m \u001b[0mprint\u001b[0m\u001b[0;34m(\u001b[0m\u001b[0mmy_object\u001b[0m\u001b[0;34m.\u001b[0m\u001b[0m_nonmangled_attribute\u001b[0m\u001b[0;34m)\u001b[0m \u001b[0;31m# Output: I am a nonmangled attribute\u001b[0m\u001b[0;34m\u001b[0m\u001b[0;34m\u001b[0m\u001b[0m\n\u001b[0;32m----> 9\u001b[0;31m \u001b[0mprint\u001b[0m\u001b[0;34m(\u001b[0m\u001b[0mmy_object\u001b[0m\u001b[0;34m.\u001b[0m\u001b[0m__mangled_attribute\u001b[0m\u001b[0;34m)\u001b[0m \u001b[0;31m# Throws an AttributeError\u001b[0m\u001b[0;34m\u001b[0m\u001b[0;34m\u001b[0m\u001b[0m\n\u001b[0m\u001b[1;32m     10\u001b[0m \u001b[0mprint\u001b[0m\u001b[0;34m(\u001b[0m\u001b[0mmy_object\u001b[0m\u001b[0;34m.\u001b[0m\u001b[0m_MyClass__mangled_attribute\u001b[0m\u001b[0;34m)\u001b[0m \u001b[0;31m# Output: I am a mangled attribute\u001b[0m\u001b[0;34m\u001b[0m\u001b[0;34m\u001b[0m\u001b[0m\n",
            "\u001b[0;31mAttributeError\u001b[0m: 'MyClass' object has no attribute '__mangled_attribute'"
          ]
        }
      ]
    }
  ]
}