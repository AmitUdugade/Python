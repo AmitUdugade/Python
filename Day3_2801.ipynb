{
  "nbformat": 4,
  "nbformat_minor": 0,
  "metadata": {
    "colab": {
      "provenance": [],
      "authorship_tag": "ABX9TyPvXjkQ7S3YIubnKxG0WM2W",
      "include_colab_link": true
    },
    "kernelspec": {
      "name": "python3",
      "display_name": "Python 3"
    },
    "language_info": {
      "name": "python"
    }
  },
  "cells": [
    {
      "cell_type": "markdown",
      "metadata": {
        "id": "view-in-github",
        "colab_type": "text"
      },
      "source": [
        "<a href=\"https://colab.research.google.com/github/AmitUdugade/Python/blob/main/Day_3_2801.ipynb\" target=\"_parent\"><img src=\"https://colab.research.google.com/assets/colab-badge.svg\" alt=\"Open In Colab\"/></a>"
      ]
    },
    {
      "cell_type": "code",
      "execution_count": null,
      "metadata": {
        "colab": {
          "base_uri": "https://localhost:8080/"
        },
        "id": "m5Cv741t1OQ-",
        "outputId": "9d472a0c-1008-4e35-8d78-4d8d0ca0866a"
      },
      "outputs": [
        {
          "output_type": "execute_result",
          "data": {
            "text/plain": [
              "{'boy', 'is'}"
            ]
          },
          "metadata": {},
          "execution_count": 5
        }
      ],
      "source": [
        "s1 = 'Amit is good boy'\n",
        "s2 = 'Pritam is bad boy'\n",
        "\n",
        "ss1 = set(s1.split())\n",
        "ss2 = set(s2.split())\n",
        "\n",
        "\n",
        "ss1.intersection(ss2)  #shows common\n"
      ]
    },
    {
      "cell_type": "code",
      "source": [
        "s1 = 'Amit is good boy'\n",
        "s2 = 'Pritam is bad boy'\n",
        "\n",
        "ss1 = set(s1.split())\n",
        "ss1\n"
      ],
      "metadata": {
        "colab": {
          "base_uri": "https://localhost:8080/"
        },
        "id": "yAA3S2qk28ZG",
        "outputId": "f3dbb148-7804-4e96-da56-1b04b36247b3"
      },
      "execution_count": null,
      "outputs": [
        {
          "output_type": "execute_result",
          "data": {
            "text/plain": [
              "{'Amit', 'boy', 'good', 'is'}"
            ]
          },
          "metadata": {},
          "execution_count": 10
        }
      ]
    },
    {
      "cell_type": "code",
      "source": [
        "bb =s1.split()\n",
        "type(bb)\n",
        "bb[2]"
      ],
      "metadata": {
        "colab": {
          "base_uri": "https://localhost:8080/",
          "height": 36
        },
        "id": "KvhOhUdB3RgM",
        "outputId": "3281bafe-ac37-4958-f5b6-55ac84245f6c"
      },
      "execution_count": null,
      "outputs": [
        {
          "output_type": "execute_result",
          "data": {
            "text/plain": [
              "'good'"
            ],
            "application/vnd.google.colaboratory.intrinsic+json": {
              "type": "string"
            }
          },
          "metadata": {},
          "execution_count": 15
        }
      ]
    },
    {
      "cell_type": "code",
      "source": [
        "ss1.symmetric_difference(ss2)  #shows unique"
      ],
      "metadata": {
        "colab": {
          "base_uri": "https://localhost:8080/"
        },
        "id": "U9jOdkm_2tfl",
        "outputId": "15d5e452-8ebe-45e9-baf1-dd2ab033fcdc"
      },
      "execution_count": null,
      "outputs": [
        {
          "output_type": "execute_result",
          "data": {
            "text/plain": [
              "{'Amit', 'Pritam', 'bad', 'good'}"
            ]
          },
          "metadata": {},
          "execution_count": 6
        }
      ]
    },
    {
      "cell_type": "code",
      "source": [
        "for i, j in enumerate(bb):\n",
        "    print(f\".....:\", i, j)"
      ],
      "metadata": {
        "colab": {
          "base_uri": "https://localhost:8080/"
        },
        "id": "zxLwzKZO3p28",
        "outputId": "6293a979-25c0-49a6-f948-4ed52dbfd6e3"
      },
      "execution_count": null,
      "outputs": [
        {
          "output_type": "stream",
          "name": "stdout",
          "text": [
            ".....: 0 Amit\n",
            ".....: 1 is\n",
            ".....: 2 good\n",
            ".....: 3 boy\n"
          ]
        }
      ]
    },
    {
      "cell_type": "code",
      "source": [],
      "metadata": {
        "id": "BYjkv6Xw35j0"
      },
      "execution_count": null,
      "outputs": []
    },
    {
      "cell_type": "code",
      "source": [
        "r = [10, 20, 12, 98, 58, 27]\n",
        "r. sort()\n",
        "r[0]\n"
      ],
      "metadata": {
        "id": "YltBsbl54b7N",
        "colab": {
          "base_uri": "https://localhost:8080/"
        },
        "outputId": "cf4c8bab-3796-4c61-a707-38b0170e3b76"
      },
      "execution_count": 7,
      "outputs": [
        {
          "output_type": "execute_result",
          "data": {
            "text/plain": [
              "10"
            ]
          },
          "metadata": {},
          "execution_count": 7
        }
      ]
    },
    {
      "cell_type": "code",
      "source": [
        "ra = (10, 20, 12, 98, 58, 27)\n",
        "sorted(ra)[-2]\n"
      ],
      "metadata": {
        "colab": {
          "base_uri": "https://localhost:8080/"
        },
        "id": "xW2FiNxwrDe6",
        "outputId": "f69f1140-4001-48ed-c333-0d07d45995df"
      },
      "execution_count": 12,
      "outputs": [
        {
          "output_type": "execute_result",
          "data": {
            "text/plain": [
              "58"
            ]
          },
          "metadata": {},
          "execution_count": 12
        }
      ]
    },
    {
      "cell_type": "code",
      "source": [
        "mca = 'Amit Suraj Deepak Ravi'\n",
        "be = 'Ganesh Amit Tejas Suraj'\n",
        "\n",
        "out1 = set(mca.split())\n",
        "out2 = set(be.split())\n",
        "\n",
        "out1.intersection(out2)"
      ],
      "metadata": {
        "colab": {
          "base_uri": "https://localhost:8080/"
        },
        "id": "gDaihBYSsh_5",
        "outputId": "503d877e-f849-4d2d-a12d-a0c2d1718b90"
      },
      "execution_count": 15,
      "outputs": [
        {
          "output_type": "execute_result",
          "data": {
            "text/plain": [
              "{'Amit', 'Suraj'}"
            ]
          },
          "metadata": {},
          "execution_count": 15
        }
      ]
    },
    {
      "cell_type": "code",
      "source": [
        "mc = ['Amit', 'Suraj', 'Deepak', 'Ravi']\n",
        "b = ['Ganesh', 'Amit', 'Tejas', 'Suraj']\n",
        "\n",
        "mt = []\n",
        "\n",
        "for i in mc:\n",
        "  for j in b:\n",
        "   if i not in b:\n",
        "      if j not in mc:\n",
        "        mt.append(i)\n",
        "        mt.append(j)\n",
        "\n",
        "mt"
      ],
      "metadata": {
        "colab": {
          "base_uri": "https://localhost:8080/"
        },
        "id": "InAGOUGPtmiS",
        "outputId": "1ecc6b8a-2a3b-40d3-aa62-933f908098b7"
      },
      "execution_count": 29,
      "outputs": [
        {
          "output_type": "execute_result",
          "data": {
            "text/plain": [
              "['Deepak', 'Ganesh', 'Deepak', 'Tejas', 'Ravi', 'Ganesh', 'Ravi', 'Tejas']"
            ]
          },
          "metadata": {},
          "execution_count": 29
        }
      ]
    },
    {
      "cell_type": "code",
      "source": [
        "mtd = []\n",
        "\n",
        "for i in mc:\n",
        "  if i not in b:\n",
        "    mtd.append(i)\n",
        "\n",
        "for j in b:\n",
        "  if j not in mc:\n",
        "    mtd.append(j)\n",
        "\n",
        "mtd"
      ],
      "metadata": {
        "colab": {
          "base_uri": "https://localhost:8080/"
        },
        "id": "hfIrVMqqv-gD",
        "outputId": "d7b104ef-38fc-49c0-fd05-d708c92b9cd9"
      },
      "execution_count": 31,
      "outputs": [
        {
          "output_type": "execute_result",
          "data": {
            "text/plain": [
              "['Deepak', 'Ravi', 'Ganesh', 'Tejas']"
            ]
          },
          "metadata": {},
          "execution_count": 31
        }
      ]
    },
    {
      "cell_type": "code",
      "source": [],
      "metadata": {
        "colab": {
          "base_uri": "https://localhost:8080/"
        },
        "id": "a9sqiVfkvRWx",
        "outputId": "feae6644-6993-412f-e6c9-3e8f95066634"
      },
      "execution_count": 26,
      "outputs": [
        {
          "output_type": "execute_result",
          "data": {
            "text/plain": [
              "False"
            ]
          },
          "metadata": {},
          "execution_count": 26
        }
      ]
    },
    {
      "cell_type": "code",
      "source": [
        "mtd = []\n",
        "\n",
        "for i in mc:\n",
        "  if i in b:\n",
        "    mtd.append(i)"
      ],
      "metadata": {
        "id": "EjayqSfZveO1"
      },
      "execution_count": 32,
      "outputs": []
    },
    {
      "cell_type": "code",
      "source": [
        "mtd"
      ],
      "metadata": {
        "colab": {
          "base_uri": "https://localhost:8080/"
        },
        "id": "Ao8MZ-lH1IZ_",
        "outputId": "01c58e32-36c8-4dcb-e004-bcb2c633fa24"
      },
      "execution_count": 33,
      "outputs": [
        {
          "output_type": "execute_result",
          "data": {
            "text/plain": [
              "['Amit', 'Suraj']"
            ]
          },
          "metadata": {},
          "execution_count": 33
        }
      ]
    },
    {
      "cell_type": "code",
      "source": [],
      "metadata": {
        "id": "l4ybCc5-1JZZ"
      },
      "execution_count": null,
      "outputs": []
    }
  ]
}
