{
  "nbformat": 4,
  "nbformat_minor": 0,
  "metadata": {
    "colab": {
      "provenance": [],
      "authorship_tag": "ABX9TyOCTjXhkCEsncc4r2ycIXug",
      "include_colab_link": true
    },
    "kernelspec": {
      "name": "python3",
      "display_name": "Python 3"
    },
    "language_info": {
      "name": "python"
    }
  },
  "cells": [
    {
      "cell_type": "markdown",
      "metadata": {
        "id": "view-in-github",
        "colab_type": "text"
      },
      "source": [
        "<a href=\"https://colab.research.google.com/github/AmitUdugade/PythonWorkspace/blob/main/Function_Arguments.ipynb\" target=\"_parent\"><img src=\"https://colab.research.google.com/assets/colab-badge.svg\" alt=\"Open In Colab\"/></a>"
      ]
    },
    {
      "cell_type": "code",
      "execution_count": null,
      "metadata": {
        "id": "KejNoWz6-mf9"
      },
      "outputs": [],
      "source": [
        "#Function Arguments/Parameters\n",
        "'''1. Positional Arguments - In which sequence order of objects are matters.\n",
        "   2. Keyword Arguments.\n",
        "   3. Default Arguments.\n",
        "   4. Variable length Arguments.\n",
        "'''"
      ]
    },
    {
      "cell_type": "code",
      "source": [
        "# 1. Positional Arguments -\n",
        "\n",
        "\n",
        "def details(day, month, year):\n",
        "  print('Day', day)\n",
        "  print('Month', month)\n",
        "  print('Year', year)\n",
        "\n",
        "details(10, 'Feb', 2024)\n",
        "\n",
        "#but what if we change the order of the arguments.\n",
        "print(\"\\n\")\n",
        "details(2024, 10, 'Feb')    #to overcome this problem we use keyword arguments."
      ],
      "metadata": {
        "colab": {
          "base_uri": "https://localhost:8080/"
        },
        "id": "E5YGphHC_bxf",
        "outputId": "d918a35a-cdaa-44df-b093-45baa99dbf42"
      },
      "execution_count": 5,
      "outputs": [
        {
          "output_type": "stream",
          "name": "stdout",
          "text": [
            "Day 10\n",
            "Month Feb\n",
            "Year 2024\n",
            "\n",
            "\n",
            "Day 2024\n",
            "Month 10\n",
            "Year Feb\n"
          ]
        }
      ]
    },
    {
      "cell_type": "code",
      "source": [
        "# 2. Keyword Arguments -\n",
        "\n",
        "def details(day, month, year):\n",
        "  print('Day', day)\n",
        "  print('Month', month)\n",
        "  print('Year', year)\n",
        "\n",
        "details(year = 2024, day = 10, month = 'Feb')"
      ],
      "metadata": {
        "colab": {
          "base_uri": "https://localhost:8080/"
        },
        "id": "toK8Sm-A_oB4",
        "outputId": "008f51b7-675f-4380-85fb-02953f2c658c"
      },
      "execution_count": 6,
      "outputs": [
        {
          "output_type": "stream",
          "name": "stdout",
          "text": [
            "Day 10\n",
            "Month Feb\n",
            "Year 2024\n"
          ]
        }
      ]
    },
    {
      "cell_type": "code",
      "source": [
        "# 3. Default Arguments - we use at the time of declaration.\n",
        "\n",
        "def bank_details(acc_no, branch = \"Dadar\"):\n",
        "  print('Account no - ', acc_no)\n",
        "  print('Branch - ', branch)\n",
        "\n",
        "bank_details(101, 'Prabhadevi')\n",
        "bank_details(102)"
      ],
      "metadata": {
        "colab": {
          "base_uri": "https://localhost:8080/"
        },
        "id": "JfhWY8W5AMYg",
        "outputId": "b5621ac0-1cc8-4225-a4c8-e21a207d4d11"
      },
      "execution_count": 8,
      "outputs": [
        {
          "output_type": "stream",
          "name": "stdout",
          "text": [
            "Account no -  101\n",
            "Branch -  Prabhadevi\n",
            "Account no -  102\n",
            "Branch -  Dadar\n"
          ]
        }
      ]
    },
    {
      "cell_type": "code",
      "source": [
        "# 4. Variable length Arguments -\n",
        "'''   a) Positional variable length - *args\n",
        "      b) Keyword Variable length - **kwargs\n",
        "\n",
        "\n",
        "def num(n):\n",
        "  print(n)\n",
        "\n",
        "num(1)\n",
        "num(1, 3, 5) #TypeError: num() takes 1 positional argument but 3 were given\n",
        "num() TypeError: num() takes 1 positional argument but were given none.\n",
        "num(1, 2, 3, 4) TypeError: num() takes 1 positional argument but 4 were given\n",
        "'''\n",
        "#to overcome this problem, we use *n while declarion of the function.\n",
        "# a) Positional variable Length - *args\n",
        "\n",
        "def num(*n):\n",
        "  print(n)\n",
        "\n",
        "num(1)\n",
        "num(1, 3, 5)\n",
        "num()\n",
        "num(1, 2, 3, 4)\n",
        "num(1, 2,'ajit','seema')\n"
      ],
      "metadata": {
        "colab": {
          "base_uri": "https://localhost:8080/"
        },
        "id": "Tjx7OAWEA4z0",
        "outputId": "971476d1-e80c-4512-fa42-bfbe2a15d3a9"
      },
      "execution_count": 16,
      "outputs": [
        {
          "output_type": "stream",
          "name": "stdout",
          "text": [
            "(1,)\n",
            "(1, 3, 5)\n",
            "()\n",
            "(1, 2, 3, 4)\n",
            "(1, 2, 'ajit', 'seema')\n"
          ]
        }
      ]
    },
    {
      "cell_type": "code",
      "source": [
        "# b) Keyword variable length - **kwargs\n",
        "\n",
        "def num(**n):\n",
        "  print(n)\n",
        "\n",
        "num(num = 1)\n",
        "num(name = 'amit', age = 28)\n"
      ],
      "metadata": {
        "colab": {
          "base_uri": "https://localhost:8080/"
        },
        "id": "X9hmWGv9CJ8E",
        "outputId": "3114b994-6d46-4cf3-d8a2-bdfd4a5bdc35"
      },
      "execution_count": 21,
      "outputs": [
        {
          "output_type": "stream",
          "name": "stdout",
          "text": [
            "{'num': 1}\n",
            "{'name': 'amit', 'age': 28}\n"
          ]
        }
      ]
    },
    {
      "cell_type": "code",
      "source": [],
      "metadata": {
        "id": "SP2WPURUEhRo"
      },
      "execution_count": null,
      "outputs": []
    }
  ]
}