{
  "nbformat": 4,
  "nbformat_minor": 0,
  "metadata": {
    "colab": {
      "provenance": [],
      "authorship_tag": "ABX9TyNeiiZznWN0d1gZO9KO0GOG",
      "include_colab_link": true
    },
    "kernelspec": {
      "name": "python3",
      "display_name": "Python 3"
    },
    "language_info": {
      "name": "python"
    }
  },
  "cells": [
    {
      "cell_type": "markdown",
      "metadata": {
        "id": "view-in-github",
        "colab_type": "text"
      },
      "source": [
        "<a href=\"https://colab.research.google.com/github/AmitUdugade/PythonBasicsWorkspace/blob/main/Finally_Clause.ipynb\" target=\"_parent\"><img src=\"https://colab.research.google.com/assets/colab-badge.svg\" alt=\"Open In Colab\"/></a>"
      ]
    },
    {
      "cell_type": "code",
      "execution_count": 13,
      "metadata": {
        "colab": {
          "base_uri": "https://localhost:8080/"
        },
        "id": "8-Rb8ON-6Zk5",
        "outputId": "c884ebd4-e425-478d-b603-0345b5ca305a"
      },
      "outputs": [
        {
          "output_type": "stream",
          "name": "stdout",
          "text": [
            "Enter the Index Number : 2\n",
            "Value at given index is 3 \n",
            "\n",
            "I am always executed. I am inside finally block.\n"
          ]
        },
        {
          "output_type": "execute_result",
          "data": {
            "text/plain": [
              "1"
            ]
          },
          "metadata": {},
          "execution_count": 13
        }
      ],
      "source": [
        "#Finally Clause -\n",
        "\"\"\"  The Finally code block is also part of exception handling.\n",
        "     When we handle the execution using try and except block, we can include a finally block at the end.\n",
        "     The Finally block is always executed.\n",
        "     so generally, it is used for doing conclusion tasks like closing the file resources, closing the DB connection or may be ending the program execution  with delightful message.\n",
        "    \"\"\"\n",
        "def func1():\n",
        "  try:\n",
        "    l = [1, 2, 3, 4]\n",
        "    i = int(input(\"Enter the Index Number : \"))\n",
        "    print(\"Value at given index is\" , l[i])\n",
        "    return 1\n",
        "  except:\n",
        "    print(\"Some error occured. Index not found\")\n",
        "    return 0\n",
        "  finally:\n",
        "    print(\"I am always executed. I am inside finally block.\")\n",
        "\n",
        "func1()"
      ]
    },
    {
      "cell_type": "code",
      "source": [],
      "metadata": {
        "id": "mUuy2Ihd7N1u"
      },
      "execution_count": null,
      "outputs": []
    }
  ]
}