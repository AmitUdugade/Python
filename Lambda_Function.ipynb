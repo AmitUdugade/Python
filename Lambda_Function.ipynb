{
  "nbformat": 4,
  "nbformat_minor": 0,
  "metadata": {
    "colab": {
      "provenance": [],
      "authorship_tag": "ABX9TyObmgwDPOW5Ck9vehYVhT3Q",
      "include_colab_link": true
    },
    "kernelspec": {
      "name": "python3",
      "display_name": "Python 3"
    },
    "language_info": {
      "name": "python"
    }
  },
  "cells": [
    {
      "cell_type": "markdown",
      "metadata": {
        "id": "view-in-github",
        "colab_type": "text"
      },
      "source": [
        "<a href=\"https://colab.research.google.com/github/AmitUdugade/PythonWorkspace/blob/main/Lambda_Function.ipynb\" target=\"_parent\"><img src=\"https://colab.research.google.com/assets/colab-badge.svg\" alt=\"Open In Colab\"/></a>"
      ]
    },
    {
      "cell_type": "code",
      "execution_count": null,
      "metadata": {
        "colab": {
          "base_uri": "https://localhost:8080/"
        },
        "id": "z0V1TXJlFlBj",
        "outputId": "779f040e-e7e4-485d-af6c-612cceb78dce"
      },
      "outputs": [
        {
          "output_type": "stream",
          "name": "stdout",
          "text": [
            "10\n"
          ]
        }
      ],
      "source": [
        "#Lambda Function - is small anonymous function without a name.(nameless function)\n",
        "#                - It is defined using the lambda keyword.\n",
        "\n",
        "'''\n",
        "  syntax :\n",
        "            lambda arguments : expression\n",
        "              '''\n",
        "\n",
        "double = lambda x : x*2\n",
        "\n",
        "print(double(5))"
      ]
    },
    {
      "cell_type": "code",
      "source": [
        "cube = lambda x : x * x * x\n",
        "\n",
        "print(cube(5))"
      ],
      "metadata": {
        "colab": {
          "base_uri": "https://localhost:8080/"
        },
        "id": "1fHh0588Fr0M",
        "outputId": "029d0cb2-9db5-48c6-de7f-7e838c7dd838"
      },
      "execution_count": null,
      "outputs": [
        {
          "output_type": "stream",
          "name": "stdout",
          "text": [
            "125\n"
          ]
        }
      ]
    },
    {
      "cell_type": "code",
      "source": [
        "avg = lambda x, y : (x+y)/2\n",
        "\n",
        "print(avg(3,5))"
      ],
      "metadata": {
        "colab": {
          "base_uri": "https://localhost:8080/"
        },
        "id": "Em6987qBGxfz",
        "outputId": "16f0900f-439b-4e70-b20e-e4f0d0cc20a9"
      },
      "execution_count": null,
      "outputs": [
        {
          "output_type": "stream",
          "name": "stdout",
          "text": [
            "4.0\n"
          ]
        }
      ]
    },
    {
      "cell_type": "code",
      "source": [
        "def appl(fx, value):\n",
        "  return 6 + fx(value)\n",
        "\n",
        "print(appl(cube, 2))"
      ],
      "metadata": {
        "colab": {
          "base_uri": "https://localhost:8080/"
        },
        "id": "IM-NqLAsG_cN",
        "outputId": "ed5a182f-95a3-4acb-a94a-8e31b647cbab"
      },
      "execution_count": null,
      "outputs": [
        {
          "output_type": "stream",
          "name": "stdout",
          "text": [
            "14\n"
          ]
        }
      ]
    },
    {
      "cell_type": "code",
      "source": [
        "convert = lambda name: name.upper()\n",
        "\n",
        "print(convert('virat Kohli'))"
      ],
      "metadata": {
        "id": "ZR0L8K21IDRT",
        "colab": {
          "base_uri": "https://localhost:8080/"
        },
        "outputId": "53aa5527-3528-4054-a4db-385f5bdae3db"
      },
      "execution_count": 2,
      "outputs": [
        {
          "output_type": "stream",
          "name": "stdout",
          "text": [
            "VIRAT KOHLI\n"
          ]
        }
      ]
    },
    {
      "cell_type": "code",
      "source": [
        "convert = lambda name: name.swapcase()\n",
        "\n",
        "print(convert('viRat Kohli'))"
      ],
      "metadata": {
        "colab": {
          "base_uri": "https://localhost:8080/"
        },
        "id": "cTBFRcmTi1p2",
        "outputId": "e3318b2f-fa12-4038-ae76-2652761fbc70"
      },
      "execution_count": 7,
      "outputs": [
        {
          "output_type": "stream",
          "name": "stdout",
          "text": [
            "VIrAT kOHLI\n"
          ]
        }
      ]
    },
    {
      "cell_type": "code",
      "source": [
        "dir(str)"
      ],
      "metadata": {
        "id": "ywBiIX9ojFEh"
      },
      "execution_count": null,
      "outputs": []
    },
    {
      "cell_type": "code",
      "source": [
        "def add(x, y):\n",
        "  return x + y, x -y    #can give multiple expressions.\n",
        "\n",
        "print(add(10, 20))\n",
        "\n",
        "ad = lambda x, y : x + y, x - y   #you'll get an error as you can't give multiple expressions. lambda accepts only one expression.\n",
        "print(ad(50, 60))"
      ],
      "metadata": {
        "id": "dJvUMbbtjRV8"
      },
      "execution_count": null,
      "outputs": []
    },
    {
      "cell_type": "code",
      "source": [
        "#solution to above error\n",
        "\n",
        "ad = lambda x, y : (x + y, x - y)  #give brackets if you have multiple expressions.\n",
        "\n",
        "print(ad(50, 60))"
      ],
      "metadata": {
        "id": "5TPXesG9k-y1",
        "outputId": "3699426b-12ec-4e9e-b28b-e0c537d8535a",
        "colab": {
          "base_uri": "https://localhost:8080/"
        }
      },
      "execution_count": 12,
      "outputs": [
        {
          "output_type": "stream",
          "name": "stdout",
          "text": [
            "(110, -10)\n"
          ]
        }
      ]
    },
    {
      "cell_type": "code",
      "source": [],
      "metadata": {
        "id": "ZyhUFHhPl6zT"
      },
      "execution_count": null,
      "outputs": []
    }
  ]
}